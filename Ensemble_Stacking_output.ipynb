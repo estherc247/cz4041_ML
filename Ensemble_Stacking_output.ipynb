{
 "cells": [
  {
   "cell_type": "code",
   "execution_count": 1,
   "id": "a649d578",
   "metadata": {
    "execution": {
     "iopub.execute_input": "2021-11-20T04:21:14.072744Z",
     "iopub.status.busy": "2021-11-20T04:21:14.072370Z",
     "iopub.status.idle": "2021-11-20T04:22:56.018259Z",
     "shell.execute_reply": "2021-11-20T04:22:56.018550Z"
    },
    "papermill": {
     "duration": 101.993064,
     "end_time": "2021-11-20T04:22:56.018736",
     "exception": false,
     "start_time": "2021-11-20T04:21:14.025672",
     "status": "completed"
    },
    "tags": []
   },
   "outputs": [],
   "source": [
    "import pandas as pd\n",
    "import os\n",
    "import glob\n",
    "import numpy as np\n",
    "import tensorflow as tf\n",
    "import matplotlib.pyplot as pyplot\n",
    "from tensorflow.keras.preprocessing.image import ImageDataGenerator\n",
    "from tensorflow.keras.layers import GlobalAveragePooling2D, Dense, Dropout, Flatten, BatchNormalization, Average, Input\n",
    "from tensorflow.keras.optimizers import Adam, RMSprop\n",
    "from tensorflow.keras.models import Sequential, Model\n",
    "import tensorflow.keras.applications.resnet50 as resnet50\n",
    "import tensorflow.keras.applications.inception_resnet_v2 as inception_resnet_v2\n",
    "import tensorflow.keras.applications.resnet_v2 as resnet_v2\n",
    "import tensorflow.keras.applications.mobilenet_v2 as mobilenet_v2\n",
    "from tensorflow.keras.callbacks import ModelCheckpoint"
   ]
  },
  {
   "cell_type": "code",
   "execution_count": 2,
   "id": "14d43472",
   "metadata": {
    "execution": {
     "iopub.execute_input": "2021-11-20T04:23:00.987062Z",
     "iopub.status.busy": "2021-11-20T04:23:00.986633Z",
     "iopub.status.idle": "2021-11-20T04:23:00.990730Z",
     "shell.execute_reply": "2021-11-20T04:23:00.990404Z"
    },
    "papermill": {
     "duration": 4.936577,
     "end_time": "2021-11-20T04:23:00.990819",
     "exception": false,
     "start_time": "2021-11-20T04:22:56.054242",
     "status": "completed"
    },
    "tags": []
   },
   "outputs": [
    {
     "name": "stdout",
     "output_type": "stream",
     "text": [
      "Found GPU at: /device:GPU:0\n"
     ]
    },
    {
     "name": "stderr",
     "output_type": "stream",
     "text": [
      "2021-11-20 12:22:56.090080: I tensorflow/core/platform/cpu_feature_guard.cc:142] This TensorFlow binary is optimized with oneAPI Deep Neural Network Library (oneDNN) to use the following CPU instructions in performance-critical operations:  AVX2 AVX512F FMA\n",
      "To enable them in other operations, rebuild TensorFlow with the appropriate compiler flags.\n",
      "2021-11-20 12:23:00.951512: I tensorflow/core/common_runtime/gpu/gpu_device.cc:1510] Created device /device:GPU:0 with 30995 MB memory:  -> device: 0, name: Tesla V100-PCIE-32GB, pci bus id: 0000:37:00.0, compute capability: 7.0\n"
     ]
    }
   ],
   "source": [
    "device_name = tf.test.gpu_device_name()\n",
    "if device_name != '/device:GPU:0':\n",
    "  raise SystemError('GPU device not found')\n",
    "print('Found GPU at: {}'.format(device_name))"
   ]
  },
  {
   "cell_type": "markdown",
   "id": "22c15c15",
   "metadata": {
    "papermill": {
     "duration": 0.035271,
     "end_time": "2021-11-20T04:23:01.061228",
     "exception": false,
     "start_time": "2021-11-20T04:23:01.025957",
     "status": "completed"
    },
    "tags": []
   },
   "source": [
    "# Import Image"
   ]
  },
  {
   "cell_type": "code",
   "execution_count": 3,
   "id": "764f8a3c",
   "metadata": {
    "execution": {
     "iopub.execute_input": "2021-11-20T04:23:01.133476Z",
     "iopub.status.busy": "2021-11-20T04:23:01.133052Z",
     "iopub.status.idle": "2021-11-20T04:23:01.134477Z",
     "shell.execute_reply": "2021-11-20T04:23:01.134740Z"
    },
    "papermill": {
     "duration": 0.039173,
     "end_time": "2021-11-20T04:23:01.134827",
     "exception": false,
     "start_time": "2021-11-20T04:23:01.095654",
     "status": "completed"
    },
    "tags": []
   },
   "outputs": [],
   "source": [
    "NUM_CLASSES=12\n",
    "BATCH_SIZE=16\n",
    "EPOCHS=30\n",
    "IMG_HEIGHT=299\n",
    "IMG_WIDTH=299\n",
    "NUM_HIDDEN_NEURONS=128\n",
    "DROPOUT_RATE=0.4\n",
    "IMG_SHAPE=(IMG_HEIGHT, IMG_WIDTH, 3)"
   ]
  },
  {
   "cell_type": "code",
   "execution_count": 4,
   "id": "f1f1bcf0",
   "metadata": {
    "execution": {
     "iopub.execute_input": "2021-11-20T04:23:01.206771Z",
     "iopub.status.busy": "2021-11-20T04:23:01.206362Z",
     "iopub.status.idle": "2021-11-20T04:23:01.208084Z",
     "shell.execute_reply": "2021-11-20T04:23:01.207781Z"
    },
    "papermill": {
     "duration": 0.038676,
     "end_time": "2021-11-20T04:23:01.208152",
     "exception": false,
     "start_time": "2021-11-20T04:23:01.169476",
     "status": "completed"
    },
    "tags": []
   },
   "outputs": [],
   "source": [
    "base_dir = \"./plant-seedlings-classification\"\n",
    "train_dir = f\"{base_dir}/train/\"\n",
    "test_dir = f\"{base_dir}/test/\""
   ]
  },
  {
   "cell_type": "code",
   "execution_count": 5,
   "id": "0e94e175",
   "metadata": {
    "execution": {
     "iopub.execute_input": "2021-11-20T04:23:01.281660Z",
     "iopub.status.busy": "2021-11-20T04:23:01.281143Z",
     "iopub.status.idle": "2021-11-20T04:23:43.230032Z",
     "shell.execute_reply": "2021-11-20T04:23:43.230314Z"
    },
    "papermill": {
     "duration": 41.987796,
     "end_time": "2021-11-20T04:23:43.230405",
     "exception": false,
     "start_time": "2021-11-20T04:23:01.242609",
     "status": "completed"
    },
    "tags": []
   },
   "outputs": [
    {
     "name": "stdout",
     "output_type": "stream",
     "text": [
      "Found 3803 images belonging to 12 classes.\n",
      "Found 947 images belonging to 12 classes.\n",
      "Found 794 images belonging to 1 classes.\n"
     ]
    }
   ],
   "source": [
    "train_datagen = ImageDataGenerator(\n",
    "    rescale=1./255,\n",
    "    width_shift_range=0.2,\n",
    "    height_shift_range=0.2,\n",
    "    zoom_range=0.2,\n",
    "    shear_range=0.2,\n",
    "    horizontal_flip=True,\n",
    "    fill_mode=\"nearest\",\n",
    "    validation_split=0.2,\n",
    ")\n",
    "\n",
    "test_datagen = ImageDataGenerator(rescale=1./255)\n",
    "train_generator = train_datagen.flow_from_directory(\n",
    "    directory=train_dir,\n",
    "    color_mode =\"rgb\",\n",
    "    batch_size=BATCH_SIZE,\n",
    "    class_mode=\"categorical\",\n",
    "    subset=\"training\"\n",
    ")\n",
    "\n",
    "validation_generator = train_datagen.flow_from_directory(\n",
    "    directory=train_dir,\n",
    "    color_mode=\"rgb\",\n",
    "    batch_size=BATCH_SIZE,\n",
    "    class_mode=\"categorical\",\n",
    "    subset=\"validation\"\n",
    ")\n",
    "\n",
    "test_generator = test_datagen.flow_from_directory(\n",
    "    directory=base_dir,\n",
    "    classes=['test'],\n",
    "    batch_size=1,\n",
    "    color_mode=\"rgb\",\n",
    "    shuffle=False,\n",
    "    class_mode=\"categorical\"\n",
    ")"
   ]
  },
  {
   "cell_type": "markdown",
   "id": "8c72e6db",
   "metadata": {
    "papermill": {
     "duration": 0.034242,
     "end_time": "2021-11-20T04:23:43.299977",
     "exception": false,
     "start_time": "2021-11-20T04:23:43.265735",
     "status": "completed"
    },
    "tags": []
   },
   "source": [
    "# Define base learning algorithms for the stacked model"
   ]
  },
  {
   "cell_type": "code",
   "execution_count": 6,
   "id": "753526b0",
   "metadata": {
    "execution": {
     "iopub.execute_input": "2021-11-20T04:23:43.374809Z",
     "iopub.status.busy": "2021-11-20T04:23:43.374449Z",
     "iopub.status.idle": "2021-11-20T04:23:43.376516Z",
     "shell.execute_reply": "2021-11-20T04:23:43.376790Z"
    },
    "papermill": {
     "duration": 0.042525,
     "end_time": "2021-11-20T04:23:43.376870",
     "exception": false,
     "start_time": "2021-11-20T04:23:43.334345",
     "status": "completed"
    },
    "tags": []
   },
   "outputs": [],
   "source": [
    "def create_compile_resnet50(model_name=None):\n",
    "    \n",
    "    model = Sequential(name=model_name)\n",
    "    model.add(resnet50.ResNet50(include_top=False, weights='imagenet'))\n",
    "    model.add(GlobalAveragePooling2D())\n",
    "    model.add(Dense(128, activation='relu'))\n",
    "    model.add(Dropout(0.4))\n",
    "    model.add(Dense(12, activation='softmax'))\n",
    "    \n",
    "    model.compile(optimizer=Adam(1e-4), loss=\"categorical_crossentropy\", metrics=[\"accuracy\"])\n",
    "    \n",
    "    return model\n",
    "    \n",
    "def create_compile_inception_resnet_v2(model_name=None):\n",
    "    model = Sequential(name=model_name)\n",
    "    # add base pre-trained model\n",
    "    model.add(inception_resnet_v2.InceptionResNetV2(include_top=False, weights='imagenet'))\n",
    "    model.add(GlobalAveragePooling2D())\n",
    "    model.add(Dense(128, activation='relu'))\n",
    "    model.add(Dropout(0.4))\n",
    "    model.add(Dense(12, activation='softmax'))\n",
    "    \n",
    "    model.compile(optimizer=Adam(1e-4), loss=\"categorical_crossentropy\", metrics=[\"accuracy\"])\n",
    "    \n",
    "    return model\n",
    "\n",
    "def create_compile_resnet101_v2(model_name=None):\n",
    "    model = Sequential(name=model_name)\n",
    "    # add base pre-trained model\n",
    "    model.add(resnet_v2.ResNet101V2(include_top=False, weights='imagenet'))\n",
    "    model.add(GlobalAveragePooling2D())\n",
    "    model.add(Dense(128, activation='relu'))\n",
    "    model.add(Dropout(0.4))\n",
    "    model.add(Dense(12, activation='softmax'))\n",
    "    \n",
    "    model.compile(optimizer=Adam(1e-4), loss=\"categorical_crossentropy\", metrics=[\"accuracy\"])\n",
    "    return model\n",
    "    "
   ]
  },
  {
   "cell_type": "code",
   "execution_count": 7,
   "id": "314f0a17",
   "metadata": {
    "execution": {
     "iopub.execute_input": "2021-11-20T04:23:43.449549Z",
     "iopub.status.busy": "2021-11-20T04:23:43.449213Z",
     "iopub.status.idle": "2021-11-20T04:23:43.451240Z",
     "shell.execute_reply": "2021-11-20T04:23:43.451484Z"
    },
    "papermill": {
     "duration": 0.03939,
     "end_time": "2021-11-20T04:23:43.451566",
     "exception": false,
     "start_time": "2021-11-20T04:23:43.412176",
     "status": "completed"
    },
    "tags": []
   },
   "outputs": [],
   "source": [
    "def train(model, num_epochs):\n",
    "\n",
    "    filepath='weights/'+model.name+'.hdf5'\n",
    "    \n",
    "    checkpoint=ModelCheckpoint(\n",
    "                filepath, \n",
    "                monitor='loss', \n",
    "                verbose=0, save_weights_only=True,\n",
    "                save_best_only=True, \n",
    "                mode='max')\n",
    "    with tf.device(\"/device:GPU:0\"):\n",
    "        history=model.fit(\n",
    "              train_generator,\n",
    "              epochs = num_epochs,\n",
    "              validation_data=validation_generator,\n",
    "              callbacks=[checkpoint]\n",
    "        )\n",
    "    weight_files = glob.glob(os.path.join(os.getcwd(), 'weights/*'))\n",
    "    if len(weight_files) > 0:\n",
    "        weight_file = max(weight_files, key=os.path.getctime) # most recent file\n",
    "    else:\n",
    "        weight_file = filepath\n",
    "    return history, weight_file"
   ]
  },
  {
   "cell_type": "code",
   "execution_count": 8,
   "id": "db425973",
   "metadata": {
    "execution": {
     "iopub.execute_input": "2021-11-20T04:23:43.523547Z",
     "iopub.status.busy": "2021-11-20T04:23:43.523187Z",
     "iopub.status.idle": "2021-11-20T05:31:59.417546Z",
     "shell.execute_reply": "2021-11-20T05:31:59.417885Z"
    },
    "papermill": {
     "duration": 4095.932221,
     "end_time": "2021-11-20T05:31:59.418003",
     "exception": false,
     "start_time": "2021-11-20T04:23:43.485782",
     "status": "completed"
    },
    "tags": []
   },
   "outputs": [
    {
     "name": "stderr",
     "output_type": "stream",
     "text": [
      "2021-11-20 12:23:43.544989: I tensorflow/core/common_runtime/gpu/gpu_device.cc:1510] Created device /job:localhost/replica:0/task:0/device:GPU:0 with 30995 MB memory:  -> device: 0, name: Tesla V100-PCIE-32GB, pci bus id: 0000:37:00.0, compute capability: 7.0\n",
      "2021-11-20 12:23:50.154974: I tensorflow/compiler/mlir/mlir_graph_optimization_pass.cc:185] None of the MLIR Optimization Passes are enabled (registered 2)\n"
     ]
    },
    {
     "name": "stdout",
     "output_type": "stream",
     "text": [
      "Epoch 1/30\n"
     ]
    },
    {
     "name": "stderr",
     "output_type": "stream",
     "text": [
      "2021-11-20 12:23:56.829885: I tensorflow/stream_executor/cuda/cuda_dnn.cc:369] Loaded cuDNN version 8201\n"
     ]
    },
    {
     "name": "stdout",
     "output_type": "stream",
     "text": [
      "238/238 [==============================] - 188s 743ms/step - loss: 0.8915 - accuracy: 0.7136 - val_loss: 4.2010 - val_accuracy: 0.0549\n",
      "Epoch 2/30\n",
      "238/238 [==============================] - 115s 483ms/step - loss: 0.3780 - accuracy: 0.8735 - val_loss: 10.6992 - val_accuracy: 0.0665\n",
      "Epoch 3/30\n",
      "238/238 [==============================] - 115s 483ms/step - loss: 0.2782 - accuracy: 0.9095 - val_loss: 4.6958 - val_accuracy: 0.1320\n",
      "Epoch 4/30\n",
      "238/238 [==============================] - 116s 486ms/step - loss: 0.2263 - accuracy: 0.9230 - val_loss: 3.6006 - val_accuracy: 0.2323\n",
      "Epoch 5/30\n",
      "238/238 [==============================] - 117s 493ms/step - loss: 0.2027 - accuracy: 0.9324 - val_loss: 0.3811 - val_accuracy: 0.8807\n",
      "Epoch 6/30\n",
      "238/238 [==============================] - 116s 486ms/step - loss: 0.1679 - accuracy: 0.9424 - val_loss: 0.2237 - val_accuracy: 0.9398\n",
      "Epoch 7/30\n",
      "238/238 [==============================] - 116s 486ms/step - loss: 0.1747 - accuracy: 0.9437 - val_loss: 0.2347 - val_accuracy: 0.9282\n",
      "Epoch 8/30\n",
      "238/238 [==============================] - 116s 486ms/step - loss: 0.1351 - accuracy: 0.9540 - val_loss: 0.4412 - val_accuracy: 0.9029\n",
      "Epoch 9/30\n",
      "238/238 [==============================] - 117s 492ms/step - loss: 0.1327 - accuracy: 0.9564 - val_loss: 0.1978 - val_accuracy: 0.9430\n",
      "Epoch 10/30\n",
      "238/238 [==============================] - 116s 485ms/step - loss: 0.0989 - accuracy: 0.9692 - val_loss: 0.2322 - val_accuracy: 0.9504\n",
      "Epoch 11/30\n",
      "238/238 [==============================] - 116s 489ms/step - loss: 0.0881 - accuracy: 0.9705 - val_loss: 0.2132 - val_accuracy: 0.9546\n",
      "Epoch 12/30\n",
      "238/238 [==============================] - 118s 495ms/step - loss: 0.0995 - accuracy: 0.9695 - val_loss: 0.2305 - val_accuracy: 0.9398\n",
      "Epoch 13/30\n",
      "238/238 [==============================] - 118s 497ms/step - loss: 0.1137 - accuracy: 0.9656 - val_loss: 0.3276 - val_accuracy: 0.9261\n",
      "Epoch 14/30\n",
      "238/238 [==============================] - 117s 492ms/step - loss: 0.1235 - accuracy: 0.9627 - val_loss: 0.2744 - val_accuracy: 0.9293\n",
      "Epoch 15/30\n",
      "238/238 [==============================] - 118s 498ms/step - loss: 0.0846 - accuracy: 0.9742 - val_loss: 0.2996 - val_accuracy: 0.9219\n",
      "Epoch 16/30\n",
      "238/238 [==============================] - 117s 494ms/step - loss: 0.0752 - accuracy: 0.9763 - val_loss: 0.3964 - val_accuracy: 0.9166\n",
      "Epoch 17/30\n",
      "238/238 [==============================] - 119s 498ms/step - loss: 0.0806 - accuracy: 0.9758 - val_loss: 0.2482 - val_accuracy: 0.9335\n",
      "Epoch 18/30\n",
      "238/238 [==============================] - 118s 495ms/step - loss: 0.0989 - accuracy: 0.9729 - val_loss: 0.2245 - val_accuracy: 0.9366\n",
      "Epoch 19/30\n",
      "238/238 [==============================] - 120s 502ms/step - loss: 0.0725 - accuracy: 0.9761 - val_loss: 0.2237 - val_accuracy: 0.9461\n",
      "Epoch 20/30\n",
      "238/238 [==============================] - 120s 503ms/step - loss: 0.0712 - accuracy: 0.9790 - val_loss: 0.1836 - val_accuracy: 0.9556\n",
      "Epoch 21/30\n",
      "238/238 [==============================] - 119s 498ms/step - loss: 0.0392 - accuracy: 0.9869 - val_loss: 0.2912 - val_accuracy: 0.9409\n",
      "Epoch 22/30\n",
      "238/238 [==============================] - 120s 504ms/step - loss: 0.0650 - accuracy: 0.9795 - val_loss: 0.1891 - val_accuracy: 0.9546\n",
      "Epoch 23/30\n",
      "238/238 [==============================] - 119s 500ms/step - loss: 0.0566 - accuracy: 0.9837 - val_loss: 0.3254 - val_accuracy: 0.9271\n",
      "Epoch 24/30\n",
      "238/238 [==============================] - 121s 508ms/step - loss: 0.0831 - accuracy: 0.9753 - val_loss: 0.5488 - val_accuracy: 0.8775\n",
      "Epoch 25/30\n",
      "238/238 [==============================] - 119s 502ms/step - loss: 0.0813 - accuracy: 0.9750 - val_loss: 0.2317 - val_accuracy: 0.9483\n",
      "Epoch 26/30\n",
      "238/238 [==============================] - 122s 514ms/step - loss: 0.0574 - accuracy: 0.9840 - val_loss: 0.2284 - val_accuracy: 0.9504\n",
      "Epoch 27/30\n",
      "238/238 [==============================] - 120s 505ms/step - loss: 0.0635 - accuracy: 0.9813 - val_loss: 0.4965 - val_accuracy: 0.9134\n",
      "Epoch 28/30\n",
      "238/238 [==============================] - 122s 511ms/step - loss: 0.0733 - accuracy: 0.9784 - val_loss: 0.3785 - val_accuracy: 0.9124\n",
      "Epoch 29/30\n",
      "238/238 [==============================] - 121s 507ms/step - loss: 0.0465 - accuracy: 0.9887 - val_loss: 0.2461 - val_accuracy: 0.9514\n",
      "Epoch 30/30\n",
      "238/238 [==============================] - 122s 511ms/step - loss: 0.0562 - accuracy: 0.9813 - val_loss: 0.2153 - val_accuracy: 0.9525\n"
     ]
    }
   ],
   "source": [
    "# ResNet\n",
    "model_1_name=\"resnet\"\n",
    "model_1=create_compile_resnet50(model_1_name)\n",
    "model_1_hist, model_1_best_weights_file=train(model_1, EPOCHS)"
   ]
  },
  {
   "cell_type": "code",
   "execution_count": 9,
   "id": "beed2de0",
   "metadata": {
    "execution": {
     "iopub.execute_input": "2021-11-20T05:32:07.576095Z",
     "iopub.status.busy": "2021-11-20T05:32:07.574994Z",
     "iopub.status.idle": "2021-11-20T05:32:07.849056Z",
     "shell.execute_reply": "2021-11-20T05:32:07.849441Z"
    },
    "papermill": {
     "duration": 4.378332,
     "end_time": "2021-11-20T05:32:07.849550",
     "exception": false,
     "start_time": "2021-11-20T05:32:03.471218",
     "status": "completed"
    },
    "tags": []
   },
   "outputs": [
    {
     "data": {
      "image/png": "[encoded data removed]",
      "text/plain": [
       "<Figure size 432x288 with 1 Axes>"
      ]
     },
     "metadata": {
      "needs_background": "light"
     },
     "output_type": "display_data"
    }
   ],
   "source": [
    "pyplot.title(\"ResNet50: Train vs Validation Accuracy\")\n",
    "pyplot.plot(model_1_hist.history['accuracy'], label='train')\n",
    "pyplot.plot(model_1_hist.history['val_accuracy'], label='test')\n",
    "pyplot.xlabel('epochs')\n",
    "pyplot.ylabel('accuracy')\n",
    "pyplot.legend()\n",
    "pyplot.show()"
   ]
  },
  {
   "cell_type": "code",
   "execution_count": 10,
   "id": "3768a7d4",
   "metadata": {
    "execution": {
     "iopub.execute_input": "2021-11-20T05:32:15.532016Z",
     "iopub.status.busy": "2021-11-20T05:32:15.531354Z",
     "iopub.status.idle": "2021-11-20T05:32:15.660308Z",
     "shell.execute_reply": "2021-11-20T05:32:15.660699Z"
    },
    "papermill": {
     "duration": 3.911059,
     "end_time": "2021-11-20T05:32:15.660809",
     "exception": false,
     "start_time": "2021-11-20T05:32:11.749750",
     "status": "completed"
    },
    "tags": []
   },
   "outputs": [
    {
     "data": {
      "image/png": "[encoded data removed]",
      "text/plain": [
       "<Figure size 432x288 with 1 Axes>"
      ]
     },
     "metadata": {
      "needs_background": "light"
     },
     "output_type": "display_data"
    }
   ],
   "source": [
    "pyplot.title(\"ResNet50: Train vs Validation Loss\")\n",
    "pyplot.plot(model_1_hist.history['loss'], label='train')\n",
    "pyplot.plot(model_1_hist.history['val_loss'], label='test')\n",
    "pyplot.xlabel('epochs')\n",
    "pyplot.ylabel('loss')\n",
    "pyplot.legend()\n",
    "pyplot.show()"
   ]
  },
  {
   "cell_type": "code",
   "execution_count": 11,
   "id": "36245049",
   "metadata": {
    "execution": {
     "iopub.execute_input": "2021-11-20T05:32:23.057933Z",
     "iopub.status.busy": "2021-11-20T05:32:23.057331Z",
     "iopub.status.idle": "2021-11-20T06:39:56.017841Z",
     "shell.execute_reply": "2021-11-20T06:39:56.018249Z"
    },
    "papermill": {
     "duration": 4056.745681,
     "end_time": "2021-11-20T06:39:56.018374",
     "exception": false,
     "start_time": "2021-11-20T05:32:19.272693",
     "status": "completed"
    },
    "tags": []
   },
   "outputs": [
    {
     "name": "stdout",
     "output_type": "stream",
     "text": [
      "Epoch 1/30\n",
      "238/238 [==============================] - 147s 561ms/step - loss: 0.8818 - accuracy: 0.7281 - val_loss: 0.6192 - val_accuracy: 0.8617\n",
      "Epoch 2/30\n",
      "238/238 [==============================] - 128s 536ms/step - loss: 0.2826 - accuracy: 0.9103 - val_loss: 0.9297 - val_accuracy: 0.8976\n",
      "Epoch 3/30\n",
      "238/238 [==============================] - 128s 537ms/step - loss: 0.2053 - accuracy: 0.9343 - val_loss: 0.2722 - val_accuracy: 0.9314\n",
      "Epoch 4/30\n",
      "238/238 [==============================] - 128s 538ms/step - loss: 0.1514 - accuracy: 0.9519 - val_loss: 0.8699 - val_accuracy: 0.9261\n",
      "Epoch 5/30\n",
      "238/238 [==============================] - 126s 529ms/step - loss: 0.1442 - accuracy: 0.9582 - val_loss: 0.5514 - val_accuracy: 0.9029\n",
      "Epoch 6/30\n",
      "238/238 [==============================] - 128s 536ms/step - loss: 0.0948 - accuracy: 0.9692 - val_loss: 0.3327 - val_accuracy: 0.9282\n",
      "Epoch 7/30\n",
      "238/238 [==============================] - 129s 543ms/step - loss: 0.1053 - accuracy: 0.9669 - val_loss: 0.3727 - val_accuracy: 0.9050\n",
      "Epoch 8/30\n",
      "238/238 [==============================] - 129s 541ms/step - loss: 0.0730 - accuracy: 0.9790 - val_loss: 0.2496 - val_accuracy: 0.9366\n",
      "Epoch 9/30\n",
      "238/238 [==============================] - 129s 543ms/step - loss: 0.0803 - accuracy: 0.9748 - val_loss: 0.2610 - val_accuracy: 0.9388\n",
      "Epoch 10/30\n",
      "238/238 [==============================] - 126s 528ms/step - loss: 0.0678 - accuracy: 0.9771 - val_loss: 0.3202 - val_accuracy: 0.9293\n",
      "Epoch 11/30\n",
      "238/238 [==============================] - 127s 532ms/step - loss: 0.0613 - accuracy: 0.9821 - val_loss: 1.7391 - val_accuracy: 0.9081\n",
      "Epoch 12/30\n",
      "238/238 [==============================] - 127s 533ms/step - loss: 0.0591 - accuracy: 0.9821 - val_loss: 0.2783 - val_accuracy: 0.9419\n",
      "Epoch 13/30\n",
      "238/238 [==============================] - 126s 528ms/step - loss: 0.0650 - accuracy: 0.9800 - val_loss: 4.0487 - val_accuracy: 0.9134\n",
      "Epoch 14/30\n",
      "238/238 [==============================] - 126s 529ms/step - loss: 0.0553 - accuracy: 0.9845 - val_loss: 0.2357 - val_accuracy: 0.9525\n",
      "Epoch 15/30\n",
      "238/238 [==============================] - 128s 536ms/step - loss: 0.0431 - accuracy: 0.9874 - val_loss: 0.2258 - val_accuracy: 0.9546\n",
      "Epoch 16/30\n",
      "238/238 [==============================] - 126s 530ms/step - loss: 0.0401 - accuracy: 0.9871 - val_loss: 1.0438 - val_accuracy: 0.9250\n",
      "Epoch 17/30\n",
      "238/238 [==============================] - 126s 528ms/step - loss: 0.0398 - accuracy: 0.9895 - val_loss: 0.2735 - val_accuracy: 0.9472\n",
      "Epoch 18/30\n",
      "238/238 [==============================] - 130s 546ms/step - loss: 0.0392 - accuracy: 0.9890 - val_loss: 0.2241 - val_accuracy: 0.9535\n",
      "Epoch 19/30\n",
      "238/238 [==============================] - 132s 557ms/step - loss: 0.0394 - accuracy: 0.9892 - val_loss: 0.2711 - val_accuracy: 0.9440\n",
      "Epoch 20/30\n",
      "238/238 [==============================] - 130s 546ms/step - loss: 0.0340 - accuracy: 0.9903 - val_loss: 0.2716 - val_accuracy: 0.9514\n",
      "Epoch 21/30\n",
      "238/238 [==============================] - 128s 537ms/step - loss: 0.0353 - accuracy: 0.9884 - val_loss: 0.2786 - val_accuracy: 0.9345\n",
      "Epoch 22/30\n",
      "238/238 [==============================] - 130s 546ms/step - loss: 0.0506 - accuracy: 0.9861 - val_loss: 143.8687 - val_accuracy: 0.6357\n",
      "Epoch 23/30\n",
      "238/238 [==============================] - 131s 552ms/step - loss: 0.0355 - accuracy: 0.9897 - val_loss: 0.3241 - val_accuracy: 0.9388\n",
      "Epoch 24/30\n",
      "238/238 [==============================] - 126s 529ms/step - loss: 0.0283 - accuracy: 0.9921 - val_loss: 0.2659 - val_accuracy: 0.9514\n",
      "Epoch 25/30\n",
      "238/238 [==============================] - 128s 537ms/step - loss: 0.0247 - accuracy: 0.9924 - val_loss: 0.2515 - val_accuracy: 0.9451\n",
      "Epoch 26/30\n",
      "238/238 [==============================] - 126s 531ms/step - loss: 0.0428 - accuracy: 0.9874 - val_loss: 0.2394 - val_accuracy: 0.9599\n",
      "Epoch 27/30\n",
      "238/238 [==============================] - 128s 537ms/step - loss: 0.0448 - accuracy: 0.9840 - val_loss: 0.2033 - val_accuracy: 0.9483\n",
      "Epoch 28/30\n",
      "238/238 [==============================] - 129s 541ms/step - loss: 0.0260 - accuracy: 0.9934 - val_loss: 0.2485 - val_accuracy: 0.9409\n",
      "Epoch 29/30\n",
      "238/238 [==============================] - 127s 535ms/step - loss: 0.0289 - accuracy: 0.9908 - val_loss: 0.5307 - val_accuracy: 0.9493\n",
      "Epoch 30/30\n",
      "238/238 [==============================] - 132s 556ms/step - loss: 0.0277 - accuracy: 0.9926 - val_loss: 0.2776 - val_accuracy: 0.9588\n"
     ]
    }
   ],
   "source": [
    "# inception resnet\n",
    "model_2_name=\"inception\"\n",
    "model_2=create_compile_inception_resnet_v2(model_2_name)\n",
    "model_2_hist, model_2_best_weights_file=train(model_2, EPOCHS)"
   ]
  },
  {
   "cell_type": "code",
   "execution_count": 12,
   "id": "005a8b18",
   "metadata": {
    "execution": {
     "iopub.execute_input": "2021-11-20T06:40:11.337401Z",
     "iopub.status.busy": "2021-11-20T06:40:11.337019Z",
     "iopub.status.idle": "2021-11-20T06:40:11.480524Z",
     "shell.execute_reply": "2021-11-20T06:40:11.480947Z"
    },
    "papermill": {
     "duration": 7.933412,
     "end_time": "2021-11-20T06:40:11.481053",
     "exception": false,
     "start_time": "2021-11-20T06:40:03.547641",
     "status": "completed"
    },
    "tags": []
   },
   "outputs": [
    {
     "data": {
      "image/png": "[encoded data removed]",
      "text/plain": [
       "<Figure size 432x288 with 1 Axes>"
      ]
     },
     "metadata": {
      "needs_background": "light"
     },
     "output_type": "display_data"
    }
   ],
   "source": [
    "pyplot.title(\"Inception_ResNet_v2: Train vs Validation Accuracy\")\n",
    "pyplot.plot(model_2_hist.history['accuracy'], label='train')\n",
    "pyplot.plot(model_2_hist.history['val_accuracy'], label='test')\n",
    "pyplot.xlabel('epochs')\n",
    "pyplot.ylabel('accuracy')\n",
    "pyplot.legend()\n",
    "pyplot.show()"
   ]
  },
  {
   "cell_type": "code",
   "execution_count": 13,
   "id": "27580847",
   "metadata": {
    "execution": {
     "iopub.execute_input": "2021-11-20T06:40:26.112500Z",
     "iopub.status.busy": "2021-11-20T06:40:26.111885Z",
     "iopub.status.idle": "2021-11-20T06:40:26.245931Z",
     "shell.execute_reply": "2021-11-20T06:40:26.245618Z"
    },
    "papermill": {
     "duration": 7.425999,
     "end_time": "2021-11-20T06:40:26.246012",
     "exception": false,
     "start_time": "2021-11-20T06:40:18.820013",
     "status": "completed"
    },
    "tags": []
   },
   "outputs": [
    {
     "data": {
      "image/png": "[encoded data removed]",
      "text/plain": [
       "<Figure size 432x288 with 1 Axes>"
      ]
     },
     "metadata": {
      "needs_background": "light"
     },
     "output_type": "display_data"
    }
   ],
   "source": [
    "pyplot.title(\"Inception_ResNet_v2: Train vs Validation Loss\")\n",
    "pyplot.plot(model_2_hist.history['loss'], label='train')\n",
    "pyplot.plot(model_2_hist.history['val_loss'], label='test')\n",
    "pyplot.xlabel('epochs')\n",
    "pyplot.ylabel('loss')\n",
    "pyplot.legend()\n",
    "pyplot.show()"
   ]
  },
  {
   "cell_type": "code",
   "execution_count": 14,
   "id": "56d496a7",
   "metadata": {
    "execution": {
     "iopub.execute_input": "2021-11-20T06:40:40.783434Z",
     "iopub.status.busy": "2021-11-20T06:40:40.783074Z",
     "iopub.status.idle": "2021-11-20T07:46:28.803244Z",
     "shell.execute_reply": "2021-11-20T07:46:28.803525Z"
    },
    "papermill": {
     "duration": 3955.216701,
     "end_time": "2021-11-20T07:46:28.803643",
     "exception": false,
     "start_time": "2021-11-20T06:40:33.586942",
     "status": "completed"
    },
    "tags": []
   },
   "outputs": [
    {
     "name": "stdout",
     "output_type": "stream",
     "text": [
      "Epoch 1/30\n",
      "238/238 [==============================] - 131s 520ms/step - loss: 1.0735 - accuracy: 0.6597 - val_loss: 0.5812 - val_accuracy: 0.8184\n",
      "Epoch 2/30\n",
      "238/238 [==============================] - 123s 519ms/step - loss: 0.4144 - accuracy: 0.8677 - val_loss: 0.3700 - val_accuracy: 0.8817\n",
      "Epoch 3/30\n",
      "238/238 [==============================] - 127s 534ms/step - loss: 0.3262 - accuracy: 0.8940 - val_loss: 0.3106 - val_accuracy: 0.8955\n",
      "Epoch 4/30\n",
      "238/238 [==============================] - 125s 523ms/step - loss: 0.2691 - accuracy: 0.9067 - val_loss: 0.3495 - val_accuracy: 0.8881\n",
      "Epoch 5/30\n",
      "238/238 [==============================] - 122s 513ms/step - loss: 0.2436 - accuracy: 0.9153 - val_loss: 0.2990 - val_accuracy: 0.9187\n",
      "Epoch 6/30\n",
      "238/238 [==============================] - 125s 524ms/step - loss: 0.2023 - accuracy: 0.9287 - val_loss: 0.2889 - val_accuracy: 0.9134\n",
      "Epoch 7/30\n",
      "238/238 [==============================] - 123s 516ms/step - loss: 0.1721 - accuracy: 0.9395 - val_loss: 0.2401 - val_accuracy: 0.9282\n",
      "Epoch 8/30\n",
      "238/238 [==============================] - 124s 521ms/step - loss: 0.1645 - accuracy: 0.9445 - val_loss: 0.2996 - val_accuracy: 0.9282\n",
      "Epoch 9/30\n",
      "238/238 [==============================] - 123s 517ms/step - loss: 0.1475 - accuracy: 0.9519 - val_loss: 0.2744 - val_accuracy: 0.9271\n",
      "Epoch 10/30\n",
      "238/238 [==============================] - 119s 499ms/step - loss: 0.1334 - accuracy: 0.9574 - val_loss: 0.3947 - val_accuracy: 0.8817\n",
      "Epoch 11/30\n",
      "238/238 [==============================] - 123s 518ms/step - loss: 0.1328 - accuracy: 0.9532 - val_loss: 0.3301 - val_accuracy: 0.9166\n",
      "Epoch 12/30\n",
      "238/238 [==============================] - 125s 523ms/step - loss: 0.1388 - accuracy: 0.9540 - val_loss: 0.4088 - val_accuracy: 0.9071\n",
      "Epoch 13/30\n",
      "238/238 [==============================] - 124s 521ms/step - loss: 0.1481 - accuracy: 0.9508 - val_loss: 0.2169 - val_accuracy: 0.9377\n",
      "Epoch 14/30\n",
      "238/238 [==============================] - 125s 525ms/step - loss: 0.1243 - accuracy: 0.9577 - val_loss: 0.2633 - val_accuracy: 0.9356\n",
      "Epoch 15/30\n",
      "238/238 [==============================] - 124s 520ms/step - loss: 0.1138 - accuracy: 0.9653 - val_loss: 0.2761 - val_accuracy: 0.9145\n",
      "Epoch 16/30\n",
      "238/238 [==============================] - 125s 524ms/step - loss: 0.1067 - accuracy: 0.9656 - val_loss: 0.2175 - val_accuracy: 0.9430\n",
      "Epoch 17/30\n",
      "238/238 [==============================] - 124s 520ms/step - loss: 0.0940 - accuracy: 0.9684 - val_loss: 0.2466 - val_accuracy: 0.9377\n",
      "Epoch 18/30\n",
      "238/238 [==============================] - 123s 519ms/step - loss: 0.1234 - accuracy: 0.9603 - val_loss: 0.2849 - val_accuracy: 0.9197\n",
      "Epoch 19/30\n",
      "238/238 [==============================] - 118s 494ms/step - loss: 0.0955 - accuracy: 0.9716 - val_loss: 0.2720 - val_accuracy: 0.9314\n",
      "Epoch 20/30\n",
      "238/238 [==============================] - 119s 502ms/step - loss: 0.1199 - accuracy: 0.9632 - val_loss: 0.2193 - val_accuracy: 0.9461\n",
      "Epoch 21/30\n",
      "238/238 [==============================] - 120s 503ms/step - loss: 0.0826 - accuracy: 0.9719 - val_loss: 0.2126 - val_accuracy: 0.9556\n",
      "Epoch 22/30\n",
      "238/238 [==============================] - 120s 502ms/step - loss: 0.0833 - accuracy: 0.9758 - val_loss: 0.2282 - val_accuracy: 0.9472\n",
      "Epoch 23/30\n",
      "238/238 [==============================] - 118s 496ms/step - loss: 0.1033 - accuracy: 0.9698 - val_loss: 0.3611 - val_accuracy: 0.9282\n",
      "Epoch 24/30\n",
      "238/238 [==============================] - 119s 501ms/step - loss: 0.0749 - accuracy: 0.9774 - val_loss: 0.3081 - val_accuracy: 0.9303\n",
      "Epoch 25/30\n",
      "238/238 [==============================] - 118s 496ms/step - loss: 0.0673 - accuracy: 0.9792 - val_loss: 0.2794 - val_accuracy: 0.9366\n",
      "Epoch 26/30\n",
      "238/238 [==============================] - 118s 497ms/step - loss: 0.0877 - accuracy: 0.9750 - val_loss: 0.2299 - val_accuracy: 0.9440\n",
      "Epoch 27/30\n",
      "238/238 [==============================] - 118s 496ms/step - loss: 0.0789 - accuracy: 0.9774 - val_loss: 0.2363 - val_accuracy: 0.9366\n",
      "Epoch 28/30\n",
      "238/238 [==============================] - 120s 506ms/step - loss: 0.1012 - accuracy: 0.9703 - val_loss: 0.4211 - val_accuracy: 0.8870\n",
      "Epoch 29/30\n",
      "238/238 [==============================] - 120s 503ms/step - loss: 0.0864 - accuracy: 0.9727 - val_loss: 0.2487 - val_accuracy: 0.9472\n",
      "Epoch 30/30\n",
      "238/238 [==============================] - 118s 494ms/step - loss: 0.0815 - accuracy: 0.9727 - val_loss: 0.2471 - val_accuracy: 0.9377\n"
     ]
    }
   ],
   "source": [
    "model_3_name=\"resnet101\"\n",
    "model_3=create_compile_resnet101_v2(model_3_name)\n",
    "model_3_hist, model_3_best_weights_file=train(model_3, EPOCHS)"
   ]
  },
  {
   "cell_type": "code",
   "execution_count": 15,
   "id": "c8e9f55f",
   "metadata": {
    "execution": {
     "iopub.execute_input": "2021-11-20T07:46:50.466882Z",
     "iopub.status.busy": "2021-11-20T07:46:50.462178Z",
     "iopub.status.idle": "2021-11-20T07:46:50.613558Z",
     "shell.execute_reply": "2021-11-20T07:46:50.613273Z"
    },
    "papermill": {
     "duration": 11.029804,
     "end_time": "2021-11-20T07:46:50.613650",
     "exception": false,
     "start_time": "2021-11-20T07:46:39.583846",
     "status": "completed"
    },
    "tags": []
   },
   "outputs": [
    {
     "data": {
      "image/png": "[encoded data removed]",
      "text/plain": [
       "<Figure size 432x288 with 1 Axes>"
      ]
     },
     "metadata": {
      "needs_background": "light"
     },
     "output_type": "display_data"
    }
   ],
   "source": [
    "pyplot.title(\"Resnet101_v2: Train vs Validation Accuracy\")\n",
    "pyplot.plot(model_3_hist.history['accuracy'], label='train')\n",
    "pyplot.plot(model_3_hist.history['val_accuracy'], label='test')\n",
    "pyplot.xlabel('epochs')\n",
    "pyplot.ylabel('accuracy')\n",
    "pyplot.legend()\n",
    "pyplot.show()"
   ]
  },
  {
   "cell_type": "code",
   "execution_count": 16,
   "id": "50ca8b2a",
   "metadata": {
    "execution": {
     "iopub.execute_input": "2021-11-20T07:47:12.332272Z",
     "iopub.status.busy": "2021-11-20T07:47:12.320418Z",
     "iopub.status.idle": "2021-11-20T07:47:12.454283Z",
     "shell.execute_reply": "2021-11-20T07:47:12.454662Z"
    },
    "papermill": {
     "duration": 11.111637,
     "end_time": "2021-11-20T07:47:12.454768",
     "exception": false,
     "start_time": "2021-11-20T07:47:01.343131",
     "status": "completed"
    },
    "tags": []
   },
   "outputs": [
    {
     "data": {
      "image/png": "[encoded data removed]",
      "text/plain": [
       "<Figure size 432x288 with 1 Axes>"
      ]
     },
     "metadata": {
      "needs_background": "light"
     },
     "output_type": "display_data"
    }
   ],
   "source": [
    "pyplot.title(\"Resnet101_v2: Train vs Validation Loss\")\n",
    "pyplot.plot(model_3_hist.history['loss'], label='train')\n",
    "pyplot.plot(model_3_hist.history['val_loss'], label='test')\n",
    "pyplot.xlabel('epochs')\n",
    "pyplot.ylabel('loss')\n",
    "pyplot.legend()\n",
    "pyplot.show()"
   ]
  },
  {
   "cell_type": "code",
   "execution_count": 17,
   "id": "3017939f",
   "metadata": {
    "execution": {
     "iopub.execute_input": "2021-11-20T07:47:33.956975Z",
     "iopub.status.busy": "2021-11-20T07:47:33.956334Z",
     "iopub.status.idle": "2021-11-20T07:47:50.401490Z",
     "shell.execute_reply": "2021-11-20T07:47:50.401162Z"
    },
    "papermill": {
     "duration": 27.206497,
     "end_time": "2021-11-20T07:47:50.401587",
     "exception": false,
     "start_time": "2021-11-20T07:47:23.195090",
     "status": "completed"
    },
    "tags": []
   },
   "outputs": [],
   "source": [
    "model_1_best_weights_file=\"weights/resnet.hdf5\"\n",
    "model_2_best_weights_file=\"weights/inception.hdf5\"\n",
    "model_3_best_weights_file=\"weights/resnet101.hdf5\"\n",
    "ensemble_model_1=create_compile_resnet50()\n",
    "ensemble_model_2=create_compile_inception_resnet_v2()\n",
    "ensemble_model_3=create_compile_resnet101_v2()\n",
    "ensemble_model_1.load_weights(model_1_best_weights_file)\n",
    "ensemble_model_2.load_weights(model_2_best_weights_file)\n",
    "ensemble_model_3.load_weights(model_3_best_weights_file)\n",
    "models=[ensemble_model_1, ensemble_model_2, ensemble_model_3]"
   ]
  },
  {
   "cell_type": "code",
   "execution_count": 18,
   "id": "e6fe8baa",
   "metadata": {
    "execution": {
     "iopub.execute_input": "2021-11-20T07:48:13.444344Z",
     "iopub.status.busy": "2021-11-20T07:48:13.443979Z",
     "iopub.status.idle": "2021-11-20T07:48:13.446756Z",
     "shell.execute_reply": "2021-11-20T07:48:13.446454Z"
    },
    "papermill": {
     "duration": 11.59424,
     "end_time": "2021-11-20T07:48:13.446838",
     "exception": false,
     "start_time": "2021-11-20T07:48:01.852598",
     "status": "completed"
    },
    "tags": []
   },
   "outputs": [],
   "source": [
    "def ensemble(models, model_input):\n",
    "    yModels=[model(model_input) for model in models]\n",
    "    yAvg=Average()(yModels)\n",
    "    \n",
    "    model=Model(model_input, yAvg, name='ensemble')\n",
    "    \n",
    "    return model"
   ]
  },
  {
   "cell_type": "code",
   "execution_count": 19,
   "id": "c5272d6d",
   "metadata": {
    "execution": {
     "iopub.execute_input": "2021-11-20T07:48:35.992288Z",
     "iopub.status.busy": "2021-11-20T07:48:35.991925Z",
     "iopub.status.idle": "2021-11-20T07:48:38.111831Z",
     "shell.execute_reply": "2021-11-20T07:48:38.112114Z"
    },
    "papermill": {
     "duration": 12.933338,
     "end_time": "2021-11-20T07:48:38.112234",
     "exception": false,
     "start_time": "2021-11-20T07:48:25.178896",
     "status": "completed"
    },
    "tags": []
   },
   "outputs": [],
   "source": [
    "model_input=Input(IMG_SHAPE)\n",
    "ensemble_model=ensemble(models, model_input)\n",
    "# error=evaluate_error(ensemble_model)"
   ]
  },
  {
   "cell_type": "code",
   "execution_count": 20,
   "id": "445f148c",
   "metadata": {
    "execution": {
     "iopub.execute_input": "2021-11-20T07:48:59.621432Z",
     "iopub.status.busy": "2021-11-20T07:48:59.620175Z",
     "iopub.status.idle": "2021-11-20T07:49:45.878238Z",
     "shell.execute_reply": "2021-11-20T07:49:45.878612Z"
    },
    "papermill": {
     "duration": 57.067019,
     "end_time": "2021-11-20T07:49:45.878750",
     "exception": false,
     "start_time": "2021-11-20T07:48:48.811731",
     "status": "completed"
    },
    "tags": []
   },
   "outputs": [
    {
     "name": "stdout",
     "output_type": "stream",
     "text": [
      "794/794 [==============================] - 46s 52ms/step\n"
     ]
    }
   ],
   "source": [
    "preds = ensemble_model.predict(test_generator, steps=test_generator.samples, verbose=1)"
   ]
  },
  {
   "cell_type": "code",
   "execution_count": 21,
   "id": "49f847fd",
   "metadata": {
    "execution": {
     "iopub.execute_input": "2021-11-20T07:50:09.167027Z",
     "iopub.status.busy": "2021-11-20T07:50:09.166495Z",
     "iopub.status.idle": "2021-11-20T07:50:09.248756Z",
     "shell.execute_reply": "2021-11-20T07:50:09.249026Z"
    },
    "papermill": {
     "duration": 12.218568,
     "end_time": "2021-11-20T07:50:09.249135",
     "exception": false,
     "start_time": "2021-11-20T07:49:57.030567",
     "status": "completed"
    },
    "tags": []
   },
   "outputs": [],
   "source": [
    "class_list = []\n",
    "species_list = [\n",
    "    \"Black-grass\", \"Charlock\", \"Cleavers\", \"Common Chickweed\", \"Common wheat\", \"Fat Hen\",\n",
    "                \"Loose Silky-bent\", \"Maize\", \"Scentless Mayweed\", \"Shepherds Purse\", \"Small-flowered Cranesbill\",\n",
    "                \"Sugar beet\"\n",
    "]\n",
    "for i in range(preds.shape[0]):\n",
    "    y_class = preds[i,:].argmax(axis=-1)\n",
    "    class_list.append(species_list[y_class])\n",
    "    \n",
    "submission = pd.DataFrame()\n",
    "file_names = [f for f in glob.glob(\"./plant-seedlings-classification/test/*.png\")]\n",
    "submission['file'] = file_names\n",
    "submission['file'] = submission['file'].apply(lambda x: x.replace(\"./plant-seedlings-classification/test\\\\\", ''))\n",
    "submission['species'] = class_list\n",
    "\n",
    "submission.to_csv('submission.csv', index=False)"
   ]
  },
  {
   "cell_type": "code",
   "execution_count": 22,
   "id": "bc29c163",
   "metadata": {
    "execution": {
     "iopub.execute_input": "2021-11-20T07:50:31.491072Z",
     "iopub.status.busy": "2021-11-20T07:50:31.490624Z",
     "iopub.status.idle": "2021-11-20T07:50:31.492127Z",
     "shell.execute_reply": "2021-11-20T07:50:31.492404Z"
    },
    "papermill": {
     "duration": 11.116717,
     "end_time": "2021-11-20T07:50:31.492510",
     "exception": false,
     "start_time": "2021-11-20T07:50:20.375793",
     "status": "completed"
    },
    "tags": []
   },
   "outputs": [],
   "source": [
    "# call kaggle to make late submission"
   ]
  }
 ],
 "metadata": {
  "kernelspec": {
   "display_name": "neural_network",
   "language": "python",
   "name": "neural_network"
  },
  "language_info": {
   "codemirror_mode": {
    "name": "ipython",
    "version": 3
   },
   "file_extension": ".py",
   "mimetype": "text/x-python",
   "name": "python",
   "nbconvert_exporter": "python",
   "pygments_lexer": "ipython3",
   "version": "3.8.8"
  },
  "papermill": {
   "default_parameters": {},
   "duration": 12605.648704,
   "end_time": "2021-11-20T07:50:46.682136",
   "environment_variables": {},
   "exception": null,
   "input_path": "Ensemble_Stacking.ipynb",
   "output_path": "Ensemble_Stacking_output.ipynb",
   "parameters": {},
   "start_time": "2021-11-20T04:20:41.033432",
   "version": "2.3.3"
  }
 },
 "nbformat": 4,
 "nbformat_minor": 5
}
