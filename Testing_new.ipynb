{
  "nbformat": 4,
  "nbformat_minor": 0,
  "metadata": {
    "colab": {
      "name": "Testing.ipynb",
      "provenance": [],
      "authorship_tag": "ABX9TyM/Cwvtuzkgiy8+akeyEoz6",
      "include_colab_link": true
    },
    "kernelspec": {
      "name": "python3",
      "display_name": "Python 3"
    },
    "language_info": {
      "name": "python"
    },
    "accelerator": "GPU"
  },
  "cells": [
    {
      "cell_type": "markdown",
      "metadata": {
        "id": "view-in-github",
        "colab_type": "text"
      },
      "source": [
        "<a href=\"https://colab.research.google.com/github/estherc247/cz4041_ML/blob/main/Testing_new.ipynb\" target=\"_parent\"><img src=\"https://colab.research.google.com/assets/colab-badge.svg\" alt=\"Open In Colab\"/></a>"
      ]
    },
    {
      "cell_type": "code",
      "metadata": {
        "id": "ahucwTKV-hdX",
        "colab": {
          "base_uri": "https://localhost:8080/"
        },
        "outputId": "0fd23413-fdff-4bde-dc07-79670ac7c01e"
      },
      "source": [
        "#Import data from Google Drive \n",
        "from google.colab import drive \n",
        "drive.mount('/content/gdrive/')"
      ],
      "execution_count": 1,
      "outputs": [
        {
          "output_type": "stream",
          "name": "stdout",
          "text": [
            "Mounted at /content/gdrive/\n"
          ]
        }
      ]
    },
    {
      "cell_type": "code",
      "metadata": {
        "id": "74kuSrWJ-kjv"
      },
      "source": [
        "#Load Data\n",
        "data_dir_train = '/content/gdrive/MyDrive/Y4/CZ4041_Machine_Learning/plant_data/train.zip'\n",
        "data_dir_test = '/content/gdrive/MyDrive/Y4/CZ4041_Machine_Learning/plant_data/test.zip'\n",
        "\n",
        "#Import the libraries\n",
        "import zipfile\n",
        "import os\n",
        "\n",
        "zip_ref = zipfile.ZipFile(data_dir_train, 'r') #Opens the zip file in read mode\n",
        "zip_test = zipfile.ZipFile(data_dir_test, 'r')\n",
        "zip_ref.extractall('/tmp') #Extracts the files into the /tmp folder\n",
        "zip_test.extractall('/tmp')\n",
        "zip_ref.close()\n",
        "zip_test.close()"
      ],
      "execution_count": 2,
      "outputs": []
    },
    {
      "cell_type": "code",
      "metadata": {
        "id": "X4a9hKAN-mf7"
      },
      "source": [
        "#Import Libraries \n",
        "import tensorflow as tf \n",
        "import keras\n",
        "from keras.preprocessing.image import ImageDataGenerator, array_to_img, img_to_array, load_img\n",
        "import pandas as pd \n",
        "from PIL import Image\n",
        "import glob"
      ],
      "execution_count": 3,
      "outputs": []
    },
    {
      "cell_type": "code",
      "metadata": {
        "id": "8tcD9lxSMFqF"
      },
      "source": [
        "#Define directory path\n",
        "train_url = '/tmp/train'\n",
        "test_url ='/tmp/test'"
      ],
      "execution_count": 4,
      "outputs": []
    },
    {
      "cell_type": "code",
      "metadata": {
        "id": "m0hamnK_Fx9B"
      },
      "source": [
        "#define parameters \n",
        "batch_size = 32\n",
        "img_width = 240\n",
        "img_height = 240 \n",
        "epochs = 30"
      ],
      "execution_count": 5,
      "outputs": []
    },
    {
      "cell_type": "code",
      "metadata": {
        "colab": {
          "base_uri": "https://localhost:8080/"
        },
        "id": "TG19hTBqKuIm",
        "outputId": "9b7c494d-19f8-47a1-dedc-cb733eac72cb"
      },
      "source": [
        "#Split data \n",
        "\n",
        "train_image_data = ImageDataGenerator(\n",
        "    validation_split = 0.2,\n",
        "    rescale = 1.0/255.0,\n",
        "    horizontal_flip = True, \n",
        "    zoom_range=0.2, \n",
        "    shear_range = 0.2,\n",
        ")\n",
        "\n",
        "train_ds = train_image_data.flow_from_directory(\n",
        "  train_url,\n",
        "  shuffle = True,\n",
        "  target_size=(img_height, img_width),\n",
        "  class_mode = 'categorical',\n",
        "  batch_size=batch_size,\n",
        "  subset=\"training\")\n",
        "\n",
        "val_ds = train_image_data.flow_from_directory(\n",
        "  train_url,\n",
        "  shuffle = True,\n",
        "  target_size=(img_height, img_width),\n",
        "  class_mode = 'categorical',\n",
        "  batch_size=batch_size,\n",
        "  subset=\"validation\")"
      ],
      "execution_count": 6,
      "outputs": [
        {
          "output_type": "stream",
          "name": "stdout",
          "text": [
            "Found 3803 images belonging to 12 classes.\n",
            "Found 947 images belonging to 12 classes.\n"
          ]
        }
      ]
    },
    {
      "cell_type": "code",
      "metadata": {
        "colab": {
          "base_uri": "https://localhost:8080/"
        },
        "id": "5rypX8Z5R94Y",
        "outputId": "ee0e2f8e-5789-49cb-da6b-9610887248f6"
      },
      "source": [
        "#Create Model\n",
        "from tensorflow.keras.applications.xception import Xception\n",
        "\n",
        "model = tf.keras.Sequential([\n",
        "            Xception(input_shape=[240,240, 3], include_top=False),\n",
        "            tf.keras.layers.Flatten(),\n",
        "            tf.keras.layers.Dense(128, activation='relu'),\n",
        "            tf.keras.layers.Dropout(0.2),\n",
        "            tf.keras.layers.Dense(12, activation='softmax')\n",
        "])\n",
        "\n",
        "model.trainable = True\n",
        "model.get_layer('xception').trainable\n",
        "model.summary()"
      ],
      "execution_count": 8,
      "outputs": [
        {
          "output_type": "stream",
          "name": "stdout",
          "text": [
            "Downloading data from https://storage.googleapis.com/tensorflow/keras-applications/xception/xception_weights_tf_dim_ordering_tf_kernels_notop.h5\n",
            "83689472/83683744 [==============================] - 2s 0us/step\n",
            "83697664/83683744 [==============================] - 2s 0us/step\n",
            "Model: \"sequential\"\n",
            "_________________________________________________________________\n",
            "Layer (type)                 Output Shape              Param #   \n",
            "=================================================================\n",
            "xception (Functional)        (None, 8, 8, 2048)        20861480  \n",
            "_________________________________________________________________\n",
            "flatten (Flatten)            (None, 131072)            0         \n",
            "_________________________________________________________________\n",
            "dense (Dense)                (None, 128)               16777344  \n",
            "_________________________________________________________________\n",
            "dropout (Dropout)            (None, 128)               0         \n",
            "_________________________________________________________________\n",
            "dense_1 (Dense)              (None, 12)                1548      \n",
            "=================================================================\n",
            "Total params: 37,640,372\n",
            "Trainable params: 37,585,844\n",
            "Non-trainable params: 54,528\n",
            "_________________________________________________________________\n"
          ]
        }
      ]
    },
    {
      "cell_type": "code",
      "metadata": {
        "id": "qRqPKi5MSttB"
      },
      "source": [
        "#Compile model \n",
        "model.compile(optimizer='adam', loss='categorical_crossentropy', metrics=['accuracy'])"
      ],
      "execution_count": 9,
      "outputs": []
    },
    {
      "cell_type": "code",
      "metadata": {
        "id": "-n0g6cDRTS9d"
      },
      "source": [
        "#Save model checkpoint\n",
        "checkpoint_filepath = '/tmp/checkpoint'\n",
        "model_checkpoint_callback = tf.keras.callbacks.ModelCheckpoint(\n",
        "    filepath=checkpoint_filepath,\n",
        "    monitor='val_accuracy',\n",
        "    mode='max',\n",
        "    save_best_only=True)"
      ],
      "execution_count": 10,
      "outputs": []
    },
    {
      "cell_type": "code",
      "metadata": {
        "colab": {
          "base_uri": "https://localhost:8080/"
        },
        "id": "25-lffHnRFNo",
        "outputId": "d08e3560-3005-4141-98eb-97dc72c8e099"
      },
      "source": [
        "history = model.fit_generator(\n",
        "                train_ds,\n",
        "                steps_per_epoch = train_ds.samples//batch_size,\n",
        "                validation_data = val_ds, \n",
        "                validation_steps = val_ds.samples//batch_size,\n",
        "                epochs = epochs,\n",
        "                callbacks=[model_checkpoint_callback])"
      ],
      "execution_count": 11,
      "outputs": [
        {
          "output_type": "stream",
          "name": "stderr",
          "text": [
            "/usr/local/lib/python3.7/dist-packages/keras/engine/training.py:1972: UserWarning: `Model.fit_generator` is deprecated and will be removed in a future version. Please use `Model.fit`, which supports generators.\n",
            "  warnings.warn('`Model.fit_generator` is deprecated and '\n"
          ]
        },
        {
          "output_type": "stream",
          "name": "stdout",
          "text": [
            "Epoch 1/30\n",
            "118/118 [==============================] - 252s 2s/step - loss: 2.6619 - accuracy: 0.1867 - val_loss: 2.2246 - val_accuracy: 0.2231\n",
            "INFO:tensorflow:Assets written to: /tmp/checkpoint/assets\n"
          ]
        },
        {
          "output_type": "stream",
          "name": "stderr",
          "text": [
            "/usr/local/lib/python3.7/dist-packages/keras/utils/generic_utils.py:497: CustomMaskWarning: Custom mask layers require a config and must override get_config. When loading, the custom mask layer must be passed to the custom_objects argument.\n",
            "  category=CustomMaskWarning)\n"
          ]
        },
        {
          "output_type": "stream",
          "name": "stdout",
          "text": [
            "Epoch 2/30\n",
            "118/118 [==============================] - 211s 2s/step - loss: 1.8897 - accuracy: 0.3869 - val_loss: 19.9639 - val_accuracy: 0.1595\n",
            "Epoch 3/30\n",
            "118/118 [==============================] - 209s 2s/step - loss: 0.8396 - accuracy: 0.7327 - val_loss: 2.2607 - val_accuracy: 0.5873\n",
            "INFO:tensorflow:Assets written to: /tmp/checkpoint/assets\n"
          ]
        },
        {
          "output_type": "stream",
          "name": "stderr",
          "text": [
            "/usr/local/lib/python3.7/dist-packages/keras/utils/generic_utils.py:497: CustomMaskWarning: Custom mask layers require a config and must override get_config. When loading, the custom mask layer must be passed to the custom_objects argument.\n",
            "  category=CustomMaskWarning)\n"
          ]
        },
        {
          "output_type": "stream",
          "name": "stdout",
          "text": [
            "Epoch 4/30\n",
            "118/118 [==============================] - 209s 2s/step - loss: 0.4561 - accuracy: 0.8565 - val_loss: 1.5448 - val_accuracy: 0.7791\n",
            "INFO:tensorflow:Assets written to: /tmp/checkpoint/assets\n"
          ]
        },
        {
          "output_type": "stream",
          "name": "stderr",
          "text": [
            "/usr/local/lib/python3.7/dist-packages/keras/utils/generic_utils.py:497: CustomMaskWarning: Custom mask layers require a config and must override get_config. When loading, the custom mask layer must be passed to the custom_objects argument.\n",
            "  category=CustomMaskWarning)\n"
          ]
        },
        {
          "output_type": "stream",
          "name": "stdout",
          "text": [
            "Epoch 5/30\n",
            "118/118 [==============================] - 208s 2s/step - loss: 0.3875 - accuracy: 0.8809 - val_loss: 0.5748 - val_accuracy: 0.8513\n",
            "INFO:tensorflow:Assets written to: /tmp/checkpoint/assets\n"
          ]
        },
        {
          "output_type": "stream",
          "name": "stderr",
          "text": [
            "/usr/local/lib/python3.7/dist-packages/keras/utils/generic_utils.py:497: CustomMaskWarning: Custom mask layers require a config and must override get_config. When loading, the custom mask layer must be passed to the custom_objects argument.\n",
            "  category=CustomMaskWarning)\n"
          ]
        },
        {
          "output_type": "stream",
          "name": "stdout",
          "text": [
            "Epoch 6/30\n",
            "118/118 [==============================] - 209s 2s/step - loss: 0.2593 - accuracy: 0.9149 - val_loss: 0.3280 - val_accuracy: 0.8987\n",
            "INFO:tensorflow:Assets written to: /tmp/checkpoint/assets\n"
          ]
        },
        {
          "output_type": "stream",
          "name": "stderr",
          "text": [
            "/usr/local/lib/python3.7/dist-packages/keras/utils/generic_utils.py:497: CustomMaskWarning: Custom mask layers require a config and must override get_config. When loading, the custom mask layer must be passed to the custom_objects argument.\n",
            "  category=CustomMaskWarning)\n"
          ]
        },
        {
          "output_type": "stream",
          "name": "stdout",
          "text": [
            "Epoch 7/30\n",
            "118/118 [==============================] - 208s 2s/step - loss: 0.2710 - accuracy: 0.9159 - val_loss: 0.4277 - val_accuracy: 0.8534\n",
            "Epoch 8/30\n",
            "118/118 [==============================] - 208s 2s/step - loss: 0.2303 - accuracy: 0.9252 - val_loss: 0.7904 - val_accuracy: 0.8006\n",
            "Epoch 9/30\n",
            "118/118 [==============================] - 209s 2s/step - loss: 0.1978 - accuracy: 0.9393 - val_loss: 0.3920 - val_accuracy: 0.9062\n",
            "INFO:tensorflow:Assets written to: /tmp/checkpoint/assets\n"
          ]
        },
        {
          "output_type": "stream",
          "name": "stderr",
          "text": [
            "/usr/local/lib/python3.7/dist-packages/keras/utils/generic_utils.py:497: CustomMaskWarning: Custom mask layers require a config and must override get_config. When loading, the custom mask layer must be passed to the custom_objects argument.\n",
            "  category=CustomMaskWarning)\n"
          ]
        },
        {
          "output_type": "stream",
          "name": "stdout",
          "text": [
            "Epoch 10/30\n",
            "118/118 [==============================] - 208s 2s/step - loss: 0.1664 - accuracy: 0.9507 - val_loss: 0.3548 - val_accuracy: 0.8858\n",
            "Epoch 11/30\n",
            "118/118 [==============================] - 208s 2s/step - loss: 0.1789 - accuracy: 0.9486 - val_loss: 0.4460 - val_accuracy: 0.9052\n",
            "Epoch 12/30\n",
            "118/118 [==============================] - 208s 2s/step - loss: 0.2691 - accuracy: 0.9191 - val_loss: 0.5671 - val_accuracy: 0.9095\n",
            "INFO:tensorflow:Assets written to: /tmp/checkpoint/assets\n"
          ]
        },
        {
          "output_type": "stream",
          "name": "stderr",
          "text": [
            "/usr/local/lib/python3.7/dist-packages/keras/utils/generic_utils.py:497: CustomMaskWarning: Custom mask layers require a config and must override get_config. When loading, the custom mask layer must be passed to the custom_objects argument.\n",
            "  category=CustomMaskWarning)\n"
          ]
        },
        {
          "output_type": "stream",
          "name": "stdout",
          "text": [
            "Epoch 13/30\n",
            "118/118 [==============================] - 208s 2s/step - loss: 0.2582 - accuracy: 0.9279 - val_loss: 0.5728 - val_accuracy: 0.8707\n",
            "Epoch 14/30\n",
            "118/118 [==============================] - 208s 2s/step - loss: 0.1844 - accuracy: 0.9427 - val_loss: 0.3237 - val_accuracy: 0.9440\n",
            "INFO:tensorflow:Assets written to: /tmp/checkpoint/assets\n"
          ]
        },
        {
          "output_type": "stream",
          "name": "stderr",
          "text": [
            "/usr/local/lib/python3.7/dist-packages/keras/utils/generic_utils.py:497: CustomMaskWarning: Custom mask layers require a config and must override get_config. When loading, the custom mask layer must be passed to the custom_objects argument.\n",
            "  category=CustomMaskWarning)\n"
          ]
        },
        {
          "output_type": "stream",
          "name": "stdout",
          "text": [
            "Epoch 15/30\n",
            "118/118 [==============================] - 225s 2s/step - loss: 0.1382 - accuracy: 0.9554 - val_loss: 0.3917 - val_accuracy: 0.9073\n",
            "Epoch 16/30\n",
            "118/118 [==============================] - 208s 2s/step - loss: 0.1488 - accuracy: 0.9581 - val_loss: 0.5533 - val_accuracy: 0.8373\n",
            "Epoch 17/30\n",
            "118/118 [==============================] - 207s 2s/step - loss: 0.1421 - accuracy: 0.9597 - val_loss: 0.6090 - val_accuracy: 0.8987\n",
            "Epoch 18/30\n",
            "118/118 [==============================] - 208s 2s/step - loss: 0.1243 - accuracy: 0.9621 - val_loss: 0.2620 - val_accuracy: 0.9569\n",
            "INFO:tensorflow:Assets written to: /tmp/checkpoint/assets\n"
          ]
        },
        {
          "output_type": "stream",
          "name": "stderr",
          "text": [
            "/usr/local/lib/python3.7/dist-packages/keras/utils/generic_utils.py:497: CustomMaskWarning: Custom mask layers require a config and must override get_config. When loading, the custom mask layer must be passed to the custom_objects argument.\n",
            "  category=CustomMaskWarning)\n"
          ]
        },
        {
          "output_type": "stream",
          "name": "stdout",
          "text": [
            "Epoch 19/30\n",
            "118/118 [==============================] - 208s 2s/step - loss: 0.0963 - accuracy: 0.9703 - val_loss: 0.5965 - val_accuracy: 0.8858\n",
            "Epoch 20/30\n",
            "118/118 [==============================] - 207s 2s/step - loss: 0.1204 - accuracy: 0.9658 - val_loss: 0.4936 - val_accuracy: 0.8901\n",
            "Epoch 21/30\n",
            "118/118 [==============================] - 208s 2s/step - loss: 0.1146 - accuracy: 0.9706 - val_loss: 1.3582 - val_accuracy: 0.7317\n",
            "Epoch 22/30\n",
            "118/118 [==============================] - 207s 2s/step - loss: 0.1658 - accuracy: 0.9605 - val_loss: 0.5612 - val_accuracy: 0.9052\n",
            "Epoch 23/30\n",
            "118/118 [==============================] - 208s 2s/step - loss: 0.1324 - accuracy: 0.9674 - val_loss: 0.2909 - val_accuracy: 0.9256\n",
            "Epoch 24/30\n",
            "118/118 [==============================] - 208s 2s/step - loss: 0.1532 - accuracy: 0.9618 - val_loss: 3.7200 - val_accuracy: 0.6638\n",
            "Epoch 25/30\n",
            "118/118 [==============================] - 207s 2s/step - loss: 0.1611 - accuracy: 0.9509 - val_loss: 0.7515 - val_accuracy: 0.8599\n",
            "Epoch 26/30\n",
            "118/118 [==============================] - 207s 2s/step - loss: 0.0798 - accuracy: 0.9767 - val_loss: 0.1933 - val_accuracy: 0.9569\n",
            "Epoch 27/30\n",
            "118/118 [==============================] - 207s 2s/step - loss: 0.0801 - accuracy: 0.9764 - val_loss: 0.2797 - val_accuracy: 0.9418\n",
            "Epoch 28/30\n",
            "118/118 [==============================] - 207s 2s/step - loss: 0.0617 - accuracy: 0.9804 - val_loss: 0.2639 - val_accuracy: 0.9515\n",
            "Epoch 29/30\n",
            "118/118 [==============================] - 208s 2s/step - loss: 0.0735 - accuracy: 0.9798 - val_loss: 0.4667 - val_accuracy: 0.9159\n",
            "Epoch 30/30\n",
            "118/118 [==============================] - 207s 2s/step - loss: 0.0510 - accuracy: 0.9817 - val_loss: 0.2568 - val_accuracy: 0.9364\n"
          ]
        }
      ]
    },
    {
      "cell_type": "code",
      "metadata": {
        "colab": {
          "base_uri": "https://localhost:8080/",
          "height": 499
        },
        "id": "h9NblRt6yRxz",
        "outputId": "30f9e8c3-4188-4093-a65d-da8c368a2bd0"
      },
      "source": [
        "import matplotlib.pyplot as plt\n",
        "acc = history.history['accuracy']\n",
        "val_acc = history.history['val_accuracy']\n",
        "\n",
        "loss = history.history['loss']\n",
        "val_loss = history.history['val_loss']\n",
        "\n",
        "epochs_range = range(epochs)\n",
        "\n",
        "plt.figure(figsize=(8, 8))\n",
        "plt.subplot(1, 2, 1)\n",
        "plt.plot(epochs_range, acc, label='Training Accuracy')\n",
        "plt.plot(epochs_range, val_acc, label='Validation Accuracy')\n",
        "plt.legend(loc='lower right')\n",
        "plt.title('Training and Validation Accuracy')\n",
        "\n",
        "plt.subplot(1, 2, 2)\n",
        "plt.plot(epochs_range, loss, label='Training Loss')\n",
        "plt.plot(epochs_range, val_loss, label='Validation Loss')\n",
        "plt.legend(loc='upper right')\n",
        "plt.title('Training and Validation Loss')\n",
        "plt.show()"
      ],
      "execution_count": 15,
      "outputs": [
        {
          "output_type": "display_data",
          "data": {
            "image/png": "[encoded data removed]",
            "text/plain": [
              "<Figure size 576x576 with 2 Axes>"
            ]
          },
          "metadata": {
            "needs_background": "light"
          }
        }
      ]
    },
    {
      "cell_type": "code",
      "metadata": {
        "colab": {
          "base_uri": "https://localhost:8080/"
        },
        "id": "LnBfornvsQlX",
        "outputId": "301d3efa-0cb9-4c3d-abcb-d8891444fbdd"
      },
      "source": [
        "#Apply model to test set \n",
        "#Initialise test generator\n",
        "test_image_data = tf.keras.preprocessing.image.ImageDataGenerator()\n",
        "test_ds = test_image_data.flow_from_directory('/tmp/',\n",
        "                                              classes = ['test'],\n",
        "                                              target_size=(img_height,img_width),\n",
        "                                              batch_size = 1,\n",
        "                                              class_mode ='categorical',\n",
        "                                              shuffle = False)"
      ],
      "execution_count": 16,
      "outputs": [
        {
          "output_type": "stream",
          "name": "stdout",
          "text": [
            "Found 794 images belonging to 1 classes.\n"
          ]
        }
      ]
    },
    {
      "cell_type": "code",
      "metadata": {
        "colab": {
          "base_uri": "https://localhost:8080/"
        },
        "id": "Uqql-V_nxuPY",
        "outputId": "6a7e18c4-694d-4c14-e39d-79897134c7aa"
      },
      "source": [
        "model.save('/tmp/checkpoint/new_model.h5')"
      ],
      "execution_count": null,
      "outputs": [
        {
          "output_type": "stream",
          "name": "stderr",
          "text": [
            "/usr/local/lib/python3.7/dist-packages/keras/utils/generic_utils.py:497: CustomMaskWarning: Custom mask layers require a config and must override get_config. When loading, the custom mask layer must be passed to the custom_objects argument.\n",
            "  category=CustomMaskWarning)\n"
          ]
        }
      ]
    },
    {
      "cell_type": "code",
      "metadata": {
        "id": "CYFYJxBqyEls",
        "colab": {
          "base_uri": "https://localhost:8080/"
        },
        "outputId": "3d820104-0669-4c9a-eeaa-fba9e77853ee"
      },
      "source": [
        "model.evaluate_generator(generator=val_ds, steps=val_ds.samples//batch_size)"
      ],
      "execution_count": 17,
      "outputs": [
        {
          "output_type": "stream",
          "name": "stderr",
          "text": [
            "/usr/local/lib/python3.7/dist-packages/keras/engine/training.py:2006: UserWarning: `Model.evaluate_generator` is deprecated and will be removed in a future version. Please use `Model.evaluate`, which supports generators.\n",
            "  warnings.warn('`Model.evaluate_generator` is deprecated and '\n"
          ]
        },
        {
          "output_type": "execute_result",
          "data": {
            "text/plain": [
              "[0.2706887125968933, 0.9364224076271057]"
            ]
          },
          "metadata": {},
          "execution_count": 17
        }
      ]
    },
    {
      "cell_type": "code",
      "metadata": {
        "colab": {
          "base_uri": "https://localhost:8080/"
        },
        "id": "opvoLR4VuK6F",
        "outputId": "e42782ec-7bb9-4277-9dd5-502c2764ee6c"
      },
      "source": [
        "test_ds.reset() #maintain test order\n",
        "test_predictions = model.predict_generator(test_ds, test_ds.samples, verbose=1 )"
      ],
      "execution_count": 18,
      "outputs": [
        {
          "output_type": "stream",
          "name": "stderr",
          "text": [
            "/usr/local/lib/python3.7/dist-packages/keras/engine/training.py:2035: UserWarning: `Model.predict_generator` is deprecated and will be removed in a future version. Please use `Model.predict`, which supports generators.\n",
            "  warnings.warn('`Model.predict_generator` is deprecated and '\n"
          ]
        },
        {
          "output_type": "stream",
          "name": "stdout",
          "text": [
            "794/794 [==============================] - 17s 20ms/step\n"
          ]
        }
      ]
    },
    {
      "cell_type": "code",
      "metadata": {
        "colab": {
          "base_uri": "https://localhost:8080/"
        },
        "id": "wQD-akxTwvE9",
        "outputId": "dea55f00-2356-4c6f-a936-433ccd9fb231"
      },
      "source": [
        "predicted_plant_type = np.argmax(test_predictions, axis=1)"
      ],
      "execution_count": null,
      "outputs": [
        {
          "output_type": "execute_result",
          "data": {
            "text/plain": [
              "794"
            ]
          },
          "metadata": {},
          "execution_count": 29
        }
      ]
    },
    {
      "cell_type": "code",
      "metadata": {
        "colab": {
          "base_uri": "https://localhost:8080/",
          "height": 198
        },
        "id": "c2OGPofAvqet",
        "outputId": "0b9fb057-ba5b-427b-f7ec-6d789184c87c"
      },
      "source": [
        "labels = (train_ds.class_indices)\n",
        "labels = dict((v,k) for k,v in labels.items())\n",
        "predictions = [labels[k] for k in predicted_plant_type]"
      ],
      "execution_count": 19,
      "outputs": [
        {
          "output_type": "error",
          "ename": "NameError",
          "evalue": "ignored",
          "traceback": [
            "\u001b[0;31m---------------------------------------------------------------------------\u001b[0m",
            "\u001b[0;31mNameError\u001b[0m                                 Traceback (most recent call last)",
            "\u001b[0;32m<ipython-input-19-19f0089caf7b>\u001b[0m in \u001b[0;36m<module>\u001b[0;34m()\u001b[0m\n\u001b[1;32m      1\u001b[0m \u001b[0mlabels\u001b[0m \u001b[0;34m=\u001b[0m \u001b[0;34m(\u001b[0m\u001b[0mtrain_ds\u001b[0m\u001b[0;34m.\u001b[0m\u001b[0mclass_indices\u001b[0m\u001b[0;34m)\u001b[0m\u001b[0;34m\u001b[0m\u001b[0;34m\u001b[0m\u001b[0m\n\u001b[1;32m      2\u001b[0m \u001b[0mlabels\u001b[0m \u001b[0;34m=\u001b[0m \u001b[0mdict\u001b[0m\u001b[0;34m(\u001b[0m\u001b[0;34m(\u001b[0m\u001b[0mv\u001b[0m\u001b[0;34m,\u001b[0m\u001b[0mk\u001b[0m\u001b[0;34m)\u001b[0m \u001b[0;32mfor\u001b[0m \u001b[0mk\u001b[0m\u001b[0;34m,\u001b[0m\u001b[0mv\u001b[0m \u001b[0;32min\u001b[0m \u001b[0mlabels\u001b[0m\u001b[0;34m.\u001b[0m\u001b[0mitems\u001b[0m\u001b[0;34m(\u001b[0m\u001b[0;34m)\u001b[0m\u001b[0;34m)\u001b[0m\u001b[0;34m\u001b[0m\u001b[0;34m\u001b[0m\u001b[0m\n\u001b[0;32m----> 3\u001b[0;31m \u001b[0mpredictions\u001b[0m \u001b[0;34m=\u001b[0m \u001b[0;34m[\u001b[0m\u001b[0mlabels\u001b[0m\u001b[0;34m[\u001b[0m\u001b[0mk\u001b[0m\u001b[0;34m]\u001b[0m \u001b[0;32mfor\u001b[0m \u001b[0mk\u001b[0m \u001b[0;32min\u001b[0m \u001b[0mpredicted_plant_type\u001b[0m\u001b[0;34m]\u001b[0m\u001b[0;34m\u001b[0m\u001b[0;34m\u001b[0m\u001b[0m\n\u001b[0m",
            "\u001b[0;31mNameError\u001b[0m: name 'predicted_plant_type' is not defined"
          ]
        }
      ]
    },
    {
      "cell_type": "code",
      "metadata": {
        "id": "jFyNW-EWwFQg"
      },
      "source": [
        "#Change filenames to fit submission requirements \n",
        "'''\n",
        "Current test file name = 'test/0021e90e4.png'\n",
        "Required test file name = '0021e90e4.png'\n",
        "'''\n",
        "test_data = []\n",
        "for name in range(len(test_ds.filenames)):\n",
        "  test_data.append(test_ds.filenames[name].split('/')[1])"
      ],
      "execution_count": null,
      "outputs": []
    },
    {
      "cell_type": "code",
      "metadata": {
        "id": "YKosU0aFukKB"
      },
      "source": [
        "#Find the class with the highest probability for each instance \n",
        "import pandas as pd\n",
        "\n",
        "final_prob = []\n",
        "for i in range(test_predictions.shape[0]):\n",
        "  #Get index of plant with highest probability \n",
        "  max_prob = test_predictions[i,:].argmax(axis = -1)\n",
        "  #append plant name into file\n",
        "  final_prob.append(plant_type_list[max_prob])\n",
        "\n",
        "final_sub = pd.DataFrame()\n",
        "final_sub['file'] = test_data\n",
        "final_sub['species'] = final_prob \n",
        "\n",
        "final_sub.to_csv('submission.csv', index=False)"
      ],
      "execution_count": null,
      "outputs": []
    }
  ]
}