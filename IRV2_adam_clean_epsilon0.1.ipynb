{
  "nbformat": 4,
  "nbformat_minor": 0,
  "metadata": {
    "colab": {
      "name": "Untitled0.ipynb",
      "provenance": [],
      "include_colab_link": true
    },
    "kernelspec": {
      "display_name": "Python 3",
      "name": "python3"
    },
    "language_info": {
      "name": "python"
    },
    "accelerator": "GPU"
  },
  "cells": [
    {
      "cell_type": "markdown",
      "metadata": {
        "id": "view-in-github",
        "colab_type": "text"
      },
      "source": [
        "<a href=\"https://colab.research.google.com/github/estherc247/cz4041_ML/blob/main/IRV2_adam_clean_epsilon0.1.ipynb\" target=\"_parent\"><img src=\"https://colab.research.google.com/assets/colab-badge.svg\" alt=\"Open In Colab\"/></a>"
      ]
    },
    {
      "cell_type": "code",
      "metadata": {
        "colab": {
          "base_uri": "https://localhost:8080/"
        },
        "id": "3OfRVxl7BJU0",
        "outputId": "f6d52af1-98ab-45da-9afd-ac26ae592615"
      },
      "source": [
        "#Import data from Google Drive \n",
        "from google.colab import drive \n",
        "drive.mount('/content/gdrive/')"
      ],
      "execution_count": 1,
      "outputs": [
        {
          "output_type": "stream",
          "name": "stdout",
          "text": [
            "Mounted at /content/gdrive/\n"
          ]
        }
      ]
    },
    {
      "cell_type": "code",
      "metadata": {
        "id": "AwixEYRMBN3j"
      },
      "source": [
        "#Import Libraries \n",
        "import tensorflow as tf \n",
        "import keras\n",
        "from keras.preprocessing.image import ImageDataGenerator, array_to_img, img_to_array, load_img\n",
        "import pandas as pd \n",
        "from PIL import Image\n",
        "import glob\n",
        "import os \n",
        "from os import listdir\n",
        "from os.path import isfile, join\n",
        "import matplotlib\n",
        "import matplotlib.pyplot as plt\n",
        "import pandas as pd\n",
        "import cv2\n",
        "import numpy as np\n",
        "from glob import glob\n",
        "import seaborn as sns\n",
        "import csv"
      ],
      "execution_count": 2,
      "outputs": []
    },
    {
      "cell_type": "code",
      "metadata": {
        "id": "g5WcVRevBP48"
      },
      "source": [
        "#Load Data\n",
        "import shutil\n",
        "data_dir_train = '/content/gdrive/MyDrive/Y4/CZ4041_Machine_Learning/plant_data/plant-seedlings-classification/train_sharpened'\n",
        "data_dir_test = '/content/gdrive/MyDrive/Y4/CZ4041_Machine_Learning/plant_data/plant-seedlings-classification/'\n",
        "TEST_DATA_FOLDER = '/content/gdrive/MyDrive/Y4/CZ4041_Machine_Learning/plant_data/plant-seedlings-classification/test_sharpened'"
      ],
      "execution_count": 3,
      "outputs": []
    },
    {
      "cell_type": "code",
      "metadata": {
        "id": "4nqm4h7zByUX"
      },
      "source": [
        "#For inceptionresnetv2\n",
        "batch_size = 32\n",
        "img_width = 299\n",
        "img_height = 299\n",
        "epochs = 20"
      ],
      "execution_count": 4,
      "outputs": []
    },
    {
      "cell_type": "code",
      "metadata": {
        "colab": {
          "base_uri": "https://localhost:8080/"
        },
        "id": "6KcPhqqXB1EN",
        "outputId": "42792be6-ee4f-4209-dec7-a63ad4f054e6"
      },
      "source": [
        "#Split data \n",
        "train_image_data = ImageDataGenerator(\n",
        "    validation_split = 0.2,\n",
        "    rescale = 1.0/255.0,\n",
        "    rotation_range = 30,\n",
        "    horizontal_flip = True, \n",
        "    vertical_flip = True,\n",
        "    zoom_range=0.4, \n",
        "    shear_range = 0.3\n",
        ")\n",
        "\n",
        "#[3803 images belonging to 12 class]\n",
        "train_ds = train_image_data.flow_from_directory(\n",
        "  data_dir_train,\n",
        "  shuffle = True,\n",
        "  target_size=(img_height, img_width),\n",
        "  class_mode = 'categorical',\n",
        "  batch_size=batch_size,\n",
        "  subset=\"training\")\n",
        "\n",
        "#[947 images belonging to 12 class]\n",
        "val_ds = train_image_data.flow_from_directory(\n",
        "  data_dir_train,\n",
        "  shuffle = True,\n",
        "  target_size=(img_height, img_width),\n",
        "  class_mode = 'categorical',\n",
        "  batch_size=batch_size,\n",
        "  subset=\"validation\")"
      ],
      "execution_count": 5,
      "outputs": [
        {
          "output_type": "stream",
          "name": "stdout",
          "text": [
            "Found 3803 images belonging to 12 classes.\n",
            "Found 947 images belonging to 12 classes.\n"
          ]
        }
      ]
    },
    {
      "cell_type": "code",
      "metadata": {
        "id": "iSLbPrvcdI3Q"
      },
      "source": [
        "# !mkdir '/test_data'\n",
        "# test_destination = '/test_data'\n",
        "# shutil.move(NEW_TEST_DATA_FOLDER, test_destination)"
      ],
      "execution_count": null,
      "outputs": []
    },
    {
      "cell_type": "code",
      "metadata": {
        "colab": {
          "base_uri": "https://localhost:8080/"
        },
        "id": "H8PSu7jIc-9p",
        "outputId": "4f23368c-3d08-46a8-9b01-45ad85ffd8d5"
      },
      "source": [
        "#Initialise test generator [794 images belonging to 1 class]\n",
        "test_image_data = ImageDataGenerator(rescale=1./255)\n",
        "test_ds = test_image_data.flow_from_directory(data_dir_test,\n",
        "                                              classes=['test_sharpened'],\n",
        "                                              target_size=(img_height,img_width),\n",
        "                                              batch_size = 1,\n",
        "                                              class_mode ='categorical',\n",
        "                                              shuffle = False)"
      ],
      "execution_count": 6,
      "outputs": [
        {
          "output_type": "stream",
          "name": "stdout",
          "text": [
            "Found 794 images belonging to 1 classes.\n"
          ]
        }
      ]
    },
    {
      "cell_type": "code",
      "metadata": {
        "id": "QkC3vE5DdVq9"
      },
      "source": [
        "train_steps = train_ds.samples//batch_size\n",
        "val_steps = val_ds.samples//batch_size\n",
        "test_steps = test_ds.samples"
      ],
      "execution_count": 7,
      "outputs": []
    },
    {
      "cell_type": "code",
      "metadata": {
        "colab": {
          "base_uri": "https://localhost:8080/"
        },
        "id": "YrulwJEmdc9L",
        "outputId": "ec4275f3-6edd-40c5-a14a-d54c1fc16b23"
      },
      "source": [
        "#Model 3\n",
        "from tensorflow.keras.applications.inception_resnet_v2 import InceptionResNetV2\n",
        "\n",
        "#Transfer Learning\n",
        "# base_model = InceptionResNetV2(include_top=False, weights='imagenet')\n",
        "# base_model.trainable = False\n",
        "\n",
        "input_layer = tf.keras.layers.Input(shape=(img_width, img_height, 3))\n",
        "base_model = InceptionResNetV2(include_top=False, weights='imagenet')(input_layer)\n",
        "flat_layer = tf.keras.layers.Flatten()(base_model)\n",
        "dense_layer_1 = tf.keras.layers.Dense(128, activation='relu')(flat_layer)\n",
        "drop_layer = tf.keras.layers.Dropout(0.2)(dense_layer_1)\n",
        "output_layer = tf.keras.layers.Dense(12, activation='softmax')(drop_layer)\n",
        "\n",
        "model = tf.keras.Model(input_layer, output_layer)\n",
        "model.summary()"
      ],
      "execution_count": 8,
      "outputs": [
        {
          "output_type": "stream",
          "name": "stdout",
          "text": [
            "Downloading data from https://storage.googleapis.com/tensorflow/keras-applications/inception_resnet_v2/inception_resnet_v2_weights_tf_dim_ordering_tf_kernels_notop.h5\n",
            "219062272/219055592 [==============================] - 3s 0us/step\n",
            "219070464/219055592 [==============================] - 3s 0us/step\n",
            "Model: \"model\"\n",
            "_________________________________________________________________\n",
            "Layer (type)                 Output Shape              Param #   \n",
            "=================================================================\n",
            "input_1 (InputLayer)         [(None, 299, 299, 3)]     0         \n",
            "_________________________________________________________________\n",
            "inception_resnet_v2 (Functio (None, None, None, 1536)  54336736  \n",
            "_________________________________________________________________\n",
            "flatten (Flatten)            (None, 98304)             0         \n",
            "_________________________________________________________________\n",
            "dense (Dense)                (None, 128)               12583040  \n",
            "_________________________________________________________________\n",
            "dropout (Dropout)            (None, 128)               0         \n",
            "_________________________________________________________________\n",
            "dense_1 (Dense)              (None, 12)                1548      \n",
            "=================================================================\n",
            "Total params: 66,921,324\n",
            "Trainable params: 66,860,780\n",
            "Non-trainable params: 60,544\n",
            "_________________________________________________________________\n"
          ]
        }
      ]
    },
    {
      "cell_type": "code",
      "metadata": {
        "id": "pK3P1Yiide-t"
      },
      "source": [
        "#Compile model \n",
        "from tensorflow.keras.optimizers import Adam\n",
        "opt = Adam(learning_rate=0.0005, epsilon=0.1)\n",
        "model.compile(optimizer=opt, loss='categorical_crossentropy', metrics=['accuracy'])"
      ],
      "execution_count": 10,
      "outputs": []
    },
    {
      "cell_type": "code",
      "metadata": {
        "id": "mbGVVG4LdmVr"
      },
      "source": [
        "#Save model checkpoint\n",
        "checkpoint_filepath = '/tmp/checkpoint'\n",
        "model_checkpoint_callback = tf.keras.callbacks.ModelCheckpoint(\n",
        "    filepath=checkpoint_filepath,\n",
        "    monitor='val_accuracy',\n",
        "    mode='max',\n",
        "    save_best_only=True)"
      ],
      "execution_count": 11,
      "outputs": []
    },
    {
      "cell_type": "code",
      "metadata": {
        "colab": {
          "base_uri": "https://localhost:8080/"
        },
        "id": "KcJC2ApDdpdm",
        "outputId": "610f4138-69a3-4f53-abbc-8a8bd82fdcd5"
      },
      "source": [
        "#Train Model\n",
        "history = model.fit(\n",
        "                train_ds,\n",
        "                steps_per_epoch = train_steps,\n",
        "                validation_data = val_ds, \n",
        "                validation_steps = val_steps,\n",
        "                epochs = epochs, \n",
        "                callbacks=[model_checkpoint_callback])"
      ],
      "execution_count": 12,
      "outputs": [
        {
          "output_type": "stream",
          "name": "stdout",
          "text": [
            "Epoch 1/20\n",
            "118/118 [==============================] - 2183s 18s/step - loss: 2.3077 - accuracy: 0.2159 - val_loss: 1.9979 - val_accuracy: 0.3157\n",
            "INFO:tensorflow:Assets written to: /tmp/checkpoint/assets\n",
            "Epoch 2/20\n",
            "118/118 [==============================] - 334s 3s/step - loss: 1.5705 - accuracy: 0.4755 - val_loss: 1.1619 - val_accuracy: 0.6304\n",
            "INFO:tensorflow:Assets written to: /tmp/checkpoint/assets\n",
            "Epoch 3/20\n",
            "118/118 [==============================] - 334s 3s/step - loss: 0.9499 - accuracy: 0.6805 - val_loss: 0.7078 - val_accuracy: 0.7651\n",
            "INFO:tensorflow:Assets written to: /tmp/checkpoint/assets\n",
            "Epoch 4/20\n",
            "118/118 [==============================] - 334s 3s/step - loss: 0.6329 - accuracy: 0.7735 - val_loss: 0.5713 - val_accuracy: 0.8200\n",
            "INFO:tensorflow:Assets written to: /tmp/checkpoint/assets\n",
            "Epoch 5/20\n",
            "118/118 [==============================] - 333s 3s/step - loss: 0.5003 - accuracy: 0.8247 - val_loss: 0.4545 - val_accuracy: 0.8491\n",
            "INFO:tensorflow:Assets written to: /tmp/checkpoint/assets\n",
            "Epoch 6/20\n",
            "118/118 [==============================] - 333s 3s/step - loss: 0.3996 - accuracy: 0.8557 - val_loss: 0.4327 - val_accuracy: 0.8685\n",
            "INFO:tensorflow:Assets written to: /tmp/checkpoint/assets\n",
            "Epoch 7/20\n",
            "118/118 [==============================] - 333s 3s/step - loss: 0.3226 - accuracy: 0.8910 - val_loss: 0.3050 - val_accuracy: 0.9009\n",
            "INFO:tensorflow:Assets written to: /tmp/checkpoint/assets\n",
            "Epoch 8/20\n",
            "118/118 [==============================] - 333s 3s/step - loss: 0.2945 - accuracy: 0.8926 - val_loss: 0.3467 - val_accuracy: 0.8879\n",
            "Epoch 9/20\n",
            "118/118 [==============================] - 333s 3s/step - loss: 0.2637 - accuracy: 0.9045 - val_loss: 0.2986 - val_accuracy: 0.9062\n",
            "INFO:tensorflow:Assets written to: /tmp/checkpoint/assets\n",
            "Epoch 10/20\n",
            "118/118 [==============================] - 333s 3s/step - loss: 0.2239 - accuracy: 0.9215 - val_loss: 0.2765 - val_accuracy: 0.9192\n",
            "INFO:tensorflow:Assets written to: /tmp/checkpoint/assets\n",
            "Epoch 11/20\n",
            "118/118 [==============================] - 334s 3s/step - loss: 0.1991 - accuracy: 0.9247 - val_loss: 0.2687 - val_accuracy: 0.9181\n",
            "Epoch 12/20\n",
            "118/118 [==============================] - 333s 3s/step - loss: 0.1811 - accuracy: 0.9342 - val_loss: 0.2588 - val_accuracy: 0.9256\n",
            "INFO:tensorflow:Assets written to: /tmp/checkpoint/assets\n",
            "Epoch 13/20\n",
            "118/118 [==============================] - 333s 3s/step - loss: 0.1825 - accuracy: 0.9321 - val_loss: 0.2742 - val_accuracy: 0.9278\n",
            "INFO:tensorflow:Assets written to: /tmp/checkpoint/assets\n",
            "Epoch 14/20\n",
            "118/118 [==============================] - 330s 3s/step - loss: 0.1658 - accuracy: 0.9353 - val_loss: 0.2441 - val_accuracy: 0.9321\n",
            "INFO:tensorflow:Assets written to: /tmp/checkpoint/assets\n",
            "Epoch 15/20\n",
            "118/118 [==============================] - 330s 3s/step - loss: 0.1464 - accuracy: 0.9454 - val_loss: 0.2797 - val_accuracy: 0.9256\n",
            "Epoch 16/20\n",
            "118/118 [==============================] - 331s 3s/step - loss: 0.1360 - accuracy: 0.9488 - val_loss: 0.2631 - val_accuracy: 0.9321\n",
            "Epoch 17/20\n",
            "118/118 [==============================] - 331s 3s/step - loss: 0.1189 - accuracy: 0.9565 - val_loss: 0.2174 - val_accuracy: 0.9440\n",
            "INFO:tensorflow:Assets written to: /tmp/checkpoint/assets\n",
            "Epoch 18/20\n",
            "118/118 [==============================] - 331s 3s/step - loss: 0.1233 - accuracy: 0.9525 - val_loss: 0.2380 - val_accuracy: 0.9407\n",
            "Epoch 19/20\n",
            "118/118 [==============================] - 331s 3s/step - loss: 0.1172 - accuracy: 0.9560 - val_loss: 0.2417 - val_accuracy: 0.9364\n",
            "Epoch 20/20\n",
            "118/118 [==============================] - 330s 3s/step - loss: 0.1066 - accuracy: 0.9605 - val_loss: 0.2089 - val_accuracy: 0.9504\n",
            "INFO:tensorflow:Assets written to: /tmp/checkpoint/assets\n"
          ]
        }
      ]
    },
    {
      "cell_type": "code",
      "metadata": {
        "id": "bREQ4Ko-d2dx",
        "colab": {
          "base_uri": "https://localhost:8080/",
          "height": 336
        },
        "outputId": "f832bfef-41b7-4dd9-f5b9-ec32b4e8e4be"
      },
      "source": [
        "import matplotlib.pyplot as plt\n",
        "acc = history.history['accuracy']\n",
        "val_acc = history.history['val_accuracy']\n",
        "\n",
        "loss = history.history['loss']\n",
        "val_loss = history.history['val_loss']\n",
        "\n",
        "epochs_range = range(epochs)\n",
        "\n",
        "plt.figure(figsize=(8, 5))\n",
        "plt.subplot(1, 2, 1)\n",
        "plt.plot(epochs_range, acc, label='Training Accuracy')\n",
        "plt.plot(epochs_range, val_acc, label='Validation Accuracy')\n",
        "plt.legend(loc='lower right')\n",
        "plt.title('Training and Validation Accuracy')\n",
        "\n",
        "plt.subplot(1, 2, 2)\n",
        "plt.plot(epochs_range, loss, label='Training Loss')\n",
        "plt.plot(epochs_range, val_loss, label='Validation Loss')\n",
        "plt.legend(loc='upper right')\n",
        "plt.title('Training and Validation Loss')\n",
        "plt.show()"
      ],
      "execution_count": 13,
      "outputs": [
        {
          "output_type": "display_data",
          "data": {
            "image/png": "[encoded data removed]",
            "text/plain": [
              "<Figure size 576x360 with 2 Axes>"
            ]
          },
          "metadata": {
            "needs_background": "light"
          }
        }
      ]
    },
    {
      "cell_type": "code",
      "metadata": {
        "id": "daFyNXKLd7k8",
        "colab": {
          "base_uri": "https://localhost:8080/"
        },
        "outputId": "49edfb74-b6c6-46a1-ed53-54353ac052b5"
      },
      "source": [
        "model.evaluate(generator=val_ds, steps=val_steps)"
      ],
      "execution_count": 14,
      "outputs": [
        {
          "output_type": "stream",
          "name": "stderr",
          "text": [
            "/usr/local/lib/python3.7/dist-packages/keras/engine/training.py:2006: UserWarning: `Model.evaluate_generator` is deprecated and will be removed in a future version. Please use `Model.evaluate`, which supports generators.\n",
            "  warnings.warn('`Model.evaluate_generator` is deprecated and '\n"
          ]
        },
        {
          "output_type": "execute_result",
          "data": {
            "text/plain": [
              "[0.22724361717700958, 0.9418103694915771]"
            ]
          },
          "metadata": {},
          "execution_count": 14
        }
      ]
    },
    {
      "cell_type": "code",
      "metadata": {
        "id": "5S74cOmXd_pe",
        "colab": {
          "base_uri": "https://localhost:8080/"
        },
        "outputId": "1c2685b8-5a7c-4eb9-abe6-9e1e20fba12d"
      },
      "source": [
        "test_ds.reset() #maintain test order\n",
        "test_predictions = model.predict_generator(test_ds, test_steps, verbose=1 )"
      ],
      "execution_count": 15,
      "outputs": [
        {
          "output_type": "stream",
          "name": "stderr",
          "text": [
            "/usr/local/lib/python3.7/dist-packages/keras/engine/training.py:2035: UserWarning: `Model.predict_generator` is deprecated and will be removed in a future version. Please use `Model.predict`, which supports generators.\n",
            "  warnings.warn('`Model.predict_generator` is deprecated and '\n"
          ]
        },
        {
          "output_type": "stream",
          "name": "stdout",
          "text": [
            "794/794 [==============================] - 432s 538ms/step\n"
          ]
        }
      ]
    },
    {
      "cell_type": "code",
      "metadata": {
        "id": "ji9jdKv3eC3t"
      },
      "source": [
        "import numpy as np\n",
        "predicted_plant_type = np.argmax(test_predictions, axis=1)\n",
        "\n",
        "labels = (train_ds.class_indices)\n",
        "labels = dict((v,k) for k,v in labels.items())\n",
        "predictions = [labels[k] for k in predicted_plant_type]\n",
        "\n",
        "test_pred = []\n",
        "filenames=test_ds.filenames\n",
        "for name in range(len(filenames)):\n",
        "   test_pred.append(filenames[name].split('/')[1])\n",
        "\n",
        "results=pd.DataFrame({\"file\":test_pred,\n",
        "                      \"species\":predictions})\n",
        "results.to_csv(\"submission.csv\",index=False)"
      ],
      "execution_count": 16,
      "outputs": []
    }
  ]
}