{
  "nbformat": 4,
  "nbformat_minor": 0,
  "metadata": {
    "kernelspec": {
      "language": "python",
      "display_name": "Python 3",
      "name": "python3"
    },
    "language_info": {
      "name": "python",
      "version": "3.7.10",
      "mimetype": "text/x-python",
      "codemirror_mode": {
        "name": "ipython",
        "version": 3
      },
      "pygments_lexer": "ipython3",
      "nbconvert_exporter": "python",
      "file_extension": ".py"
    },
    "colab": {
      "name": "tl_code.ipynb",
      "provenance": []
    },
    "accelerator": "GPU"
  },
  "cells": [
    {
      "cell_type": "code",
      "metadata": {
        "colab": {
          "base_uri": "https://localhost:8080/"
        },
        "id": "Lcx3oeShONzn",
        "outputId": "56bd17a7-96e0-4c3a-f631-b8560f4dfceb"
      },
      "source": [
        "#Import data from Google Drive \n",
        "from google.colab import drive \n",
        "drive.mount('/content/gdrive/')"
      ],
      "execution_count": null,
      "outputs": [
        {
          "output_type": "stream",
          "name": "stdout",
          "text": [
            "Mounted at /content/gdrive/\n"
          ]
        }
      ]
    },
    {
      "cell_type": "code",
      "metadata": {
        "execution": {
          "iopub.status.busy": "2021-11-19T13:57:06.014867Z",
          "iopub.execute_input": "2021-11-19T13:57:06.015138Z",
          "iopub.status.idle": "2021-11-19T13:57:12.11622Z",
          "shell.execute_reply.started": "2021-11-19T13:57:06.015108Z",
          "shell.execute_reply": "2021-11-19T13:57:12.115579Z"
        },
        "trusted": true,
        "id": "O_Cagv_hNi62"
      },
      "source": [
        "#Import Libraries \n",
        "import tensorflow as tf \n",
        "import keras\n",
        "from keras.preprocessing.image import ImageDataGenerator, array_to_img, img_to_array, load_img\n",
        "import pandas as pd \n",
        "from PIL import Image\n",
        "import glob\n",
        "import os \n",
        "from os import listdir\n",
        "from os.path import isfile, join\n",
        "import matplotlib\n",
        "import matplotlib.pyplot as plt\n",
        "import pandas as pd\n",
        "import cv2\n",
        "import numpy as np\n",
        "from glob import glob\n",
        "import seaborn as sns\n",
        "import csv\n",
        "from tabulate import tabulate"
      ],
      "execution_count": null,
      "outputs": []
    },
    {
      "cell_type": "code",
      "metadata": {
        "execution": {
          "iopub.status.busy": "2021-11-19T13:57:16.623062Z",
          "iopub.execute_input": "2021-11-19T13:57:16.623554Z",
          "iopub.status.idle": "2021-11-19T13:57:16.628038Z",
          "shell.execute_reply.started": "2021-11-19T13:57:16.623503Z",
          "shell.execute_reply": "2021-11-19T13:57:16.626828Z"
        },
        "trusted": true,
        "id": "j45JHYrINi64"
      },
      "source": [
        "data_dir_train = '/content/gdrive/MyDrive/Y4/CZ4041_Machine_Learning/plant_data/plant-seedlings-classification/train'\n",
        "data_dir_test = '/content/gdrive/MyDrive/Y4/CZ4041_Machine_Learning/plant_data/plant-seedlings-classification/'"
      ],
      "execution_count": null,
      "outputs": []
    },
    {
      "cell_type": "markdown",
      "metadata": {
        "id": "pweYqjRbNi65"
      },
      "source": [
        "## Exploratory Data Analysis"
      ]
    },
    {
      "cell_type": "code",
      "metadata": {
        "colab": {
          "base_uri": "https://localhost:8080/",
          "height": 912
        },
        "id": "gvOORDCEPHl5",
        "outputId": "d37d88de-d61f-44f5-b810-f4342fe23d32"
      },
      "source": [
        "all_count_list = [] #stores all the image counts\n",
        "single_type_list = [] #stores all the images of each type\n",
        "plant_type_list = os.listdir(data_dir_train)\n",
        "\n",
        "for label in range(len(plant_type_list)):\n",
        "  type_dir = data_dir_train + '/' + plant_type_list[label]\n",
        "  plant_count = 0\n",
        "  for pic in os.listdir(type_dir):\n",
        "    plant_count += 1\n",
        "  all_count_list.append(plant_count)\n",
        "\n",
        "type_count_list = []\n",
        "count_list = []\n",
        "number_list = []\n",
        "for i in range(12):\n",
        "  type_count_list.append(plant_type_list[i])\n",
        "  type_count_list.append(all_count_list[i])\n",
        "  number_list.append(all_count_list[i])\n",
        "  count_list.append(type_count_list)\n",
        "  type_count_list = []\n",
        "\n",
        "print(\"--- Data Statistics ---\")\n",
        "print(tabulate(count_list))\n",
        "\n",
        "print(\"--- Data Distribution ---\")\n",
        "plt.figure(figsize=(12,8))\n",
        "plt.bar(plant_type_list, number_list)\n",
        "plt.xticks(rotation='vertical')"
      ],
      "execution_count": null,
      "outputs": [
        {
          "output_type": "stream",
          "name": "stdout",
          "text": [
            "--- Data Statistics ---\n",
            "-------------------------  ---\n",
            "Cleavers                   287\n",
            "Sugar beet                 385\n",
            "Common Chickweed           611\n",
            "Loose Silky-bent           654\n",
            "Scentless Mayweed          516\n",
            "Shepherds Purse            231\n",
            "Common wheat               221\n",
            "Fat Hen                    475\n",
            "Small-flowered Cranesbill  496\n",
            "Black-grass                263\n",
            "Charlock                   390\n",
            "Maize                      221\n",
            "-------------------------  ---\n",
            "--- Data Distribution ---\n"
          ]
        },
        {
          "output_type": "execute_result",
          "data": {
            "text/plain": [
              "([0, 1, 2, 3, 4, 5, 6, 7, 8, 9, 10, 11],\n",
              " <a list of 12 Text major ticklabel objects>)"
            ]
          },
          "metadata": {},
          "execution_count": 23
        },
        {
          "output_type": "display_data",
          "data": {
            "image/png": "[encoded data removed]",
            "text/plain": [
              "<Figure size 864x576 with 1 Axes>"
            ]
          },
          "metadata": {
            "needs_background": "light"
          }
        }
      ]
    },
    {
      "cell_type": "code",
      "metadata": {
        "colab": {
          "base_uri": "https://localhost:8080/"
        },
        "id": "Qcz2xSfptmnt",
        "outputId": "05ae29f3-decb-4bea-fb55-30e1fcb589d6"
      },
      "source": [
        "#Oversampling \n",
        "from sklearn.datasets import make_classification\n",
        "from imblearn.over_sampling import RandomOverSampler\n",
        "from imblearn.under_sampling import RandomUnderSampler\n",
        "from collections import Counter\n",
        "\n",
        "# ros = RandomOverSampler()\n",
        "# #resample using image count and labels \n",
        "# image_ros, label_ros = ros.fit_resample()\n",
        "\n",
        "sum = 0\n",
        "for i in range(12):\n",
        "  sum += number_list[i]\n",
        "\n",
        "print(sum)"
      ],
      "execution_count": null,
      "outputs": [
        {
          "output_type": "stream",
          "name": "stdout",
          "text": [
            "4750\n"
          ]
        }
      ]
    },
    {
      "cell_type": "markdown",
      "metadata": {
        "id": "jJZCr8WmQpG7"
      },
      "source": [
        "## Transfer Learning"
      ]
    },
    {
      "cell_type": "code",
      "metadata": {
        "execution": {
          "iopub.status.busy": "2021-11-19T13:30:51.49326Z",
          "iopub.execute_input": "2021-11-19T13:30:51.49374Z",
          "iopub.status.idle": "2021-11-19T13:30:51.500173Z",
          "shell.execute_reply.started": "2021-11-19T13:30:51.493705Z",
          "shell.execute_reply": "2021-11-19T13:30:51.498955Z"
        },
        "trusted": true,
        "id": "c2JNm7UqNi66"
      },
      "source": [
        "#For inceptionresnetv2\n",
        "batch_size = 32\n",
        "img_width = 299\n",
        "img_height = 299\n",
        "epochs = 50"
      ],
      "execution_count": null,
      "outputs": []
    },
    {
      "cell_type": "code",
      "metadata": {
        "execution": {
          "iopub.status.busy": "2021-11-19T13:30:53.291549Z",
          "iopub.execute_input": "2021-11-19T13:30:53.292253Z",
          "iopub.status.idle": "2021-11-19T13:30:54.190575Z",
          "shell.execute_reply.started": "2021-11-19T13:30:53.29222Z",
          "shell.execute_reply": "2021-11-19T13:30:54.189528Z"
        },
        "trusted": true,
        "colab": {
          "base_uri": "https://localhost:8080/"
        },
        "id": "hLkrsLULNi66",
        "outputId": "4d68083c-17f7-4759-a1dc-542d65024e1c"
      },
      "source": [
        "#Split data \n",
        "train_image_data = ImageDataGenerator(\n",
        "    validation_split = 0.2,\n",
        "    rescale = 1.0/255.0,\n",
        "    rotation_range = 360,\n",
        "    horizontal_flip = True, \n",
        "    vertical_flip = True,\n",
        "    zoom_range=0.4, \n",
        "    shear_range = 0.3,\n",
        "    width_shift_range=0.3,\n",
        "    height_shift_range=0.3\n",
        ")\n",
        "\n",
        "#[3803 images belonging to 12 class]\n",
        "train_ds = train_image_data.flow_from_directory(\n",
        "  data_dir_train,\n",
        "  shuffle = True,\n",
        "  target_size=(img_height, img_width),\n",
        "  class_mode = 'categorical',\n",
        "  batch_size=batch_size,\n",
        "  subset=\"training\")\n",
        "\n",
        "#[947 images belonging to 12 class]\n",
        "val_ds = train_image_data.flow_from_directory(\n",
        "  data_dir_train,\n",
        "  shuffle = True,\n",
        "  target_size=(img_height, img_width),\n",
        "  class_mode = 'categorical',\n",
        "  batch_size=batch_size,\n",
        "  subset=\"validation\")"
      ],
      "execution_count": null,
      "outputs": [
        {
          "output_type": "stream",
          "name": "stdout",
          "text": [
            "Found 3803 images belonging to 12 classes.\n",
            "Found 947 images belonging to 12 classes.\n"
          ]
        }
      ]
    },
    {
      "cell_type": "code",
      "metadata": {
        "execution": {
          "iopub.status.busy": "2021-11-19T13:30:56.75172Z",
          "iopub.execute_input": "2021-11-19T13:30:56.752476Z",
          "iopub.status.idle": "2021-11-19T13:30:56.96814Z",
          "shell.execute_reply.started": "2021-11-19T13:30:56.752426Z",
          "shell.execute_reply": "2021-11-19T13:30:56.967007Z"
        },
        "trusted": true,
        "colab": {
          "base_uri": "https://localhost:8080/"
        },
        "id": "QOFqcPmvNi67",
        "outputId": "3d913e35-887b-4a0f-bf9a-e6a5443a8540"
      },
      "source": [
        "#Initialise test generator [794 images belonging to 1 class]\n",
        "test_image_data = ImageDataGenerator(rescale=1./255)\n",
        "test_ds = test_image_data.flow_from_directory(data_dir_test,\n",
        "                                              classes = ['test'],\n",
        "                                              target_size=(img_height,img_width),\n",
        "                                              batch_size = 1,\n",
        "                                              class_mode ='categorical',\n",
        "                                              shuffle = False)"
      ],
      "execution_count": null,
      "outputs": [
        {
          "output_type": "stream",
          "name": "stdout",
          "text": [
            "Found 794 images belonging to 1 classes.\n"
          ]
        }
      ]
    },
    {
      "cell_type": "code",
      "metadata": {
        "execution": {
          "iopub.status.busy": "2021-11-19T13:30:59.21121Z",
          "iopub.execute_input": "2021-11-19T13:30:59.211511Z",
          "iopub.status.idle": "2021-11-19T13:30:59.217708Z",
          "shell.execute_reply.started": "2021-11-19T13:30:59.211476Z",
          "shell.execute_reply": "2021-11-19T13:30:59.216095Z"
        },
        "trusted": true,
        "id": "EVucIqm2Ni67"
      },
      "source": [
        "#Initialise steps per epochs\n",
        "train_steps = train_ds.samples//batch_size\n",
        "val_steps = val_ds.samples//batch_size\n",
        "test_steps = test_ds.samples"
      ],
      "execution_count": null,
      "outputs": []
    },
    {
      "cell_type": "code",
      "metadata": {
        "execution": {
          "iopub.status.busy": "2021-11-19T13:32:46.588534Z",
          "iopub.execute_input": "2021-11-19T13:32:46.588852Z",
          "iopub.status.idle": "2021-11-19T13:32:54.883311Z",
          "shell.execute_reply.started": "2021-11-19T13:32:46.588822Z",
          "shell.execute_reply": "2021-11-19T13:32:54.882406Z"
        },
        "trusted": true,
        "colab": {
          "base_uri": "https://localhost:8080/"
        },
        "id": "dR9k12U8Ni68",
        "outputId": "7a90c56e-d3e1-4860-b1b1-428d61fc26a8"
      },
      "source": [
        "#Model 3\n",
        "from tensorflow.keras.applications.inception_resnet_v2 import InceptionResNetV2\n",
        "base_model = InceptionResNetV2(input_shape = (img_width, img_height, 3),\n",
        "                               include_top=False, weights='imagenet')\n",
        "base_model.trainable = False\n",
        "\n",
        "input_layer = tf.keras.layers.Input(shape=(img_width, img_height, 3))\n",
        "x = base_model(input_layer, training=False)\n",
        "max_pool = tf.keras.layers.MaxPool2D(pool_size=(2,2))(x)\n",
        "dense_layer_1 = tf.keras.layers.Dense(128, activation='relu')(max_pool)\n",
        "drop_layer = tf.keras.layers.Dropout(0.2)(dense_layer_1)\n",
        "flat_layer = tf.keras.layers.Flatten()(drop_layer)\n",
        "dense_layer_2 = tf.keras.layers.Dense(256, activation='relu')(flat_layer)\n",
        "drop_layer_2 = tf.keras.layers.Dropout(0.2)(dense_layer_2)\n",
        "output_layer = tf.keras.layers.Dense(12, activation='softmax')(drop_layer_2)\n",
        "\n",
        "model = tf.keras.Model(input_layer, output_layer)\n",
        "model.summary()"
      ],
      "execution_count": null,
      "outputs": [
        {
          "output_type": "stream",
          "name": "stdout",
          "text": [
            "Downloading data from https://storage.googleapis.com/tensorflow/keras-applications/inception_resnet_v2/inception_resnet_v2_weights_tf_dim_ordering_tf_kernels_notop.h5\n",
            "219062272/219055592 [==============================] - 2s 0us/step\n",
            "219070464/219055592 [==============================] - 2s 0us/step\n",
            "Model: \"model\"\n",
            "_________________________________________________________________\n",
            " Layer (type)                Output Shape              Param #   \n",
            "=================================================================\n",
            " input_2 (InputLayer)        [(None, 299, 299, 3)]     0         \n",
            "                                                                 \n",
            " inception_resnet_v2 (Functi  (None, 8, 8, 1536)       54336736  \n",
            " onal)                                                           \n",
            "                                                                 \n",
            " max_pooling2d_4 (MaxPooling  (None, 4, 4, 1536)       0         \n",
            " 2D)                                                             \n",
            "                                                                 \n",
            " dense (Dense)               (None, 4, 4, 128)         196736    \n",
            "                                                                 \n",
            " dropout (Dropout)           (None, 4, 4, 128)         0         \n",
            "                                                                 \n",
            " flatten (Flatten)           (None, 2048)              0         \n",
            "                                                                 \n",
            " dense_1 (Dense)             (None, 256)               524544    \n",
            "                                                                 \n",
            " dropout_1 (Dropout)         (None, 256)               0         \n",
            "                                                                 \n",
            " dense_2 (Dense)             (None, 12)                3084      \n",
            "                                                                 \n",
            "=================================================================\n",
            "Total params: 55,061,100\n",
            "Trainable params: 724,364\n",
            "Non-trainable params: 54,336,736\n",
            "_________________________________________________________________\n"
          ]
        }
      ]
    },
    {
      "cell_type": "code",
      "metadata": {
        "execution": {
          "iopub.status.busy": "2021-11-19T13:33:05.795471Z",
          "iopub.execute_input": "2021-11-19T13:33:05.795742Z",
          "iopub.status.idle": "2021-11-19T13:33:05.826069Z",
          "shell.execute_reply.started": "2021-11-19T13:33:05.795715Z",
          "shell.execute_reply": "2021-11-19T13:33:05.825273Z"
        },
        "trusted": true,
        "id": "8MnSQSmTNi68"
      },
      "source": [
        "#Compile model \n",
        "from tensorflow.keras.optimizers import Adam\n",
        "opt = Adam(learning_rate=0.001, epsilon=0.1, beta_1=0.9, beta_2=0.999)\n",
        "model.compile(optimizer=opt, loss='categorical_crossentropy', metrics=['accuracy'])"
      ],
      "execution_count": null,
      "outputs": []
    },
    {
      "cell_type": "code",
      "metadata": {
        "execution": {
          "iopub.status.busy": "2021-11-07T07:19:03.356628Z",
          "iopub.execute_input": "2021-11-07T07:19:03.356903Z",
          "iopub.status.idle": "2021-11-07T07:19:03.362485Z",
          "shell.execute_reply.started": "2021-11-07T07:19:03.356874Z",
          "shell.execute_reply": "2021-11-07T07:19:03.359902Z"
        },
        "trusted": true,
        "id": "aHTwyWZpNi69"
      },
      "source": [
        "# #Save model checkpoint\n",
        "# checkpoint_filepath = './checkpoint'\n",
        "# model_checkpoint_callback = tf.keras.callbacks.ModelCheckpoint(\n",
        "#     filepath=checkpoint_filepath,\n",
        "#     monitor='val_accuracy',\n",
        "#     mode='max',\n",
        "#     save_best_only=True)"
      ],
      "execution_count": null,
      "outputs": []
    },
    {
      "cell_type": "code",
      "metadata": {
        "execution": {
          "iopub.status.busy": "2021-11-19T13:33:10.671363Z",
          "iopub.execute_input": "2021-11-19T13:33:10.671688Z",
          "iopub.status.idle": "2021-11-19T13:35:25.950128Z",
          "shell.execute_reply.started": "2021-11-19T13:33:10.671633Z",
          "shell.execute_reply": "2021-11-19T13:35:25.948598Z"
        },
        "trusted": true,
        "colab": {
          "base_uri": "https://localhost:8080/"
        },
        "id": "5isTyPSqNi69",
        "outputId": "29788602-b904-4e93-df19-99a9fddd1a14"
      },
      "source": [
        "#Train Model\n",
        "history = model.fit(\n",
        "                train_ds,\n",
        "                steps_per_epoch = train_steps,\n",
        "                validation_data = val_ds, \n",
        "                validation_steps = val_steps,\n",
        "                epochs = epochs)"
      ],
      "execution_count": null,
      "outputs": [
        {
          "output_type": "stream",
          "name": "stdout",
          "text": [
            "Epoch 1/50\n",
            "118/118 [==============================] - 1281s 10s/step - loss: 2.7103 - accuracy: 0.1297 - val_loss: 2.3447 - val_accuracy: 0.1864\n",
            "Epoch 2/50\n",
            "118/118 [==============================] - 188s 2s/step - loss: 2.3701 - accuracy: 0.1811 - val_loss: 2.1526 - val_accuracy: 0.2985\n",
            "Epoch 3/50\n",
            "118/118 [==============================] - 186s 2s/step - loss: 2.1167 - accuracy: 0.2851 - val_loss: 1.9008 - val_accuracy: 0.3556\n",
            "Epoch 4/50\n",
            "118/118 [==============================] - 183s 2s/step - loss: 1.8956 - accuracy: 0.3588 - val_loss: 1.6618 - val_accuracy: 0.4623\n",
            "Epoch 5/50\n",
            "118/118 [==============================] - 184s 2s/step - loss: 1.6812 - accuracy: 0.4174 - val_loss: 1.4133 - val_accuracy: 0.5366\n",
            "Epoch 6/50\n",
            "118/118 [==============================] - 182s 2s/step - loss: 1.5321 - accuracy: 0.4537 - val_loss: 1.3776 - val_accuracy: 0.5312\n",
            "Epoch 7/50\n",
            "118/118 [==============================] - 184s 2s/step - loss: 1.4156 - accuracy: 0.4983 - val_loss: 1.2498 - val_accuracy: 0.5722\n",
            "Epoch 8/50\n",
            "118/118 [==============================] - 183s 2s/step - loss: 1.3091 - accuracy: 0.5312 - val_loss: 1.1720 - val_accuracy: 0.6024\n",
            "Epoch 9/50\n",
            "118/118 [==============================] - 187s 2s/step - loss: 1.2462 - accuracy: 0.5651 - val_loss: 1.0868 - val_accuracy: 0.6175\n",
            "Epoch 10/50\n",
            "118/118 [==============================] - 183s 2s/step - loss: 1.1791 - accuracy: 0.5850 - val_loss: 1.0543 - val_accuracy: 0.6358\n",
            "Epoch 11/50\n",
            "118/118 [==============================] - 183s 2s/step - loss: 1.1022 - accuracy: 0.6128 - val_loss: 0.9653 - val_accuracy: 0.6843\n",
            "Epoch 12/50\n",
            "118/118 [==============================] - 183s 2s/step - loss: 1.0181 - accuracy: 0.6537 - val_loss: 0.9557 - val_accuracy: 0.6767\n",
            "Epoch 13/50\n",
            "118/118 [==============================] - 186s 2s/step - loss: 0.9870 - accuracy: 0.6547 - val_loss: 0.9138 - val_accuracy: 0.6929\n",
            "Epoch 14/50\n",
            "118/118 [==============================] - 184s 2s/step - loss: 0.9751 - accuracy: 0.6539 - val_loss: 0.8463 - val_accuracy: 0.7209\n",
            "Epoch 15/50\n",
            "118/118 [==============================] - 185s 2s/step - loss: 0.9060 - accuracy: 0.6871 - val_loss: 0.8339 - val_accuracy: 0.7134\n",
            "Epoch 16/50\n",
            "118/118 [==============================] - 185s 2s/step - loss: 0.8761 - accuracy: 0.6868 - val_loss: 0.8533 - val_accuracy: 0.7198\n",
            "Epoch 17/50\n",
            "118/118 [==============================] - 186s 2s/step - loss: 0.8726 - accuracy: 0.6935 - val_loss: 0.8327 - val_accuracy: 0.7338\n",
            "Epoch 18/50\n",
            "118/118 [==============================] - 185s 2s/step - loss: 0.8261 - accuracy: 0.7062 - val_loss: 0.8188 - val_accuracy: 0.7198\n",
            "Epoch 19/50\n",
            "118/118 [==============================] - 185s 2s/step - loss: 0.8060 - accuracy: 0.7192 - val_loss: 0.7473 - val_accuracy: 0.7629\n",
            "Epoch 20/50\n",
            "118/118 [==============================] - 188s 2s/step - loss: 0.7876 - accuracy: 0.7186 - val_loss: 0.7124 - val_accuracy: 0.7597\n",
            "Epoch 21/50\n",
            "118/118 [==============================] - 187s 2s/step - loss: 0.7431 - accuracy: 0.7436 - val_loss: 0.6608 - val_accuracy: 0.7985\n",
            "Epoch 22/50\n",
            "118/118 [==============================] - 187s 2s/step - loss: 0.7472 - accuracy: 0.7346 - val_loss: 0.7164 - val_accuracy: 0.7619\n",
            "Epoch 23/50\n",
            "118/118 [==============================] - 186s 2s/step - loss: 0.7214 - accuracy: 0.7475 - val_loss: 0.7073 - val_accuracy: 0.7834\n",
            "Epoch 24/50\n",
            "118/118 [==============================] - 189s 2s/step - loss: 0.7145 - accuracy: 0.7515 - val_loss: 0.7048 - val_accuracy: 0.7619\n",
            "Epoch 25/50\n",
            "118/118 [==============================] - 192s 2s/step - loss: 0.7212 - accuracy: 0.7497 - val_loss: 0.6646 - val_accuracy: 0.7791\n",
            "Epoch 26/50\n",
            "118/118 [==============================] - 192s 2s/step - loss: 0.6835 - accuracy: 0.7661 - val_loss: 0.6727 - val_accuracy: 0.7791\n",
            "Epoch 27/50\n",
            "118/118 [==============================] - 192s 2s/step - loss: 0.6950 - accuracy: 0.7507 - val_loss: 0.6229 - val_accuracy: 0.7845\n",
            "Epoch 28/50\n",
            "118/118 [==============================] - 188s 2s/step - loss: 0.6510 - accuracy: 0.7669 - val_loss: 0.6191 - val_accuracy: 0.7888\n",
            "Epoch 29/50\n",
            "118/118 [==============================] - 188s 2s/step - loss: 0.6622 - accuracy: 0.7637 - val_loss: 0.6305 - val_accuracy: 0.7953\n",
            "Epoch 30/50\n",
            "118/118 [==============================] - 187s 2s/step - loss: 0.6647 - accuracy: 0.7637 - val_loss: 0.5902 - val_accuracy: 0.7963\n",
            "Epoch 31/50\n",
            "118/118 [==============================] - 187s 2s/step - loss: 0.6462 - accuracy: 0.7661 - val_loss: 0.6072 - val_accuracy: 0.8017\n",
            "Epoch 32/50\n",
            "118/118 [==============================] - 187s 2s/step - loss: 0.6300 - accuracy: 0.7836 - val_loss: 0.6003 - val_accuracy: 0.8028\n",
            "Epoch 33/50\n",
            "118/118 [==============================] - 187s 2s/step - loss: 0.6233 - accuracy: 0.7780 - val_loss: 0.6523 - val_accuracy: 0.7812\n",
            "Epoch 34/50\n",
            "118/118 [==============================] - 184s 2s/step - loss: 0.6191 - accuracy: 0.7852 - val_loss: 0.5868 - val_accuracy: 0.8071\n",
            "Epoch 35/50\n",
            "118/118 [==============================] - 190s 2s/step - loss: 0.5744 - accuracy: 0.7955 - val_loss: 0.6151 - val_accuracy: 0.7942\n",
            "Epoch 36/50\n",
            "118/118 [==============================] - 188s 2s/step - loss: 0.6205 - accuracy: 0.7839 - val_loss: 0.5974 - val_accuracy: 0.7942\n",
            "Epoch 37/50\n",
            "118/118 [==============================] - 190s 2s/step - loss: 0.5882 - accuracy: 0.7929 - val_loss: 0.5675 - val_accuracy: 0.8071\n",
            "Epoch 38/50\n",
            "118/118 [==============================] - 190s 2s/step - loss: 0.5909 - accuracy: 0.7958 - val_loss: 0.5758 - val_accuracy: 0.8233\n",
            "Epoch 39/50\n",
            "118/118 [==============================] - 190s 2s/step - loss: 0.5719 - accuracy: 0.7940 - val_loss: 0.5247 - val_accuracy: 0.8373\n",
            "Epoch 40/50\n",
            "118/118 [==============================] - 190s 2s/step - loss: 0.5916 - accuracy: 0.7947 - val_loss: 0.5722 - val_accuracy: 0.8060\n",
            "Epoch 41/50\n",
            "118/118 [==============================] - 190s 2s/step - loss: 0.5752 - accuracy: 0.8006 - val_loss: 0.5599 - val_accuracy: 0.8147\n",
            "Epoch 42/50\n",
            "118/118 [==============================] - 189s 2s/step - loss: 0.5483 - accuracy: 0.8133 - val_loss: 0.5200 - val_accuracy: 0.7996\n",
            "Epoch 43/50\n",
            "118/118 [==============================] - 189s 2s/step - loss: 0.5273 - accuracy: 0.8178 - val_loss: 0.5595 - val_accuracy: 0.8157\n",
            "Epoch 44/50\n",
            "118/118 [==============================] - 190s 2s/step - loss: 0.5490 - accuracy: 0.8062 - val_loss: 0.5571 - val_accuracy: 0.8093\n",
            "Epoch 45/50\n",
            "118/118 [==============================] - 189s 2s/step - loss: 0.5471 - accuracy: 0.8075 - val_loss: 0.5292 - val_accuracy: 0.8319\n",
            "Epoch 46/50\n",
            "118/118 [==============================] - 189s 2s/step - loss: 0.5297 - accuracy: 0.8125 - val_loss: 0.5169 - val_accuracy: 0.8330\n",
            "Epoch 47/50\n",
            "118/118 [==============================] - 189s 2s/step - loss: 0.5263 - accuracy: 0.8109 - val_loss: 0.5815 - val_accuracy: 0.8093\n",
            "Epoch 48/50\n",
            "118/118 [==============================] - 191s 2s/step - loss: 0.5222 - accuracy: 0.8115 - val_loss: 0.5646 - val_accuracy: 0.8093\n",
            "Epoch 49/50\n",
            "118/118 [==============================] - 187s 2s/step - loss: 0.5168 - accuracy: 0.8112 - val_loss: 0.5079 - val_accuracy: 0.8233\n",
            "Epoch 50/50\n",
            "118/118 [==============================] - 191s 2s/step - loss: 0.5145 - accuracy: 0.8125 - val_loss: 0.5004 - val_accuracy: 0.8308\n"
          ]
        }
      ]
    },
    {
      "cell_type": "code",
      "metadata": {
        "execution": {
          "iopub.status.busy": "2021-11-07T09:18:20.727863Z",
          "iopub.execute_input": "2021-11-07T09:18:20.728222Z",
          "iopub.status.idle": "2021-11-07T09:18:21.06857Z",
          "shell.execute_reply.started": "2021-11-07T09:18:20.72818Z",
          "shell.execute_reply": "2021-11-07T09:18:21.067704Z"
        },
        "trusted": true,
        "colab": {
          "base_uri": "https://localhost:8080/",
          "height": 336
        },
        "id": "XYwH-fpVNi6-",
        "outputId": "b65d222b-b8b6-44d9-f38f-109a09c297f6"
      },
      "source": [
        "import matplotlib.pyplot as plt\n",
        "acc = history.history['accuracy']\n",
        "val_acc = history.history['val_accuracy']\n",
        "\n",
        "loss = history.history['loss']\n",
        "val_loss = history.history['val_loss']\n",
        "\n",
        "epochs_range = range(epochs)\n",
        "\n",
        "plt.figure(figsize=(8, 5))\n",
        "plt.subplot(1, 2, 1)\n",
        "plt.plot(epochs_range, acc, label='Training Accuracy')\n",
        "plt.plot(epochs_range, val_acc, label='Validation Accuracy')\n",
        "plt.legend(loc='lower right')\n",
        "plt.title('Training and Validation Accuracy')\n",
        "\n",
        "plt.subplot(1, 2, 2)\n",
        "plt.plot(epochs_range, loss, label='Training Loss')\n",
        "plt.plot(epochs_range, val_loss, label='Validation Loss')\n",
        "plt.legend(loc='upper right')\n",
        "plt.title('Training and Validation Loss')\n",
        "plt.show()"
      ],
      "execution_count": null,
      "outputs": [
        {
          "output_type": "display_data",
          "data": {
            "image/png": "[encoded data removed]",
            "text/plain": [
              "<Figure size 576x360 with 2 Axes>"
            ]
          },
          "metadata": {
            "needs_background": "light"
          }
        }
      ]
    },
    {
      "cell_type": "markdown",
      "metadata": {
        "id": "-tO3y2a-Qwz4"
      },
      "source": [
        "## Fine Tuning "
      ]
    },
    {
      "cell_type": "code",
      "metadata": {
        "colab": {
          "base_uri": "https://localhost:8080/"
        },
        "id": "4LbAEr6VNi6-",
        "outputId": "bc389009-7b77-4db4-e243-a7dcaf580430"
      },
      "source": [
        "base_model.trainable = True\n",
        "opt = Adam(learning_rate=0.0001, epsilon=0.1, beta_1=0.9, beta_2=0.999)\n",
        "model.compile(optimizer=opt, loss='categorical_crossentropy', metrics=['accuracy'])\n",
        "model.summary()"
      ],
      "execution_count": null,
      "outputs": [
        {
          "output_type": "stream",
          "name": "stdout",
          "text": [
            "Model: \"model\"\n",
            "_________________________________________________________________\n",
            " Layer (type)                Output Shape              Param #   \n",
            "=================================================================\n",
            " input_2 (InputLayer)        [(None, 299, 299, 3)]     0         \n",
            "                                                                 \n",
            " inception_resnet_v2 (Functi  (None, 8, 8, 1536)       54336736  \n",
            " onal)                                                           \n",
            "                                                                 \n",
            " max_pooling2d_4 (MaxPooling  (None, 4, 4, 1536)       0         \n",
            " 2D)                                                             \n",
            "                                                                 \n",
            " dense (Dense)               (None, 4, 4, 128)         196736    \n",
            "                                                                 \n",
            " dropout (Dropout)           (None, 4, 4, 128)         0         \n",
            "                                                                 \n",
            " flatten (Flatten)           (None, 2048)              0         \n",
            "                                                                 \n",
            " dense_1 (Dense)             (None, 256)               524544    \n",
            "                                                                 \n",
            " dropout_1 (Dropout)         (None, 256)               0         \n",
            "                                                                 \n",
            " dense_2 (Dense)             (None, 12)                3084      \n",
            "                                                                 \n",
            "=================================================================\n",
            "Total params: 55,061,100\n",
            "Trainable params: 55,000,556\n",
            "Non-trainable params: 60,544\n",
            "_________________________________________________________________\n"
          ]
        }
      ]
    },
    {
      "cell_type": "code",
      "metadata": {
        "colab": {
          "base_uri": "https://localhost:8080/"
        },
        "id": "NIVUiBHINi6-",
        "outputId": "6040faad-3d42-4b72-e012-937d3eb3d322"
      },
      "source": [
        "#Train Model\n",
        "history_2 = model.fit(\n",
        "                train_ds,\n",
        "                steps_per_epoch = train_steps,\n",
        "                validation_data = val_ds, \n",
        "                validation_steps = val_steps,\n",
        "                epochs = 25)"
      ],
      "execution_count": null,
      "outputs": [
        {
          "output_type": "stream",
          "name": "stdout",
          "text": [
            "Epoch 1/25\n",
            "118/118 [==============================] - 370s 3s/step - loss: 0.4553 - accuracy: 0.8290 - val_loss: 0.4721 - val_accuracy: 0.8534\n",
            "Epoch 2/25\n",
            "118/118 [==============================] - 334s 3s/step - loss: 0.4039 - accuracy: 0.8507 - val_loss: 0.3983 - val_accuracy: 0.8675\n",
            "Epoch 3/25\n",
            "118/118 [==============================] - 334s 3s/step - loss: 0.3640 - accuracy: 0.8671 - val_loss: 0.4152 - val_accuracy: 0.8685\n",
            "Epoch 4/25\n",
            "118/118 [==============================] - 335s 3s/step - loss: 0.3505 - accuracy: 0.8767 - val_loss: 0.4072 - val_accuracy: 0.8664\n",
            "Epoch 5/25\n",
            "118/118 [==============================] - 335s 3s/step - loss: 0.3206 - accuracy: 0.8849 - val_loss: 0.3973 - val_accuracy: 0.8912\n",
            "Epoch 6/25\n",
            "118/118 [==============================] - 334s 3s/step - loss: 0.2949 - accuracy: 0.8881 - val_loss: 0.3655 - val_accuracy: 0.8750\n",
            "Epoch 7/25\n",
            "118/118 [==============================] - 335s 3s/step - loss: 0.2790 - accuracy: 0.8955 - val_loss: 0.3550 - val_accuracy: 0.8847\n",
            "Epoch 8/25\n",
            "118/118 [==============================] - 335s 3s/step - loss: 0.2756 - accuracy: 0.8955 - val_loss: 0.3359 - val_accuracy: 0.8879\n",
            "Epoch 9/25\n",
            "118/118 [==============================] - 335s 3s/step - loss: 0.2579 - accuracy: 0.8982 - val_loss: 0.3469 - val_accuracy: 0.8858\n",
            "Epoch 10/25\n",
            "118/118 [==============================] - 334s 3s/step - loss: 0.2648 - accuracy: 0.8995 - val_loss: 0.3102 - val_accuracy: 0.9041\n",
            "Epoch 11/25\n",
            "118/118 [==============================] - 335s 3s/step - loss: 0.2318 - accuracy: 0.9120 - val_loss: 0.2659 - val_accuracy: 0.9009\n",
            "Epoch 12/25\n",
            "118/118 [==============================] - 336s 3s/step - loss: 0.2218 - accuracy: 0.9178 - val_loss: 0.2798 - val_accuracy: 0.9095\n",
            "Epoch 13/25\n",
            "118/118 [==============================] - 335s 3s/step - loss: 0.2330 - accuracy: 0.9125 - val_loss: 0.3021 - val_accuracy: 0.9019\n",
            "Epoch 14/25\n",
            "118/118 [==============================] - 335s 3s/step - loss: 0.2108 - accuracy: 0.9207 - val_loss: 0.3012 - val_accuracy: 0.9041\n",
            "Epoch 15/25\n",
            "118/118 [==============================] - 336s 3s/step - loss: 0.2218 - accuracy: 0.9130 - val_loss: 0.2846 - val_accuracy: 0.9203\n",
            "Epoch 16/25\n",
            "118/118 [==============================] - 336s 3s/step - loss: 0.2168 - accuracy: 0.9170 - val_loss: 0.2783 - val_accuracy: 0.9127\n",
            "Epoch 17/25\n",
            "118/118 [==============================] - 336s 3s/step - loss: 0.2011 - accuracy: 0.9268 - val_loss: 0.2938 - val_accuracy: 0.9041\n",
            "Epoch 18/25\n",
            "118/118 [==============================] - 334s 3s/step - loss: 0.1944 - accuracy: 0.9250 - val_loss: 0.2528 - val_accuracy: 0.9267\n",
            "Epoch 19/25\n",
            "118/118 [==============================] - 335s 3s/step - loss: 0.1895 - accuracy: 0.9305 - val_loss: 0.2982 - val_accuracy: 0.9170\n",
            "Epoch 20/25\n",
            "118/118 [==============================] - 336s 3s/step - loss: 0.1950 - accuracy: 0.9265 - val_loss: 0.2696 - val_accuracy: 0.9170\n",
            "Epoch 21/25\n",
            "118/118 [==============================] - 335s 3s/step - loss: 0.1778 - accuracy: 0.9326 - val_loss: 0.2552 - val_accuracy: 0.9213\n",
            "Epoch 22/25\n",
            "118/118 [==============================] - 335s 3s/step - loss: 0.1720 - accuracy: 0.9326 - val_loss: 0.2859 - val_accuracy: 0.9138\n",
            "Epoch 23/25\n",
            "118/118 [==============================] - 335s 3s/step - loss: 0.1741 - accuracy: 0.9326 - val_loss: 0.2833 - val_accuracy: 0.9138\n",
            "Epoch 24/25\n",
            "118/118 [==============================] - 337s 3s/step - loss: 0.1785 - accuracy: 0.9329 - val_loss: 0.2801 - val_accuracy: 0.9235\n",
            "Epoch 25/25\n",
            "118/118 [==============================] - 335s 3s/step - loss: 0.1673 - accuracy: 0.9334 - val_loss: 0.2419 - val_accuracy: 0.9332\n"
          ]
        }
      ]
    },
    {
      "cell_type": "code",
      "metadata": {
        "colab": {
          "base_uri": "https://localhost:8080/",
          "height": 336
        },
        "id": "HSVhFuNpNi6-",
        "outputId": "25a2f2c1-d3d8-4648-a6aa-5f49a8c9a239"
      },
      "source": [
        "acc = history_2.history['accuracy']\n",
        "val_acc = history_2.history['val_accuracy']\n",
        "\n",
        "loss = history_2.history['loss']\n",
        "val_loss = history_2.history['val_loss']\n",
        "\n",
        "epochs = 25\n",
        "epochs_range = range(epochs)\n",
        "\n",
        "plt.figure(figsize=(8, 5))\n",
        "plt.subplot(1, 2, 1)\n",
        "plt.plot(epochs_range, acc, label='Training Accuracy')\n",
        "plt.plot(epochs_range, val_acc, label='Validation Accuracy')\n",
        "plt.legend(loc='lower right')\n",
        "plt.title('Training and Validation Accuracy')\n",
        "\n",
        "plt.subplot(1, 2, 2)\n",
        "plt.plot(epochs_range, loss, label='Training Loss')\n",
        "plt.plot(epochs_range, val_loss, label='Validation Loss')\n",
        "plt.legend(loc='upper right')\n",
        "plt.title('Training and Validation Loss')\n",
        "plt.show()"
      ],
      "execution_count": null,
      "outputs": [
        {
          "output_type": "display_data",
          "data": {
            "image/png": "[encoded data removed]",
            "text/plain": [
              "<Figure size 576x360 with 2 Axes>"
            ]
          },
          "metadata": {
            "needs_background": "light"
          }
        }
      ]
    },
    {
      "cell_type": "code",
      "metadata": {
        "id": "vAN-7auZNi6_"
      },
      "source": [
        "# The model weights (that are considered the best) are loaded into the model.\n",
        "#model.load_weights(checkpoint_filepath)"
      ],
      "execution_count": null,
      "outputs": []
    },
    {
      "cell_type": "code",
      "metadata": {
        "execution": {
          "iopub.status.busy": "2021-11-07T06:44:56.305915Z",
          "iopub.execute_input": "2021-11-07T06:44:56.306638Z",
          "iopub.status.idle": "2021-11-07T06:44:56.374258Z",
          "shell.execute_reply.started": "2021-11-07T06:44:56.306526Z",
          "shell.execute_reply": "2021-11-07T06:44:56.373214Z"
        },
        "trusted": true,
        "colab": {
          "base_uri": "https://localhost:8080/"
        },
        "id": "UMP5AEZ3Ni6_",
        "outputId": "79d00749-bcf8-4318-8061-e4ee950f8d2a"
      },
      "source": [
        "#Evaluate model with test dataset \n",
        "model.evaluate_generator(val_ds, steps=val_steps, verbose=1)"
      ],
      "execution_count": null,
      "outputs": [
        {
          "output_type": "stream",
          "name": "stderr",
          "text": [
            "/usr/local/lib/python3.7/dist-packages/ipykernel_launcher.py:2: UserWarning: `Model.evaluate_generator` is deprecated and will be removed in a future version. Please use `Model.evaluate`, which supports generators.\n",
            "  \n"
          ]
        },
        {
          "output_type": "stream",
          "name": "stdout",
          "text": [
            "29/29 [==============================] - 39s 1s/step - loss: 0.2603 - accuracy: 0.9300\n"
          ]
        },
        {
          "output_type": "execute_result",
          "data": {
            "text/plain": [
              "[0.2602689862251282, 0.9299569129943848]"
            ]
          },
          "metadata": {},
          "execution_count": 15
        }
      ]
    },
    {
      "cell_type": "code",
      "metadata": {
        "execution": {
          "iopub.status.busy": "2021-11-07T09:18:21.06981Z",
          "iopub.execute_input": "2021-11-07T09:18:21.07016Z",
          "iopub.status.idle": "2021-11-07T09:18:21.07839Z",
          "shell.execute_reply.started": "2021-11-07T09:18:21.070117Z",
          "shell.execute_reply": "2021-11-07T09:18:21.077265Z"
        },
        "trusted": true,
        "colab": {
          "base_uri": "https://localhost:8080/"
        },
        "id": "qT5P_yzFNi6_",
        "outputId": "d318041c-8e12-4072-fe81-6ced67baece8"
      },
      "source": [
        "#Predict test values \n",
        "test_ds.reset() #maintain test order\n",
        "test_predictions = model.predict_generator(test_ds, test_steps, verbose=1 )"
      ],
      "execution_count": null,
      "outputs": [
        {
          "output_type": "stream",
          "name": "stdout",
          "text": [
            "794/794 [==============================] - 179s 219ms/step\n"
          ]
        }
      ]
    },
    {
      "cell_type": "code",
      "metadata": {
        "execution": {
          "iopub.status.busy": "2021-11-07T09:18:21.079419Z",
          "iopub.status.idle": "2021-11-07T09:18:21.080114Z",
          "shell.execute_reply.started": "2021-11-07T09:18:21.079849Z",
          "shell.execute_reply": "2021-11-07T09:18:21.079876Z"
        },
        "trusted": true,
        "id": "kYSZ4fQcNi6_"
      },
      "source": [
        "import numpy as np\n",
        "predicted_plant_type = np.argmax(test_predictions, axis=1)"
      ],
      "execution_count": null,
      "outputs": []
    },
    {
      "cell_type": "code",
      "metadata": {
        "execution": {
          "iopub.status.busy": "2021-11-07T09:18:21.081475Z",
          "iopub.status.idle": "2021-11-07T09:18:21.082182Z",
          "shell.execute_reply.started": "2021-11-07T09:18:21.081904Z",
          "shell.execute_reply": "2021-11-07T09:18:21.081932Z"
        },
        "trusted": true,
        "id": "d4TzRD7QNi6_"
      },
      "source": [
        "labels = (train_ds.class_indices)\n",
        "labels = dict((v,k) for k,v in labels.items())\n",
        "predictions = [labels[k] for k in predicted_plant_type]"
      ],
      "execution_count": null,
      "outputs": []
    },
    {
      "cell_type": "code",
      "metadata": {
        "execution": {
          "iopub.status.busy": "2021-11-07T09:18:21.0835Z",
          "iopub.status.idle": "2021-11-07T09:18:21.08518Z",
          "shell.execute_reply.started": "2021-11-07T09:18:21.084905Z",
          "shell.execute_reply": "2021-11-07T09:18:21.084934Z"
        },
        "trusted": true,
        "id": "LlnWVXjTNi7A"
      },
      "source": [
        "test_pred = []\n",
        "filenames=test_ds.filenames\n",
        "for name in range(len(filenames)):\n",
        "    test_pred.append(filenames[name].split('/')[1])\n",
        "\n",
        "results=pd.DataFrame({\"file\":test_pred,\n",
        "                      \"species\":predictions})\n",
        "results.to_csv(\"submission.csv\",index=False)"
      ],
      "execution_count": null,
      "outputs": []
    }
  ]
}