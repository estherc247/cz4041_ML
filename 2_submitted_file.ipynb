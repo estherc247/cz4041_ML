{
  "nbformat": 4,
  "nbformat_minor": 0,
  "metadata": {
    "colab": {
      "name": "run1.ipynb",
      "provenance": [],
      "collapsed_sections": [],
      "include_colab_link": true
    },
    "kernelspec": {
      "name": "python3",
      "display_name": "Python 3"
    },
    "language_info": {
      "name": "python"
    },
    "accelerator": "GPU"
  },
  "cells": [
    {
      "cell_type": "markdown",
      "metadata": {
        "id": "view-in-github",
        "colab_type": "text"
      },
      "source": [
        "<a href=\"https://colab.research.google.com/github/estherc247/cz4041_ML/blob/main/2_submitted_file.ipynb\" target=\"_parent\"><img src=\"https://colab.research.google.com/assets/colab-badge.svg\" alt=\"Open In Colab\"/></a>"
      ]
    },
    {
      "cell_type": "code",
      "metadata": {
        "id": "ahucwTKV-hdX",
        "colab": {
          "base_uri": "https://localhost:8080/"
        },
        "outputId": "ad0e6fb5-a262-4145-a05c-7dcb37da6f00"
      },
      "source": [
        "#Import data from Google Drive \n",
        "from google.colab import drive \n",
        "drive.mount('/content/gdrive/')"
      ],
      "execution_count": 1,
      "outputs": [
        {
          "output_type": "stream",
          "name": "stdout",
          "text": [
            "Mounted at /content/gdrive/\n"
          ]
        }
      ]
    },
    {
      "cell_type": "code",
      "metadata": {
        "id": "74kuSrWJ-kjv"
      },
      "source": [
        "#Load Data\n",
        "import shutil\n",
        "data_dir_train = '/content/gdrive/MyDrive/Y4/CZ4041_Machine_Learning/plant_data/plant-seedlings-classification/train'\n",
        "data_dir_test = '/content/gdrive/MyDrive/Y4/CZ4041_Machine_Learning/plant_data/plant-seedlings-classification/test'\n",
        "\n",
        "#!mkdir '/content/gdrive/MyDrive/Y4/CZ4041_Machine_Learning/plant_data/plant-seedlings-classification/test_data'\n",
        "\n",
        "destination = '/content/gdrive/MyDrive/Y4/CZ4041_Machine_Learning/plant_data/plant-seedlings-classification/test_data'\n",
        "#shutil.move(data_dir_test, destination)\n",
        "\n",
        "#Import the libraries\n",
        "# import zipfile\n",
        "# import os\n",
        "\n",
        "# zip_ref = zipfile.ZipFile(data_dir_train, 'r') #Opens the zip file in read mode\n",
        "# zip_test = zipfile.ZipFile(data_dir_test, 'r')\n",
        "# zip_ref.extractall('data') #Extracts the files into the /tmp folder\n",
        "# zip_test.extractall('data/test')\n",
        "# zip_ref.close()\n",
        "# zip_test.close()"
      ],
      "execution_count": 2,
      "outputs": []
    },
    {
      "cell_type": "code",
      "metadata": {
        "id": "X4a9hKAN-mf7"
      },
      "source": [
        "#Import Libraries \n",
        "import tensorflow as tf \n",
        "import keras\n",
        "from keras.preprocessing.image import ImageDataGenerator, array_to_img, img_to_array, load_img\n",
        "import pandas as pd \n",
        "from PIL import Image\n",
        "import glob"
      ],
      "execution_count": 3,
      "outputs": []
    },
    {
      "cell_type": "code",
      "metadata": {
        "id": "8tcD9lxSMFqF"
      },
      "source": [
        "#Define directory path\n",
        "test_url = destination"
      ],
      "execution_count": 4,
      "outputs": []
    },
    {
      "cell_type": "code",
      "metadata": {
        "id": "m0hamnK_Fx9B"
      },
      "source": [
        "#define parameters \n",
        "batch_size = 32\n",
        "img_width = 240\n",
        "img_height = 240 \n",
        "epochs = 20"
      ],
      "execution_count": 5,
      "outputs": []
    },
    {
      "cell_type": "code",
      "metadata": {
        "colab": {
          "base_uri": "https://localhost:8080/"
        },
        "id": "TG19hTBqKuIm",
        "outputId": "8ea46043-b3db-4499-a8fa-9f505542fdd2"
      },
      "source": [
        "#Split data \n",
        "\n",
        "train_image_data = ImageDataGenerator(\n",
        "    validation_split = 0.2,\n",
        "    rescale = 1.0/255.0,\n",
        "    horizontal_flip = True, \n",
        "    zoom_range=0.2, \n",
        "    shear_range = 0.2,\n",
        ")\n",
        "\n",
        "train_ds = train_image_data.flow_from_directory(\n",
        "  data_dir_train,\n",
        "  shuffle = True,\n",
        "  target_size=(img_height, img_width),\n",
        "  class_mode = 'categorical',\n",
        "  batch_size=batch_size,\n",
        "  subset=\"training\")\n",
        "\n",
        "val_ds = train_image_data.flow_from_directory(\n",
        "  data_dir_train,\n",
        "  shuffle = True,\n",
        "  target_size=(img_height, img_width),\n",
        "  class_mode = 'categorical',\n",
        "  batch_size=batch_size,\n",
        "  subset=\"validation\")"
      ],
      "execution_count": 6,
      "outputs": [
        {
          "output_type": "stream",
          "name": "stdout",
          "text": [
            "Found 3803 images belonging to 12 classes.\n",
            "Found 947 images belonging to 12 classes.\n"
          ]
        }
      ]
    },
    {
      "cell_type": "code",
      "metadata": {
        "colab": {
          "base_uri": "https://localhost:8080/"
        },
        "id": "5rypX8Z5R94Y",
        "outputId": "3554da83-7ff8-400b-8e05-ec6926bcc23d"
      },
      "source": [
        "#Create Model\n",
        "from tensorflow.keras.applications.xception import Xception\n",
        "\n",
        "model = tf.keras.Sequential([\n",
        "            Xception(input_shape=[240,240, 3], include_top=False, weights='imagenet'),\n",
        "            tf.keras.layers.Flatten(),\n",
        "            tf.keras.layers.Dense(128, activation='relu'),\n",
        "            tf.keras.layers.Dropout(0.2),\n",
        "            tf.keras.layers.Dense(12, activation='softmax')\n",
        "])\n",
        "\n",
        "model.trainable = True\n",
        "model.get_layer('xception').trainable\n",
        "model.summary()"
      ],
      "execution_count": 7,
      "outputs": [
        {
          "output_type": "stream",
          "name": "stdout",
          "text": [
            "Model: \"sequential\"\n",
            "_________________________________________________________________\n",
            "Layer (type)                 Output Shape              Param #   \n",
            "=================================================================\n",
            "xception (Functional)        (None, 8, 8, 2048)        20861480  \n",
            "_________________________________________________________________\n",
            "flatten (Flatten)            (None, 131072)            0         \n",
            "_________________________________________________________________\n",
            "dense (Dense)                (None, 128)               16777344  \n",
            "_________________________________________________________________\n",
            "dropout (Dropout)            (None, 128)               0         \n",
            "_________________________________________________________________\n",
            "dense_1 (Dense)              (None, 12)                1548      \n",
            "=================================================================\n",
            "Total params: 37,640,372\n",
            "Trainable params: 37,585,844\n",
            "Non-trainable params: 54,528\n",
            "_________________________________________________________________\n"
          ]
        }
      ]
    },
    {
      "cell_type": "code",
      "metadata": {
        "id": "oP_0pzfLaqez"
      },
      "source": [
        "#Define model \n",
        "#Model 2\n",
        "# from tensorflow.keras.applications.inception_resnet_v2 import InceptionResNetV2\n",
        "# model = tf.keras.Sequential([\n",
        "#             InceptionResNetV2(input_shape=[240,240, 3], include_top=False, weights='imagenet'),\n",
        "#             tf.keras.layers.Flatten(),\n",
        "#             tf.keras.layers.Dense(128, activation='relu'),\n",
        "#             tf.keras.layers.Dropout(0.3),\n",
        "#             tf.keras.layers.Dense(64, activation='relu'),\n",
        "#             tf.keras.layers.Dropout(0.2),\n",
        "#             tf.keras.layers.Dense(12, activation='softmax')\n",
        "# ])\n",
        "# model.summary()"
      ],
      "execution_count": 9,
      "outputs": []
    },
    {
      "cell_type": "code",
      "metadata": {
        "id": "qRqPKi5MSttB"
      },
      "source": [
        "#Compile model \n",
        "model.compile(optimizer='sgd', loss='categorical_crossentropy', metrics=['accuracy'])"
      ],
      "execution_count": 8,
      "outputs": []
    },
    {
      "cell_type": "code",
      "metadata": {
        "id": "-n0g6cDRTS9d"
      },
      "source": [
        "#Save model checkpoint\n",
        "checkpoint_filepath = '/tmp/checkpoint'\n",
        "model_checkpoint_callback = tf.keras.callbacks.ModelCheckpoint(\n",
        "    filepath=checkpoint_filepath,\n",
        "    monitor='val_accuracy',\n",
        "    mode='max',\n",
        "    save_best_only=True)"
      ],
      "execution_count": 9,
      "outputs": []
    },
    {
      "cell_type": "code",
      "metadata": {
        "colab": {
          "base_uri": "https://localhost:8080/"
        },
        "id": "25-lffHnRFNo",
        "outputId": "dc41a89b-b198-486c-ddb6-1ff29845c0c8"
      },
      "source": [
        "history = model.fit_generator(\n",
        "                train_ds,\n",
        "                steps_per_epoch = train_ds.samples//batch_size,\n",
        "                validation_data = val_ds, \n",
        "                validation_steps = val_ds.samples//batch_size,\n",
        "                epochs = epochs,\n",
        "                callbacks=[model_checkpoint_callback])"
      ],
      "execution_count": 11,
      "outputs": [
        {
          "output_type": "stream",
          "name": "stderr",
          "text": [
            "/usr/local/lib/python3.7/dist-packages/keras/engine/training.py:1972: UserWarning: `Model.fit_generator` is deprecated and will be removed in a future version. Please use `Model.fit`, which supports generators.\n",
            "  warnings.warn('`Model.fit_generator` is deprecated and '\n"
          ]
        },
        {
          "output_type": "stream",
          "name": "stdout",
          "text": [
            "Epoch 1/20\n",
            "118/118 [==============================] - 1022s 9s/step - loss: 1.4328 - accuracy: 0.5349 - val_loss: 0.8050 - val_accuracy: 0.7425\n",
            "INFO:tensorflow:Assets written to: /tmp/checkpoint/assets\n"
          ]
        },
        {
          "output_type": "stream",
          "name": "stderr",
          "text": [
            "/usr/local/lib/python3.7/dist-packages/keras/utils/generic_utils.py:497: CustomMaskWarning: Custom mask layers require a config and must override get_config. When loading, the custom mask layer must be passed to the custom_objects argument.\n",
            "  category=CustomMaskWarning)\n"
          ]
        },
        {
          "output_type": "stream",
          "name": "stdout",
          "text": [
            "Epoch 2/20\n",
            "118/118 [==============================] - 205s 2s/step - loss: 0.4641 - accuracy: 0.8382 - val_loss: 0.3781 - val_accuracy: 0.8804\n",
            "INFO:tensorflow:Assets written to: /tmp/checkpoint/assets\n"
          ]
        },
        {
          "output_type": "stream",
          "name": "stderr",
          "text": [
            "/usr/local/lib/python3.7/dist-packages/keras/utils/generic_utils.py:497: CustomMaskWarning: Custom mask layers require a config and must override get_config. When loading, the custom mask layer must be passed to the custom_objects argument.\n",
            "  category=CustomMaskWarning)\n"
          ]
        },
        {
          "output_type": "stream",
          "name": "stdout",
          "text": [
            "Epoch 3/20\n",
            "118/118 [==============================] - 207s 2s/step - loss: 0.3146 - accuracy: 0.8884 - val_loss: 0.3059 - val_accuracy: 0.9073\n",
            "INFO:tensorflow:Assets written to: /tmp/checkpoint/assets\n"
          ]
        },
        {
          "output_type": "stream",
          "name": "stderr",
          "text": [
            "/usr/local/lib/python3.7/dist-packages/keras/utils/generic_utils.py:497: CustomMaskWarning: Custom mask layers require a config and must override get_config. When loading, the custom mask layer must be passed to the custom_objects argument.\n",
            "  category=CustomMaskWarning)\n"
          ]
        },
        {
          "output_type": "stream",
          "name": "stdout",
          "text": [
            "Epoch 4/20\n",
            "118/118 [==============================] - 202s 2s/step - loss: 0.2281 - accuracy: 0.9220 - val_loss: 0.2800 - val_accuracy: 0.9138\n",
            "INFO:tensorflow:Assets written to: /tmp/checkpoint/assets\n"
          ]
        },
        {
          "output_type": "stream",
          "name": "stderr",
          "text": [
            "/usr/local/lib/python3.7/dist-packages/keras/utils/generic_utils.py:497: CustomMaskWarning: Custom mask layers require a config and must override get_config. When loading, the custom mask layer must be passed to the custom_objects argument.\n",
            "  category=CustomMaskWarning)\n"
          ]
        },
        {
          "output_type": "stream",
          "name": "stdout",
          "text": [
            "Epoch 5/20\n",
            "118/118 [==============================] - 204s 2s/step - loss: 0.1714 - accuracy: 0.9393 - val_loss: 0.2190 - val_accuracy: 0.9321\n",
            "INFO:tensorflow:Assets written to: /tmp/checkpoint/assets\n"
          ]
        },
        {
          "output_type": "stream",
          "name": "stderr",
          "text": [
            "/usr/local/lib/python3.7/dist-packages/keras/utils/generic_utils.py:497: CustomMaskWarning: Custom mask layers require a config and must override get_config. When loading, the custom mask layer must be passed to the custom_objects argument.\n",
            "  category=CustomMaskWarning)\n"
          ]
        },
        {
          "output_type": "stream",
          "name": "stdout",
          "text": [
            "Epoch 6/20\n",
            "118/118 [==============================] - 203s 2s/step - loss: 0.1321 - accuracy: 0.9480 - val_loss: 0.2615 - val_accuracy: 0.9256\n",
            "Epoch 7/20\n",
            "118/118 [==============================] - 215s 2s/step - loss: 0.1243 - accuracy: 0.9568 - val_loss: 0.2712 - val_accuracy: 0.9235\n",
            "Epoch 8/20\n",
            "118/118 [==============================] - 201s 2s/step - loss: 0.0935 - accuracy: 0.9682 - val_loss: 0.2213 - val_accuracy: 0.9397\n",
            "INFO:tensorflow:Assets written to: /tmp/checkpoint/assets\n"
          ]
        },
        {
          "output_type": "stream",
          "name": "stderr",
          "text": [
            "/usr/local/lib/python3.7/dist-packages/keras/utils/generic_utils.py:497: CustomMaskWarning: Custom mask layers require a config and must override get_config. When loading, the custom mask layer must be passed to the custom_objects argument.\n",
            "  category=CustomMaskWarning)\n"
          ]
        },
        {
          "output_type": "stream",
          "name": "stdout",
          "text": [
            "Epoch 9/20\n",
            "118/118 [==============================] - 201s 2s/step - loss: 0.0838 - accuracy: 0.9703 - val_loss: 0.2365 - val_accuracy: 0.9278\n",
            "Epoch 10/20\n",
            "118/118 [==============================] - 201s 2s/step - loss: 0.0901 - accuracy: 0.9748 - val_loss: 0.2572 - val_accuracy: 0.9353\n",
            "Epoch 11/20\n",
            "118/118 [==============================] - 200s 2s/step - loss: 0.0666 - accuracy: 0.9783 - val_loss: 0.2320 - val_accuracy: 0.9440\n",
            "INFO:tensorflow:Assets written to: /tmp/checkpoint/assets\n"
          ]
        },
        {
          "output_type": "stream",
          "name": "stderr",
          "text": [
            "/usr/local/lib/python3.7/dist-packages/keras/utils/generic_utils.py:497: CustomMaskWarning: Custom mask layers require a config and must override get_config. When loading, the custom mask layer must be passed to the custom_objects argument.\n",
            "  category=CustomMaskWarning)\n"
          ]
        },
        {
          "output_type": "stream",
          "name": "stdout",
          "text": [
            "Epoch 12/20\n",
            "118/118 [==============================] - 200s 2s/step - loss: 0.0534 - accuracy: 0.9796 - val_loss: 0.2251 - val_accuracy: 0.9440\n",
            "Epoch 13/20\n",
            "118/118 [==============================] - 200s 2s/step - loss: 0.0582 - accuracy: 0.9809 - val_loss: 0.2188 - val_accuracy: 0.9580\n",
            "INFO:tensorflow:Assets written to: /tmp/checkpoint/assets\n"
          ]
        },
        {
          "output_type": "stream",
          "name": "stderr",
          "text": [
            "/usr/local/lib/python3.7/dist-packages/keras/utils/generic_utils.py:497: CustomMaskWarning: Custom mask layers require a config and must override get_config. When loading, the custom mask layer must be passed to the custom_objects argument.\n",
            "  category=CustomMaskWarning)\n"
          ]
        },
        {
          "output_type": "stream",
          "name": "stdout",
          "text": [
            "Epoch 14/20\n",
            "118/118 [==============================] - 202s 2s/step - loss: 0.0448 - accuracy: 0.9830 - val_loss: 0.2031 - val_accuracy: 0.9547\n",
            "Epoch 15/20\n",
            "118/118 [==============================] - 200s 2s/step - loss: 0.0377 - accuracy: 0.9883 - val_loss: 0.2407 - val_accuracy: 0.9461\n",
            "Epoch 16/20\n",
            "118/118 [==============================] - 200s 2s/step - loss: 0.0339 - accuracy: 0.9894 - val_loss: 0.2447 - val_accuracy: 0.9461\n",
            "Epoch 17/20\n",
            "118/118 [==============================] - 200s 2s/step - loss: 0.0339 - accuracy: 0.9897 - val_loss: 0.2585 - val_accuracy: 0.9353\n",
            "Epoch 18/20\n",
            "118/118 [==============================] - 201s 2s/step - loss: 0.0409 - accuracy: 0.9865 - val_loss: 0.2819 - val_accuracy: 0.9418\n",
            "Epoch 19/20\n",
            "118/118 [==============================] - 201s 2s/step - loss: 0.0253 - accuracy: 0.9920 - val_loss: 0.2644 - val_accuracy: 0.9450\n",
            "Epoch 20/20\n",
            "118/118 [==============================] - 200s 2s/step - loss: 0.0213 - accuracy: 0.9936 - val_loss: 0.2633 - val_accuracy: 0.9461\n"
          ]
        }
      ]
    },
    {
      "cell_type": "code",
      "metadata": {
        "colab": {
          "base_uri": "https://localhost:8080/",
          "height": 336
        },
        "id": "h9NblRt6yRxz",
        "outputId": "575348d6-2950-4984-a77a-9d9ea25fd1bb"
      },
      "source": [
        "import matplotlib.pyplot as plt\n",
        "acc = history.history['accuracy']\n",
        "val_acc = history.history['val_accuracy']\n",
        "\n",
        "loss = history.history['loss']\n",
        "val_loss = history.history['val_loss']\n",
        "\n",
        "epochs_range = range(epochs)\n",
        "\n",
        "plt.figure(figsize=(8, 5))\n",
        "plt.subplot(1, 2, 1)\n",
        "plt.plot(epochs_range, acc, label='Training Accuracy')\n",
        "plt.plot(epochs_range, val_acc, label='Validation Accuracy')\n",
        "plt.legend(loc='lower right')\n",
        "plt.title('Training and Validation Accuracy')\n",
        "\n",
        "plt.subplot(1, 2, 2)\n",
        "plt.plot(epochs_range, loss, label='Training Loss')\n",
        "plt.plot(epochs_range, val_loss, label='Validation Loss')\n",
        "plt.legend(loc='upper right')\n",
        "plt.title('Training and Validation Loss')\n",
        "plt.show()"
      ],
      "execution_count": 13,
      "outputs": [
        {
          "output_type": "display_data",
          "data": {
            "image/png": "[encoded data removed]",
            "text/plain": [
              "<Figure size 576x360 with 2 Axes>"
            ]
          },
          "metadata": {
            "needs_background": "light"
          }
        }
      ]
    },
    {
      "cell_type": "code",
      "metadata": {
        "colab": {
          "base_uri": "https://localhost:8080/"
        },
        "id": "LnBfornvsQlX",
        "outputId": "ade9b616-a44d-4f82-e77b-9e4a58e30c78"
      },
      "source": [
        "#Apply model to test set \n",
        "#Initialise test generator\n",
        "test_image_data = ImageDataGenerator(rescale=1./255)\n",
        "test_ds = test_image_data.flow_from_directory(test_url,\n",
        "                                              target_size=(img_height,img_width),\n",
        "                                              batch_size = 1,\n",
        "                                              class_mode ='categorical',\n",
        "                                              shuffle = False)"
      ],
      "execution_count": 14,
      "outputs": [
        {
          "output_type": "stream",
          "name": "stdout",
          "text": [
            "Found 794 images belonging to 1 classes.\n"
          ]
        }
      ]
    },
    {
      "cell_type": "code",
      "metadata": {
        "id": "Uqql-V_nxuPY"
      },
      "source": [
        "# model.save('/tmp/checkpoint/new_model.h5')"
      ],
      "execution_count": null,
      "outputs": []
    },
    {
      "cell_type": "code",
      "metadata": {
        "id": "CYFYJxBqyEls",
        "colab": {
          "base_uri": "https://localhost:8080/"
        },
        "outputId": "5e033034-93b0-4772-98d1-227e02c0c2f1"
      },
      "source": [
        "model.evaluate_generator(generator=val_ds, steps=val_ds.samples//batch_size)"
      ],
      "execution_count": 15,
      "outputs": [
        {
          "output_type": "stream",
          "name": "stderr",
          "text": [
            "/usr/local/lib/python3.7/dist-packages/keras/engine/training.py:2006: UserWarning: `Model.evaluate_generator` is deprecated and will be removed in a future version. Please use `Model.evaluate`, which supports generators.\n",
            "  warnings.warn('`Model.evaluate_generator` is deprecated and '\n"
          ]
        },
        {
          "output_type": "execute_result",
          "data": {
            "text/plain": [
              "[0.2538350820541382, 0.9504310488700867]"
            ]
          },
          "metadata": {},
          "execution_count": 15
        }
      ]
    },
    {
      "cell_type": "code",
      "metadata": {
        "colab": {
          "base_uri": "https://localhost:8080/"
        },
        "id": "opvoLR4VuK6F",
        "outputId": "223840ac-ce6e-4d32-99a4-7bcf665e8dd3"
      },
      "source": [
        "test_ds.reset() #maintain test order\n",
        "test_predictions = model.predict_generator(test_ds, test_ds.samples, verbose=1 )"
      ],
      "execution_count": 16,
      "outputs": [
        {
          "output_type": "stream",
          "name": "stderr",
          "text": [
            "/usr/local/lib/python3.7/dist-packages/keras/engine/training.py:2035: UserWarning: `Model.predict_generator` is deprecated and will be removed in a future version. Please use `Model.predict`, which supports generators.\n",
            "  warnings.warn('`Model.predict_generator` is deprecated and '\n"
          ]
        },
        {
          "output_type": "stream",
          "name": "stdout",
          "text": [
            "794/794 [==============================] - 134s 167ms/step\n"
          ]
        }
      ]
    },
    {
      "cell_type": "code",
      "metadata": {
        "id": "wQD-akxTwvE9"
      },
      "source": [
        "import numpy as np\n",
        "predicted_plant_type = np.argmax(test_predictions, axis=1)"
      ],
      "execution_count": 17,
      "outputs": []
    },
    {
      "cell_type": "code",
      "metadata": {
        "id": "c2OGPofAvqet"
      },
      "source": [
        "labels = (train_ds.class_indices)\n",
        "labels = dict((v,k) for k,v in labels.items())\n",
        "predictions = [labels[k] for k in predicted_plant_type]"
      ],
      "execution_count": 18,
      "outputs": []
    },
    {
      "cell_type": "code",
      "metadata": {
        "id": "X7SlkyN6zMh7"
      },
      "source": [
        "test_pred = []\n",
        "filenames=test_ds.filenames\n",
        "for name in range(len(filenames)):\n",
        "   test_pred.append(filenames[name].split('/')[1])\n",
        "\n",
        "results=pd.DataFrame({\"file\":test_pred,\n",
        "                      \"species\":predictions})\n",
        "results.to_csv(\"submission.csv\",index=False)"
      ],
      "execution_count": 19,
      "outputs": []
    }
  ]
}