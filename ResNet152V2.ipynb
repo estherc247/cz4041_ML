{
  "nbformat": 4,
  "nbformat_minor": 0,
  "metadata": {
    "colab": {
      "name": "ResNet152V2",
      "provenance": []
    },
    "kernelspec": {
      "name": "python3",
      "display_name": "Python 3"
    },
    "language_info": {
      "name": "python"
    },
    "accelerator": "GPU"
  },
  "cells": [
    {
      "cell_type": "code",
      "metadata": {
        "colab": {
          "base_uri": "https://localhost:8080/"
        },
        "id": "YqQW42O2TMZZ",
        "outputId": "b52d3d61-9460-45c2-8138-6b0d2e35db04"
      },
      "source": [
        "#Import data from Google Drive \n",
        "from google.colab import drive \n",
        "drive.mount('/content/gdrive/')"
      ],
      "execution_count": 1,
      "outputs": [
        {
          "output_type": "stream",
          "name": "stdout",
          "text": [
            "Mounted at /content/gdrive/\n"
          ]
        }
      ]
    },
    {
      "cell_type": "code",
      "metadata": {
        "id": "c4Sy3rCWTgOc"
      },
      "source": [
        "#Load Data\n",
        "import shutil\n",
        "data_dir_train = 'gdrive/MyDrive/CZ4041_Machine_Learning/plant_data/plant-seedlings-classification/train'\n",
        "data_dir_test = 'gdrive/MyDrive/CZ4041_Machine_Learning/plant_data/plant-seedlings-classification/test'\n",
        "\n",
        "destination = 'gdrive/MyDrive/CZ4041_Machine_Learning/plant_data/plant-seedlings-classification/test_data'"
      ],
      "execution_count": 2,
      "outputs": []
    },
    {
      "cell_type": "code",
      "metadata": {
        "id": "G-ZP5s1RUJoh"
      },
      "source": [
        "#Import Libraries \n",
        "import tensorflow as tf \n",
        "import keras\n",
        "from keras.preprocessing.image import ImageDataGenerator, array_to_img, img_to_array, load_img\n",
        "import pandas as pd \n",
        "from PIL import Image\n",
        "import glob\n",
        "import numpy as np"
      ],
      "execution_count": 3,
      "outputs": []
    },
    {
      "cell_type": "code",
      "metadata": {
        "id": "cOmR_FoNUW_f"
      },
      "source": [
        "#define parameters \n",
        "batch_size = 32\n",
        "img_width = 224\n",
        "img_height = 224 \n",
        "epochs = 20\n",
        "\n",
        "seed = 10\n",
        "tf.random.set_seed(seed)\n",
        "np.random.seed(seed)"
      ],
      "execution_count": 4,
      "outputs": []
    },
    {
      "cell_type": "code",
      "metadata": {
        "colab": {
          "base_uri": "https://localhost:8080/"
        },
        "id": "Nl05Vww9UhzY",
        "outputId": "574b38f5-05ea-43c6-89c0-2f9904bd0dec"
      },
      "source": [
        "#Split data \n",
        "\n",
        "train_image_data = ImageDataGenerator(\n",
        "    validation_split = 0.2,\n",
        "    rescale = 1.0/255.0,\n",
        "    horizontal_flip = True, \n",
        "    zoom_range=0.2, \n",
        "    shear_range = 0.2,\n",
        ")\n",
        "\n",
        "train_ds = train_image_data.flow_from_directory(\n",
        "  data_dir_train,\n",
        "  shuffle = True,\n",
        "  target_size=(img_height, img_width),\n",
        "  class_mode = 'categorical',\n",
        "  batch_size=batch_size,\n",
        "  subset=\"training\")\n",
        "\n",
        "val_ds = train_image_data.flow_from_directory(\n",
        "  data_dir_train,\n",
        "  shuffle = True,\n",
        "  target_size=(img_height, img_width),\n",
        "  class_mode = 'categorical',\n",
        "  batch_size=batch_size,\n",
        "  subset=\"validation\")"
      ],
      "execution_count": 5,
      "outputs": [
        {
          "output_type": "stream",
          "name": "stdout",
          "text": [
            "Found 3803 images belonging to 12 classes.\n",
            "Found 947 images belonging to 12 classes.\n"
          ]
        }
      ]
    },
    {
      "cell_type": "code",
      "metadata": {
        "id": "pf-y_Ar5dJIq"
      },
      "source": [
        "train_steps = train_ds.samples//batch_size\n",
        "val_steps = val_ds.samples//batch_size"
      ],
      "execution_count": 6,
      "outputs": []
    },
    {
      "cell_type": "code",
      "metadata": {
        "colab": {
          "base_uri": "https://localhost:8080/"
        },
        "id": "JTSzv9NkZ8IL",
        "outputId": "d185e4d7-1fe1-4aad-a082-221043476212"
      },
      "source": [
        "pip install Keras-Applications==1.0.8"
      ],
      "execution_count": 14,
      "outputs": [
        {
          "output_type": "stream",
          "name": "stdout",
          "text": [
            "Collecting Keras-Applications==1.0.8\n",
            "  Downloading Keras_Applications-1.0.8-py3-none-any.whl (50 kB)\n",
            "\u001b[?25l\r\u001b[K     |██████▌                         | 10 kB 23.3 MB/s eta 0:00:01\r\u001b[K     |█████████████                   | 20 kB 28.0 MB/s eta 0:00:01\r\u001b[K     |███████████████████▍            | 30 kB 30.1 MB/s eta 0:00:01\r\u001b[K     |█████████████████████████▉      | 40 kB 33.6 MB/s eta 0:00:01\r\u001b[K     |████████████████████████████████| 50 kB 7.3 MB/s \n",
            "\u001b[?25hRequirement already satisfied: h5py in /usr/local/lib/python3.7/dist-packages (from Keras-Applications==1.0.8) (3.1.0)\n",
            "Requirement already satisfied: numpy>=1.9.1 in /usr/local/lib/python3.7/dist-packages (from Keras-Applications==1.0.8) (1.19.5)\n",
            "Requirement already satisfied: cached-property in /usr/local/lib/python3.7/dist-packages (from h5py->Keras-Applications==1.0.8) (1.5.2)\n",
            "Installing collected packages: Keras-Applications\n",
            "Successfully installed Keras-Applications-1.0.8\n"
          ]
        }
      ]
    },
    {
      "cell_type": "code",
      "metadata": {
        "id": "XkHTxZFtbXQ_"
      },
      "source": [
        "from keras.applications import resnet"
      ],
      "execution_count": 7,
      "outputs": []
    },
    {
      "cell_type": "code",
      "metadata": {
        "colab": {
          "base_uri": "https://localhost:8080/"
        },
        "id": "e-ib3QQjU1gY",
        "outputId": "1e660714-82bb-4c6a-e062-466933f19bce"
      },
      "source": [
        "#Create Model\n",
        "model = tf.keras.Sequential([\n",
        "            tf.keras.applications.resnet_v2.ResNet152V2(input_shape=[224,224, 3], include_top=False, weights='imagenet'),\n",
        "            tf.keras.layers.Flatten(),\n",
        "            tf.keras.layers.Dense(128, activation='relu'),\n",
        "            tf.keras.layers.Dropout(0.3),\n",
        "            tf.keras.layers.Dense(64, activation='relu'),\n",
        "            tf.keras.layers.Dropout(0.2),\n",
        "            tf.keras.layers.Dense(12, activation='softmax')\n",
        "])\n",
        "\n",
        "model.summary()"
      ],
      "execution_count": 8,
      "outputs": [
        {
          "output_type": "stream",
          "name": "stdout",
          "text": [
            "Downloading data from https://storage.googleapis.com/tensorflow/keras-applications/resnet/resnet152v2_weights_tf_dim_ordering_tf_kernels_notop.h5\n",
            "234553344/234545216 [==============================] - 7s 0us/step\n",
            "234561536/234545216 [==============================] - 7s 0us/step\n",
            "Model: \"sequential\"\n",
            "_________________________________________________________________\n",
            "Layer (type)                 Output Shape              Param #   \n",
            "=================================================================\n",
            "resnet152v2 (Functional)     (None, 7, 7, 2048)        58331648  \n",
            "_________________________________________________________________\n",
            "flatten (Flatten)            (None, 100352)            0         \n",
            "_________________________________________________________________\n",
            "dense (Dense)                (None, 128)               12845184  \n",
            "_________________________________________________________________\n",
            "dropout (Dropout)            (None, 128)               0         \n",
            "_________________________________________________________________\n",
            "dense_1 (Dense)              (None, 64)                8256      \n",
            "_________________________________________________________________\n",
            "dropout_1 (Dropout)          (None, 64)                0         \n",
            "_________________________________________________________________\n",
            "dense_2 (Dense)              (None, 12)                780       \n",
            "=================================================================\n",
            "Total params: 71,185,868\n",
            "Trainable params: 71,042,124\n",
            "Non-trainable params: 143,744\n",
            "_________________________________________________________________\n"
          ]
        }
      ]
    },
    {
      "cell_type": "code",
      "metadata": {
        "id": "jjphuraqVRJD"
      },
      "source": [
        "from tensorflow.keras.optimizers import SGD\n",
        "model.compile(optimizer=SGD(learning_rate=0.0001, momentum=0.9), loss='categorical_crossentropy', metrics=['accuracy'])\n",
        "\n",
        "#Save model checkpoint\n",
        "checkpoint_filepath = '/tmp/checkpoint'\n",
        "model_checkpoint_callback = tf.keras.callbacks.ModelCheckpoint(\n",
        "    filepath=checkpoint_filepath,\n",
        "    monitor='val_accuracy',\n",
        "    mode='max',\n",
        "    save_best_only=True)"
      ],
      "execution_count": 9,
      "outputs": []
    },
    {
      "cell_type": "code",
      "metadata": {
        "colab": {
          "base_uri": "https://localhost:8080/"
        },
        "id": "4sYCjiRxVcQf",
        "outputId": "502c20c1-73c1-4938-cf10-c75cd5380a89"
      },
      "source": [
        "#Train Model\n",
        "history = model.fit_generator(\n",
        "                train_ds,\n",
        "                steps_per_epoch = train_steps,\n",
        "                validation_data = val_ds, \n",
        "                validation_steps = val_steps,\n",
        "                epochs = epochs)"
      ],
      "execution_count": 10,
      "outputs": [
        {
          "output_type": "stream",
          "name": "stderr",
          "text": [
            "/usr/local/lib/python3.7/dist-packages/keras/engine/training.py:1972: UserWarning: `Model.fit_generator` is deprecated and will be removed in a future version. Please use `Model.fit`, which supports generators.\n",
            "  warnings.warn('`Model.fit_generator` is deprecated and '\n"
          ]
        },
        {
          "output_type": "stream",
          "name": "stdout",
          "text": [
            "Epoch 1/20\n",
            "118/118 [==============================] - 3460s 29s/step - loss: 2.3259 - accuracy: 0.2403 - val_loss: 1.9849 - val_accuracy: 0.3556\n",
            "Epoch 2/20\n",
            "118/118 [==============================] - 218s 2s/step - loss: 1.4301 - accuracy: 0.5354 - val_loss: 1.0555 - val_accuracy: 0.6821\n",
            "Epoch 3/20\n",
            "118/118 [==============================] - 218s 2s/step - loss: 0.9249 - accuracy: 0.6985 - val_loss: 0.5592 - val_accuracy: 0.8394\n",
            "Epoch 4/20\n",
            "118/118 [==============================] - 218s 2s/step - loss: 0.7088 - accuracy: 0.7783 - val_loss: 0.4281 - val_accuracy: 0.8793\n",
            "Epoch 5/20\n",
            "118/118 [==============================] - 218s 2s/step - loss: 0.5478 - accuracy: 0.8250 - val_loss: 0.4090 - val_accuracy: 0.8707\n",
            "Epoch 6/20\n",
            "118/118 [==============================] - 219s 2s/step - loss: 0.4546 - accuracy: 0.8478 - val_loss: 0.3346 - val_accuracy: 0.9052\n",
            "Epoch 7/20\n",
            "118/118 [==============================] - 219s 2s/step - loss: 0.3838 - accuracy: 0.8780 - val_loss: 0.3313 - val_accuracy: 0.9019\n",
            "Epoch 8/20\n",
            "118/118 [==============================] - 218s 2s/step - loss: 0.3212 - accuracy: 0.8921 - val_loss: 0.2989 - val_accuracy: 0.9041\n",
            "Epoch 9/20\n",
            "118/118 [==============================] - 218s 2s/step - loss: 0.3075 - accuracy: 0.8990 - val_loss: 0.3285 - val_accuracy: 0.8890\n",
            "Epoch 10/20\n",
            "118/118 [==============================] - 218s 2s/step - loss: 0.2603 - accuracy: 0.9125 - val_loss: 0.3415 - val_accuracy: 0.8998\n",
            "Epoch 11/20\n",
            "118/118 [==============================] - 219s 2s/step - loss: 0.2316 - accuracy: 0.9186 - val_loss: 0.2982 - val_accuracy: 0.9246\n",
            "Epoch 12/20\n",
            "118/118 [==============================] - 218s 2s/step - loss: 0.2057 - accuracy: 0.9348 - val_loss: 0.3095 - val_accuracy: 0.9084\n",
            "Epoch 13/20\n",
            "118/118 [==============================] - 218s 2s/step - loss: 0.1961 - accuracy: 0.9348 - val_loss: 0.3007 - val_accuracy: 0.9235\n",
            "Epoch 14/20\n",
            "118/118 [==============================] - 219s 2s/step - loss: 0.1742 - accuracy: 0.9409 - val_loss: 0.2664 - val_accuracy: 0.9289\n",
            "Epoch 15/20\n",
            "118/118 [==============================] - 219s 2s/step - loss: 0.1567 - accuracy: 0.9483 - val_loss: 0.2743 - val_accuracy: 0.9246\n",
            "Epoch 16/20\n",
            "118/118 [==============================] - 217s 2s/step - loss: 0.1384 - accuracy: 0.9507 - val_loss: 0.2738 - val_accuracy: 0.9224\n",
            "Epoch 17/20\n",
            "118/118 [==============================] - 217s 2s/step - loss: 0.1471 - accuracy: 0.9451 - val_loss: 0.2796 - val_accuracy: 0.9278\n",
            "Epoch 18/20\n",
            "118/118 [==============================] - 217s 2s/step - loss: 0.1339 - accuracy: 0.9491 - val_loss: 0.2782 - val_accuracy: 0.9224\n",
            "Epoch 19/20\n",
            "118/118 [==============================] - 217s 2s/step - loss: 0.1201 - accuracy: 0.9605 - val_loss: 0.2838 - val_accuracy: 0.9213\n",
            "Epoch 20/20\n",
            "118/118 [==============================] - 217s 2s/step - loss: 0.1094 - accuracy: 0.9613 - val_loss: 0.2865 - val_accuracy: 0.9310\n"
          ]
        }
      ]
    },
    {
      "cell_type": "code",
      "metadata": {
        "colab": {
          "base_uri": "https://localhost:8080/",
          "height": 499
        },
        "id": "fZyH4ALmdQES",
        "outputId": "4e0914f9-a161-4ad1-db6c-da4f9dbe97b7"
      },
      "source": [
        "import matplotlib.pyplot as plt\n",
        "acc = history.history['accuracy']\n",
        "val_acc = history.history['val_accuracy']\n",
        "\n",
        "loss = history.history['loss']\n",
        "val_loss = history.history['val_loss']\n",
        "\n",
        "epochs_range = range(epochs)\n",
        "\n",
        "plt.figure(figsize=(8, 8))\n",
        "plt.subplot(1, 2, 1)\n",
        "plt.plot(epochs_range, acc, label='Training Accuracy')\n",
        "plt.plot(epochs_range, val_acc, label='Validation Accuracy')\n",
        "plt.legend(loc='lower right')\n",
        "plt.title('Training and Validation Accuracy')\n",
        "\n",
        "plt.subplot(1, 2, 2)\n",
        "plt.plot(epochs_range, loss, label='Training Loss')\n",
        "plt.plot(epochs_range, val_loss, label='Validation Loss')\n",
        "plt.legend(loc='upper right')\n",
        "plt.title('Training and Validation Loss')\n",
        "plt.show()"
      ],
      "execution_count": 11,
      "outputs": [
        {
          "output_type": "display_data",
          "data": {
            "image/png": "[encoded data removed]",
            "text/plain": [
              "<Figure size 576x576 with 2 Axes>"
            ]
          },
          "metadata": {
            "needs_background": "light"
          }
        }
      ]
    },
    {
      "cell_type": "code",
      "metadata": {
        "colab": {
          "base_uri": "https://localhost:8080/"
        },
        "id": "_f2FVu6ddVPn",
        "outputId": "bd784777-6f1a-41e5-a6b0-96efd2cdccba"
      },
      "source": [
        "#Apply model to test set \n",
        "#Initialise test generator\n",
        "test_image_data = ImageDataGenerator(rescale=1./255)\n",
        "test_ds = test_image_data.flow_from_directory(destination,\n",
        "                                              target_size=(img_height,img_width),\n",
        "                                              batch_size = 1,\n",
        "                                              class_mode ='categorical',\n",
        "                                              shuffle = False)"
      ],
      "execution_count": 13,
      "outputs": [
        {
          "output_type": "stream",
          "name": "stdout",
          "text": [
            "Found 794 images belonging to 1 classes.\n"
          ]
        }
      ]
    },
    {
      "cell_type": "code",
      "metadata": {
        "colab": {
          "base_uri": "https://localhost:8080/"
        },
        "id": "85nMh_Xsd3cS",
        "outputId": "ed6eb8ac-4082-430f-abf8-f0b654c51bbd"
      },
      "source": [
        "model.evaluate_generator(generator=val_ds, steps=val_steps)"
      ],
      "execution_count": 14,
      "outputs": [
        {
          "output_type": "stream",
          "name": "stderr",
          "text": [
            "/usr/local/lib/python3.7/dist-packages/keras/engine/training.py:2006: UserWarning: `Model.evaluate_generator` is deprecated and will be removed in a future version. Please use `Model.evaluate`, which supports generators.\n",
            "  warnings.warn('`Model.evaluate_generator` is deprecated and '\n"
          ]
        },
        {
          "output_type": "execute_result",
          "data": {
            "text/plain": [
              "[0.30122876167297363, 0.9267241358757019]"
            ]
          },
          "metadata": {},
          "execution_count": 14
        }
      ]
    },
    {
      "cell_type": "code",
      "metadata": {
        "colab": {
          "base_uri": "https://localhost:8080/"
        },
        "id": "p0VvjSJPd5O2",
        "outputId": "7b2491c7-1287-444d-a5c5-bacd15ff2f75"
      },
      "source": [
        "test_ds.reset() #maintain test order\n",
        "test_predictions = model.predict_generator(test_ds, test_ds.samples, verbose=1 )"
      ],
      "execution_count": 15,
      "outputs": [
        {
          "output_type": "stream",
          "name": "stderr",
          "text": [
            "/usr/local/lib/python3.7/dist-packages/keras/engine/training.py:2035: UserWarning: `Model.predict_generator` is deprecated and will be removed in a future version. Please use `Model.predict`, which supports generators.\n",
            "  warnings.warn('`Model.predict_generator` is deprecated and '\n"
          ]
        },
        {
          "output_type": "stream",
          "name": "stdout",
          "text": [
            "794/794 [==============================] - 468s 585ms/step\n"
          ]
        }
      ]
    },
    {
      "cell_type": "code",
      "metadata": {
        "id": "TgGPjCQMeDje"
      },
      "source": [
        "predicted_plant_type = np.argmax(test_predictions, axis=1)"
      ],
      "execution_count": 16,
      "outputs": []
    },
    {
      "cell_type": "code",
      "metadata": {
        "id": "6NRfBqMzeD-i"
      },
      "source": [
        "labels = (train_ds.class_indices)\n",
        "labels = dict((v,k) for k,v in labels.items())\n",
        "predictions = [labels[k] for k in predicted_plant_type]"
      ],
      "execution_count": 17,
      "outputs": []
    },
    {
      "cell_type": "code",
      "metadata": {
        "id": "acMvRWgaed8k"
      },
      "source": [
        "test_pred = []\n",
        "filenames=test_ds.filenames\n",
        "for name in range(len(filenames)):\n",
        "    test_pred.append(filenames[name].split('/')[1])\n",
        "\n",
        "results=pd.DataFrame({\"file\":test_pred,\n",
        "                      \"species\":predictions})\n",
        "results.to_csv(\"submission.csv\",index=False)"
      ],
      "execution_count": 18,
      "outputs": []
    }
  ]
}