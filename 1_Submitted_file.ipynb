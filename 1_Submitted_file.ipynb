{
  "nbformat": 4,
  "nbformat_minor": 0,
  "metadata": {
    "colab": {
      "name": "Testing.ipynb",
      "provenance": [],
      "authorship_tag": "ABX9TyOKe9nn1VhCrPKMbRm0lIZp",
      "include_colab_link": true
    },
    "kernelspec": {
      "name": "python3",
      "display_name": "Python 3"
    },
    "language_info": {
      "name": "python"
    },
    "accelerator": "GPU"
  },
  "cells": [
    {
      "cell_type": "markdown",
      "metadata": {
        "id": "view-in-github",
        "colab_type": "text"
      },
      "source": [
        "<a href=\"https://colab.research.google.com/github/estherc247/cz4041_ML/blob/main/1_Submitted_file.ipynb\" target=\"_parent\"><img src=\"https://colab.research.google.com/assets/colab-badge.svg\" alt=\"Open In Colab\"/></a>"
      ]
    },
    {
      "cell_type": "code",
      "metadata": {
        "id": "ahucwTKV-hdX",
        "colab": {
          "base_uri": "https://localhost:8080/"
        },
        "outputId": "7c626f59-cd34-426a-d96f-c7d8f1524269"
      },
      "source": [
        "#Import data from Google Drive \n",
        "from google.colab import drive \n",
        "drive.mount('/content/gdrive/')"
      ],
      "execution_count": 1,
      "outputs": [
        {
          "output_type": "stream",
          "name": "stdout",
          "text": [
            "Drive already mounted at /content/gdrive/; to attempt to forcibly remount, call drive.mount(\"/content/gdrive/\", force_remount=True).\n"
          ]
        }
      ]
    },
    {
      "cell_type": "code",
      "metadata": {
        "id": "74kuSrWJ-kjv"
      },
      "source": [
        "#Load Data\n",
        "data_dir_train = '/content/gdrive/MyDrive/Y4/CZ4041_Machine_Learning/plant_data/train.zip'\n",
        "data_dir_test = '/content/gdrive/MyDrive/Y4/CZ4041_Machine_Learning/plant_data/test.zip'\n",
        "\n",
        "#Import the libraries\n",
        "import zipfile\n",
        "import os\n",
        "\n",
        "zip_ref = zipfile.ZipFile(data_dir_train, 'r') #Opens the zip file in read mode\n",
        "zip_test = zipfile.ZipFile(data_dir_test, 'r')\n",
        "zip_ref.extractall('/tmp') #Extracts the files into the /tmp folder\n",
        "zip_test.extractall('/tmp/test')\n",
        "zip_ref.close()\n",
        "zip_test.close()"
      ],
      "execution_count": 7,
      "outputs": []
    },
    {
      "cell_type": "code",
      "metadata": {
        "id": "X4a9hKAN-mf7"
      },
      "source": [
        "#Import Libraries \n",
        "import tensorflow as tf \n",
        "import keras\n",
        "from keras.preprocessing.image import ImageDataGenerator, array_to_img, img_to_array, load_img\n",
        "import pandas as pd \n",
        "from PIL import Image\n",
        "import glob"
      ],
      "execution_count": 3,
      "outputs": []
    },
    {
      "cell_type": "code",
      "metadata": {
        "id": "8tcD9lxSMFqF"
      },
      "source": [
        "#Define directory path\n",
        "train_url = '/tmp/train'\n",
        "test_url ='/tmp/test'"
      ],
      "execution_count": 4,
      "outputs": []
    },
    {
      "cell_type": "code",
      "metadata": {
        "id": "m0hamnK_Fx9B"
      },
      "source": [
        "#define parameters \n",
        "batch_size = 32\n",
        "img_width = 240\n",
        "img_height = 240 \n",
        "epochs = 20"
      ],
      "execution_count": 5,
      "outputs": []
    },
    {
      "cell_type": "code",
      "metadata": {
        "colab": {
          "base_uri": "https://localhost:8080/"
        },
        "id": "TG19hTBqKuIm",
        "outputId": "a49438ac-acfa-45f1-b757-ef699f2b8548"
      },
      "source": [
        "#Split data \n",
        "\n",
        "train_image_data = ImageDataGenerator(\n",
        "    validation_split = 0.2,\n",
        "    rescale = 1.0/255.0,\n",
        "    horizontal_flip = True, \n",
        "    zoom_range=0.2, \n",
        "    shear_range = 0.2,\n",
        ")\n",
        "\n",
        "train_ds = train_image_data.flow_from_directory(\n",
        "  train_url,\n",
        "  shuffle = True,\n",
        "  target_size=(img_height, img_width),\n",
        "  class_mode = 'categorical',\n",
        "  batch_size=batch_size,\n",
        "  subset=\"training\")\n",
        "\n",
        "val_ds = train_image_data.flow_from_directory(\n",
        "  train_url,\n",
        "  shuffle = True,\n",
        "  target_size=(img_height, img_width),\n",
        "  class_mode = 'categorical',\n",
        "  batch_size=batch_size,\n",
        "  subset=\"validation\")"
      ],
      "execution_count": 6,
      "outputs": [
        {
          "output_type": "stream",
          "name": "stdout",
          "text": [
            "Found 3803 images belonging to 12 classes.\n",
            "Found 947 images belonging to 12 classes.\n"
          ]
        }
      ]
    },
    {
      "cell_type": "code",
      "metadata": {
        "colab": {
          "base_uri": "https://localhost:8080/"
        },
        "id": "5rypX8Z5R94Y",
        "outputId": "82bc7fa7-ed9f-4be3-eac9-1fa861a33222"
      },
      "source": [
        "#Create Model\n",
        "from tensorflow.keras.applications.xception import Xception\n",
        "\n",
        "model = tf.keras.Sequential([\n",
        "            Xception(input_shape=[240,240, 3], include_top=False, weights='imagenet'),\n",
        "            tf.keras.layers.Flatten(),\n",
        "            tf.keras.layers.Dense(128, activation='relu'),\n",
        "            tf.keras.layers.Dropout(0.2),\n",
        "            tf.keras.layers.Dense(12, activation='softmax')\n",
        "])\n",
        "\n",
        "model.trainable = True\n",
        "model.get_layer('xception').trainable\n",
        "model.summary()"
      ],
      "execution_count": 7,
      "outputs": [
        {
          "output_type": "stream",
          "name": "stdout",
          "text": [
            "Model: \"sequential\"\n",
            "_________________________________________________________________\n",
            "Layer (type)                 Output Shape              Param #   \n",
            "=================================================================\n",
            "xception (Functional)        (None, 8, 8, 2048)        20861480  \n",
            "_________________________________________________________________\n",
            "flatten (Flatten)            (None, 131072)            0         \n",
            "_________________________________________________________________\n",
            "dense (Dense)                (None, 128)               16777344  \n",
            "_________________________________________________________________\n",
            "dropout (Dropout)            (None, 128)               0         \n",
            "_________________________________________________________________\n",
            "dense_1 (Dense)              (None, 12)                1548      \n",
            "=================================================================\n",
            "Total params: 37,640,372\n",
            "Trainable params: 37,585,844\n",
            "Non-trainable params: 54,528\n",
            "_________________________________________________________________\n"
          ]
        }
      ]
    },
    {
      "cell_type": "code",
      "metadata": {
        "id": "qRqPKi5MSttB"
      },
      "source": [
        "#Compile model \n",
        "model.compile(optimizer='adam', loss='categorical_crossentropy', metrics=['accuracy'])"
      ],
      "execution_count": 8,
      "outputs": []
    },
    {
      "cell_type": "code",
      "metadata": {
        "id": "-n0g6cDRTS9d"
      },
      "source": [
        "#Save model checkpoint\n",
        "checkpoint_filepath = '/tmp/checkpoint'\n",
        "model_checkpoint_callback = tf.keras.callbacks.ModelCheckpoint(\n",
        "    filepath=checkpoint_filepath,\n",
        "    monitor='val_accuracy',\n",
        "    mode='max',\n",
        "    save_best_only=True)"
      ],
      "execution_count": 9,
      "outputs": []
    },
    {
      "cell_type": "code",
      "metadata": {
        "colab": {
          "base_uri": "https://localhost:8080/"
        },
        "id": "25-lffHnRFNo",
        "outputId": "487d3623-2fbc-4af7-e6c5-ca73694cdb66"
      },
      "source": [
        "history = model.fit_generator(\n",
        "                train_ds,\n",
        "                steps_per_epoch = train_ds.samples//batch_size,\n",
        "                validation_data = val_ds, \n",
        "                validation_steps = val_ds.samples//batch_size,\n",
        "                epochs = epochs,\n",
        "                callbacks=[model_checkpoint_callback])"
      ],
      "execution_count": 10,
      "outputs": [
        {
          "output_type": "stream",
          "name": "stderr",
          "text": [
            "/usr/local/lib/python3.7/dist-packages/keras/engine/training.py:1972: UserWarning: `Model.fit_generator` is deprecated and will be removed in a future version. Please use `Model.fit`, which supports generators.\n",
            "  warnings.warn('`Model.fit_generator` is deprecated and '\n"
          ]
        },
        {
          "output_type": "stream",
          "name": "stdout",
          "text": [
            "Epoch 1/20\n",
            "118/118 [==============================] - 225s 2s/step - loss: 2.4790 - accuracy: 0.2487 - val_loss: 4.3247 - val_accuracy: 0.3330\n",
            "INFO:tensorflow:Assets written to: /tmp/checkpoint/assets\n"
          ]
        },
        {
          "output_type": "stream",
          "name": "stderr",
          "text": [
            "/usr/local/lib/python3.7/dist-packages/keras/utils/generic_utils.py:497: CustomMaskWarning: Custom mask layers require a config and must override get_config. When loading, the custom mask layer must be passed to the custom_objects argument.\n",
            "  category=CustomMaskWarning)\n"
          ]
        },
        {
          "output_type": "stream",
          "name": "stdout",
          "text": [
            "Epoch 2/20\n",
            "118/118 [==============================] - 210s 2s/step - loss: 0.8925 - accuracy: 0.7043 - val_loss: 1.1269 - val_accuracy: 0.6778\n",
            "INFO:tensorflow:Assets written to: /tmp/checkpoint/assets\n"
          ]
        },
        {
          "output_type": "stream",
          "name": "stderr",
          "text": [
            "/usr/local/lib/python3.7/dist-packages/keras/utils/generic_utils.py:497: CustomMaskWarning: Custom mask layers require a config and must override get_config. When loading, the custom mask layer must be passed to the custom_objects argument.\n",
            "  category=CustomMaskWarning)\n"
          ]
        },
        {
          "output_type": "stream",
          "name": "stdout",
          "text": [
            "Epoch 3/20\n",
            "118/118 [==============================] - 211s 2s/step - loss: 0.3878 - accuracy: 0.8709 - val_loss: 0.3957 - val_accuracy: 0.8685\n",
            "INFO:tensorflow:Assets written to: /tmp/checkpoint/assets\n"
          ]
        },
        {
          "output_type": "stream",
          "name": "stderr",
          "text": [
            "/usr/local/lib/python3.7/dist-packages/keras/utils/generic_utils.py:497: CustomMaskWarning: Custom mask layers require a config and must override get_config. When loading, the custom mask layer must be passed to the custom_objects argument.\n",
            "  category=CustomMaskWarning)\n"
          ]
        },
        {
          "output_type": "stream",
          "name": "stdout",
          "text": [
            "Epoch 4/20\n",
            "118/118 [==============================] - 226s 2s/step - loss: 0.3400 - accuracy: 0.8862 - val_loss: 1.7423 - val_accuracy: 0.7608\n",
            "Epoch 5/20\n",
            "118/118 [==============================] - 226s 2s/step - loss: 0.2833 - accuracy: 0.9109 - val_loss: 1.7012 - val_accuracy: 0.7543\n",
            "Epoch 6/20\n",
            "118/118 [==============================] - 209s 2s/step - loss: 0.3172 - accuracy: 0.9053 - val_loss: 3.9774 - val_accuracy: 0.6530\n",
            "Epoch 7/20\n",
            "118/118 [==============================] - 210s 2s/step - loss: 0.3024 - accuracy: 0.9165 - val_loss: 0.4979 - val_accuracy: 0.8847\n",
            "INFO:tensorflow:Assets written to: /tmp/checkpoint/assets\n"
          ]
        },
        {
          "output_type": "stream",
          "name": "stderr",
          "text": [
            "/usr/local/lib/python3.7/dist-packages/keras/utils/generic_utils.py:497: CustomMaskWarning: Custom mask layers require a config and must override get_config. When loading, the custom mask layer must be passed to the custom_objects argument.\n",
            "  category=CustomMaskWarning)\n"
          ]
        },
        {
          "output_type": "stream",
          "name": "stdout",
          "text": [
            "Epoch 8/20\n",
            "118/118 [==============================] - 210s 2s/step - loss: 0.2283 - accuracy: 0.9340 - val_loss: 1.1022 - val_accuracy: 0.7478\n",
            "Epoch 9/20\n",
            "118/118 [==============================] - 210s 2s/step - loss: 0.1877 - accuracy: 0.9393 - val_loss: 0.4727 - val_accuracy: 0.8869\n",
            "INFO:tensorflow:Assets written to: /tmp/checkpoint/assets\n"
          ]
        },
        {
          "output_type": "stream",
          "name": "stderr",
          "text": [
            "/usr/local/lib/python3.7/dist-packages/keras/utils/generic_utils.py:497: CustomMaskWarning: Custom mask layers require a config and must override get_config. When loading, the custom mask layer must be passed to the custom_objects argument.\n",
            "  category=CustomMaskWarning)\n"
          ]
        },
        {
          "output_type": "stream",
          "name": "stdout",
          "text": [
            "Epoch 10/20\n",
            "118/118 [==============================] - 209s 2s/step - loss: 0.4004 - accuracy: 0.8966 - val_loss: 6.5943 - val_accuracy: 0.6778\n",
            "Epoch 11/20\n",
            "118/118 [==============================] - 209s 2s/step - loss: 0.2398 - accuracy: 0.9265 - val_loss: 0.3450 - val_accuracy: 0.9256\n",
            "INFO:tensorflow:Assets written to: /tmp/checkpoint/assets\n"
          ]
        },
        {
          "output_type": "stream",
          "name": "stderr",
          "text": [
            "/usr/local/lib/python3.7/dist-packages/keras/utils/generic_utils.py:497: CustomMaskWarning: Custom mask layers require a config and must override get_config. When loading, the custom mask layer must be passed to the custom_objects argument.\n",
            "  category=CustomMaskWarning)\n"
          ]
        },
        {
          "output_type": "stream",
          "name": "stdout",
          "text": [
            "Epoch 12/20\n",
            "118/118 [==============================] - 208s 2s/step - loss: 0.1818 - accuracy: 0.9422 - val_loss: 0.4456 - val_accuracy: 0.9041\n",
            "Epoch 13/20\n",
            "118/118 [==============================] - 208s 2s/step - loss: 0.1768 - accuracy: 0.9467 - val_loss: 0.6871 - val_accuracy: 0.9062\n",
            "Epoch 14/20\n",
            "118/118 [==============================] - 209s 2s/step - loss: 0.2393 - accuracy: 0.9295 - val_loss: 0.7224 - val_accuracy: 0.8427\n",
            "Epoch 15/20\n",
            "118/118 [==============================] - 209s 2s/step - loss: 0.1578 - accuracy: 0.9486 - val_loss: 0.4769 - val_accuracy: 0.8987\n",
            "Epoch 16/20\n",
            "118/118 [==============================] - 209s 2s/step - loss: 0.1337 - accuracy: 0.9626 - val_loss: 0.2540 - val_accuracy: 0.9418\n",
            "INFO:tensorflow:Assets written to: /tmp/checkpoint/assets\n"
          ]
        },
        {
          "output_type": "stream",
          "name": "stderr",
          "text": [
            "/usr/local/lib/python3.7/dist-packages/keras/utils/generic_utils.py:497: CustomMaskWarning: Custom mask layers require a config and must override get_config. When loading, the custom mask layer must be passed to the custom_objects argument.\n",
            "  category=CustomMaskWarning)\n"
          ]
        },
        {
          "output_type": "stream",
          "name": "stdout",
          "text": [
            "Epoch 17/20\n",
            "118/118 [==============================] - 224s 2s/step - loss: 0.2104 - accuracy: 0.9470 - val_loss: 1.2876 - val_accuracy: 0.7489\n",
            "Epoch 18/20\n",
            "118/118 [==============================] - 225s 2s/step - loss: 0.1735 - accuracy: 0.9504 - val_loss: 0.3044 - val_accuracy: 0.9062\n",
            "Epoch 19/20\n",
            "118/118 [==============================] - 207s 2s/step - loss: 0.1022 - accuracy: 0.9690 - val_loss: 0.2061 - val_accuracy: 0.9537\n",
            "INFO:tensorflow:Assets written to: /tmp/checkpoint/assets\n"
          ]
        },
        {
          "output_type": "stream",
          "name": "stderr",
          "text": [
            "/usr/local/lib/python3.7/dist-packages/keras/utils/generic_utils.py:497: CustomMaskWarning: Custom mask layers require a config and must override get_config. When loading, the custom mask layer must be passed to the custom_objects argument.\n",
            "  category=CustomMaskWarning)\n"
          ]
        },
        {
          "output_type": "stream",
          "name": "stdout",
          "text": [
            "Epoch 20/20\n",
            "118/118 [==============================] - 224s 2s/step - loss: 0.0786 - accuracy: 0.9745 - val_loss: 0.2234 - val_accuracy: 0.9580\n",
            "INFO:tensorflow:Assets written to: /tmp/checkpoint/assets\n"
          ]
        },
        {
          "output_type": "stream",
          "name": "stderr",
          "text": [
            "/usr/local/lib/python3.7/dist-packages/keras/utils/generic_utils.py:497: CustomMaskWarning: Custom mask layers require a config and must override get_config. When loading, the custom mask layer must be passed to the custom_objects argument.\n",
            "  category=CustomMaskWarning)\n"
          ]
        }
      ]
    },
    {
      "cell_type": "code",
      "metadata": {
        "colab": {
          "base_uri": "https://localhost:8080/",
          "height": 499
        },
        "id": "h9NblRt6yRxz",
        "outputId": "ff684e50-afc8-45bd-fa57-0bdea943b190"
      },
      "source": [
        "import matplotlib.pyplot as plt\n",
        "acc = history.history['accuracy']\n",
        "val_acc = history.history['val_accuracy']\n",
        "\n",
        "loss = history.history['loss']\n",
        "val_loss = history.history['val_loss']\n",
        "\n",
        "epochs_range = range(epochs)\n",
        "\n",
        "plt.figure(figsize=(8, 8))\n",
        "plt.subplot(1, 2, 1)\n",
        "plt.plot(epochs_range, acc, label='Training Accuracy')\n",
        "plt.plot(epochs_range, val_acc, label='Validation Accuracy')\n",
        "plt.legend(loc='lower right')\n",
        "plt.title('Training and Validation Accuracy')\n",
        "\n",
        "plt.subplot(1, 2, 2)\n",
        "plt.plot(epochs_range, loss, label='Training Loss')\n",
        "plt.plot(epochs_range, val_loss, label='Validation Loss')\n",
        "plt.legend(loc='upper right')\n",
        "plt.title('Training and Validation Loss')\n",
        "plt.show()"
      ],
      "execution_count": 11,
      "outputs": [
        {
          "output_type": "display_data",
          "data": {
            "image/png": "[encoded data removed]",
            "text/plain": [
              "<Figure size 576x576 with 2 Axes>"
            ]
          },
          "metadata": {
            "needs_background": "light"
          }
        }
      ]
    },
    {
      "cell_type": "code",
      "metadata": {
        "colab": {
          "base_uri": "https://localhost:8080/"
        },
        "id": "LnBfornvsQlX",
        "outputId": "6d734ebd-d737-4da7-b730-7ad9fea25fbe"
      },
      "source": [
        "#Apply model to test set \n",
        "#Initialise test generator\n",
        "test_image_data = ImageDataGenerator(rescale=1./255)\n",
        "test_ds = test_image_data.flow_from_directory('/tmp/test/',\n",
        "                                              target_size=(img_height,img_width),\n",
        "                                              batch_size = 1,\n",
        "                                              class_mode ='categorical',\n",
        "                                              shuffle = False)"
      ],
      "execution_count": 28,
      "outputs": [
        {
          "output_type": "stream",
          "name": "stdout",
          "text": [
            "Found 794 images belonging to 1 classes.\n"
          ]
        }
      ]
    },
    {
      "cell_type": "code",
      "metadata": {
        "id": "Uqql-V_nxuPY"
      },
      "source": [
        "# model.save('/tmp/checkpoint/new_model.h5')"
      ],
      "execution_count": null,
      "outputs": []
    },
    {
      "cell_type": "code",
      "metadata": {
        "id": "CYFYJxBqyEls",
        "colab": {
          "base_uri": "https://localhost:8080/"
        },
        "outputId": "a79864d6-dea9-4902-b263-f8c9fcdd6eb2"
      },
      "source": [
        "model.evaluate_generator(generator=val_ds, steps=val_ds.samples//batch_size)"
      ],
      "execution_count": 29,
      "outputs": [
        {
          "output_type": "stream",
          "name": "stderr",
          "text": [
            "/usr/local/lib/python3.7/dist-packages/keras/engine/training.py:2006: UserWarning: `Model.evaluate_generator` is deprecated and will be removed in a future version. Please use `Model.evaluate`, which supports generators.\n",
            "  warnings.warn('`Model.evaluate_generator` is deprecated and '\n"
          ]
        },
        {
          "output_type": "execute_result",
          "data": {
            "text/plain": [
              "[0.22360488772392273, 0.9601293206214905]"
            ]
          },
          "metadata": {},
          "execution_count": 29
        }
      ]
    },
    {
      "cell_type": "code",
      "metadata": {
        "colab": {
          "base_uri": "https://localhost:8080/"
        },
        "id": "opvoLR4VuK6F",
        "outputId": "7d2b7ae1-3c54-4740-be60-fdd5b947bbc9"
      },
      "source": [
        "test_ds.reset() #maintain test order\n",
        "test_predictions = model.predict_generator(test_ds, test_ds.samples, verbose=1 )"
      ],
      "execution_count": 30,
      "outputs": [
        {
          "output_type": "stream",
          "name": "stderr",
          "text": [
            "/usr/local/lib/python3.7/dist-packages/keras/engine/training.py:2035: UserWarning: `Model.predict_generator` is deprecated and will be removed in a future version. Please use `Model.predict`, which supports generators.\n",
            "  warnings.warn('`Model.predict_generator` is deprecated and '\n"
          ]
        },
        {
          "output_type": "stream",
          "name": "stdout",
          "text": [
            "794/794 [==============================] - 18s 21ms/step\n"
          ]
        }
      ]
    },
    {
      "cell_type": "code",
      "metadata": {
        "id": "wQD-akxTwvE9"
      },
      "source": [
        "import numpy as np\n",
        "predicted_plant_type = np.argmax(test_predictions, axis=1)"
      ],
      "execution_count": 32,
      "outputs": []
    },
    {
      "cell_type": "code",
      "metadata": {
        "id": "c2OGPofAvqet"
      },
      "source": [
        "labels = (train_ds.class_indices)\n",
        "labels = dict((v,k) for k,v in labels.items())\n",
        "predictions = [labels[k] for k in predicted_plant_type]"
      ],
      "execution_count": 33,
      "outputs": []
    },
    {
      "cell_type": "code",
      "metadata": {
        "id": "X7SlkyN6zMh7"
      },
      "source": [
        "test_pred = []\n",
        "filenames=test_ds.filenames\n",
        "for name in range(len(filenames)):\n",
        "   test_pred.append(filenames[name].split('/')[1])\n",
        "\n",
        "results=pd.DataFrame({\"file\":test_pred,\n",
        "                      \"species\":predictions})\n",
        "results.to_csv(\"submission.csv\",index=False)"
      ],
      "execution_count": 38,
      "outputs": []
    }
  ]
}